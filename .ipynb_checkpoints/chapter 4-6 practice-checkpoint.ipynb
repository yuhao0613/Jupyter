{
 "cells": [
  {
   "cell_type": "markdown",
   "metadata": {},
   "source": [
    "# 4-6章的练习题"
   ]
  },
  {
   "cell_type": "code",
   "execution_count": 3,
   "metadata": {},
   "outputs": [
    {
     "name": "stdout",
     "output_type": "stream",
     "text": [
      "I love pizza a\n",
      "I love pizza b\n",
      "I love pizza c\n",
      "I really love pizza.\n"
     ]
    }
   ],
   "source": [
    "pizzas = ['a','b','c']\n",
    "for pizza in pizzas:\n",
    "    print(\"I love pizza \" + pizza)\n",
    "print(\"I really love pizza.\")"
   ]
  },
  {
   "cell_type": "code",
   "execution_count": 38,
   "metadata": {},
   "outputs": [
    {
     "name": "stdout",
     "output_type": "stream",
     "text": [
      "1\n",
      "2\n",
      "3\n",
      "4\n",
      "5\n",
      "6\n",
      "7\n",
      "8\n",
      "9\n",
      "10\n",
      "[1, 2, 3, 4, 5, 6, 7, 8, 9, 10]\n",
      "1\n",
      "1000\n",
      "500500\n"
     ]
    }
   ],
   "source": [
    "for value in range(1,11):\n",
    "    print(value)\n",
    "\n",
    "values = []\n",
    "for value in range(1,11):\n",
    "    values.append(value)\n",
    "print(values)\n",
    "\n",
    "values = []\n",
    "for value in range(1,1001):\n",
    "    values.append(value)\n",
    "\n",
    "print(min(values))\n",
    "print(max(values))\n",
    "print(sum(values))"
   ]
  },
  {
   "cell_type": "code",
   "execution_count": 22,
   "metadata": {},
   "outputs": [
    {
     "name": "stdout",
     "output_type": "stream",
     "text": [
      "[1, 3, 5, 7, 9, 11, 13, 15, 17, 19]\n",
      "1\n",
      "3\n",
      "5\n",
      "7\n",
      "9\n",
      "11\n",
      "13\n",
      "15\n",
      "17\n",
      "19\n"
     ]
    }
   ],
   "source": [
    "mylist = []\n",
    "for value in range(1,21,2):\n",
    "    mylist.append(value)\n",
    "print(mylist)\n",
    "for value in mylist:\n",
    "    print(value)"
   ]
  },
  {
   "cell_type": "code",
   "execution_count": 40,
   "metadata": {},
   "outputs": [
    {
     "name": "stdout",
     "output_type": "stream",
     "text": [
      "[3, 6, 9, 12, 15, 18, 21, 24, 27, 30]\n",
      "3\n",
      "6\n",
      "9\n",
      "12\n",
      "15\n",
      "18\n",
      "21\n",
      "24\n",
      "27\n",
      "30\n"
     ]
    }
   ],
   "source": [
    "values = []\n",
    "for value in range(3,31,3):\n",
    "    values.append(value)\n",
    "print(values)\n",
    "for pr in values:\n",
    "    print(pr)"
   ]
  },
  {
   "cell_type": "code",
   "execution_count": 42,
   "metadata": {},
   "outputs": [
    {
     "name": "stdout",
     "output_type": "stream",
     "text": [
      "[1, 8, 27, 64, 125, 216, 343, 512, 729, 1000]\n",
      "1\n",
      "8\n",
      "27\n",
      "64\n",
      "125\n",
      "216\n",
      "343\n",
      "512\n",
      "729\n",
      "1000\n"
     ]
    }
   ],
   "source": [
    "values = []\n",
    "for value in range(1,11):\n",
    "    values.append(value**3)\n",
    "print(values)\n",
    "for value in values:\n",
    "    print(value)\n",
    "    "
   ]
  },
  {
   "cell_type": "code",
   "execution_count": 44,
   "metadata": {},
   "outputs": [
    {
     "name": "stdout",
     "output_type": "stream",
     "text": [
      "[1, 8, 27, 64, 125, 216, 343, 512, 729, 1000]\n"
     ]
    }
   ],
   "source": [
    "values = [value**3 for value in range(1,11)]\n",
    "print(values)"
   ]
  },
  {
   "cell_type": "code",
   "execution_count": 5,
   "metadata": {},
   "outputs": [
    {
     "name": "stdout",
     "output_type": "stream",
     "text": [
      "The first three items in the list are: \n",
      "a\n",
      "b\n",
      "c\n",
      "The middle three items in the list are: \n",
      "b\n",
      "c\n",
      "d\n",
      "The last three items in the list are: \n",
      "c\n",
      "d\n",
      "e\n"
     ]
    }
   ],
   "source": [
    "pizzas = ['a','b','c','d','e']\n",
    "print(\"The first three items in the list are: \")\n",
    "for pizza in pizzas[:3]:\n",
    "    print(pizza)\n",
    "print(\"The middle three items in the list are: \")\n",
    "for pizza in pizzas[1:4]:\n",
    "    print(pizza)\n",
    "print(\"The last three items in the list are: \")\n",
    "for pizza in pizzas[-3:]:\n",
    "    print(pizza)"
   ]
  },
  {
   "cell_type": "code",
   "execution_count": 7,
   "metadata": {},
   "outputs": [
    {
     "name": "stdout",
     "output_type": "stream",
     "text": [
      "My favorite pizzas are: \n",
      "a\n",
      "b\n",
      "c\n",
      "d\n",
      "e\n",
      "wode\n",
      "My friend's favorite pizzas are: \n",
      "a\n",
      "b\n",
      "c\n",
      "d\n",
      "e\n",
      "nide\n"
     ]
    }
   ],
   "source": [
    "pizzas = ['a','b','c','d','e']\n",
    "friend_pizzas = pizzas[:]\n",
    "pizzas.append('wode')\n",
    "friend_pizzas.append('nide')\n",
    "print(\"My favorite pizzas are: \")\n",
    "for pizza in pizzas:\n",
    "    print(pizza)\n",
    "print(\"My friend's favorite pizzas are: \")\n",
    "for pizza in friend_pizzas:\n",
    "    print(pizza)"
   ]
  },
  {
   "cell_type": "code",
   "execution_count": 14,
   "metadata": {},
   "outputs": [
    {
     "name": "stdout",
     "output_type": "stream",
     "text": [
      "ham\n",
      "kfc\n",
      "mc\n",
      "leg\n",
      "bread\n",
      "\n",
      "\n",
      "ham\n",
      "kfc\n",
      "abc\n",
      "efg\n",
      "bread\n"
     ]
    }
   ],
   "source": [
    "foods = ('ham','kfc','mc','leg','bread')\n",
    "for food in foods:\n",
    "    print(food)\n",
    "print(\"\\n\") #mac电脑上的操作很sb，要用fn+斜杠键\n",
    "foods = ('ham','kfc','abc','efg','bread')\n",
    "for food in foods:\n",
    "    print(food)"
   ]
  },
  {
   "cell_type": "code",
   "execution_count": 16,
   "metadata": {},
   "outputs": [
    {
     "name": "stdout",
     "output_type": "stream",
     "text": [
      "Is car =='audi'? I predict True.\n",
      "True\n",
      "Is car =='Honda'? I predict True.\n",
      "False\n"
     ]
    }
   ],
   "source": [
    "car = 'audi'\n",
    "print(\"Is car =='audi'? I predict True.\")\n",
    "print(car == 'audi')\n",
    "\n",
    "print(\"Is car =='Honda'? I predict True.\")\n",
    "print(car == 'Honda')"
   ]
  },
  {
   "cell_type": "code",
   "execution_count": 24,
   "metadata": {},
   "outputs": [
    {
     "name": "stdout",
     "output_type": "stream",
     "text": [
      "False\n",
      "True\n",
      "False\n",
      "False\n",
      "True\n",
      "True\n",
      "the number '4' is in the list.\n"
     ]
    }
   ],
   "source": [
    "print('a' == 'b')\n",
    "print('a' == 'a')\n",
    "name = 'A'\n",
    "print(name.lower() == 'A')\n",
    "print(1 > 2 or 2 > 3)\n",
    "print(1 != 2)\n",
    "print(2>=1 and 3>=3)\n",
    "name = [1,2,3,4,5,6,7]\n",
    "if 4 not in name:\n",
    "    print(\"the number '4' is not in the list.\")\n",
    "else:\n",
    "    print(\"the number '4' is in the list.\")\n",
    "\n"
   ]
  },
  {
   "cell_type": "code",
   "execution_count": 26,
   "metadata": {},
   "outputs": [
    {
     "name": "stdout",
     "output_type": "stream",
     "text": [
      "you get 5 points, motherfvckers!\n"
     ]
    }
   ],
   "source": [
    "alien_color = 'green'\n",
    "if alien_color == 'green':\n",
    "    print(\"you get 5 points, motherfvckers!\")"
   ]
  },
  {
   "cell_type": "code",
   "execution_count": 28,
   "metadata": {},
   "outputs": [
    {
     "name": "stdout",
     "output_type": "stream",
     "text": [
      "The alien is not green. you get 10 points.\n"
     ]
    }
   ],
   "source": [
    "alien_color = 'red'\n",
    "if alien_color == 'green':\n",
    "    print(\"The alien is green. you get 5 points, motherfvckers!\")\n",
    "else:\n",
    "    print(\"The alien is not green. you get 10 points.\")"
   ]
  },
  {
   "cell_type": "code",
   "execution_count": 30,
   "metadata": {},
   "outputs": [
    {
     "name": "stdout",
     "output_type": "stream",
     "text": [
      "Input 'red' or 'green' or 'yellow'.\n",
      "red\n",
      "The alien is red. you get 15 points.\n"
     ]
    }
   ],
   "source": [
    "print(\"Input 'red' or 'green' or 'yellow'.\")\n",
    "alien_color = input()\n",
    "if alien_color == 'green':\n",
    "    print(\"The alien is green. you get 5 points, motherfvckers!\")\n",
    "elif alien_color == 'yellow':\n",
    "    print(\"The alien is yellow. you get 10 points.\")\n",
    "elif alien_color == 'red':\n",
    "    print(\"The alien is red. you get 15 points.\")\n",
    "else:\n",
    "    print(\"Wrong color.\")"
   ]
  },
  {
   "cell_type": "code",
   "execution_count": 37,
   "metadata": {},
   "outputs": [
    {
     "name": "stdout",
     "output_type": "stream",
     "text": [
      "Input a number as your age, such as '19'.\n",
      "<class 'int'>32\n",
      "you are an adlut.\n"
     ]
    }
   ],
   "source": [
    "print(\"Input a number as your age, such as '19'.\")\n",
    "age = input(int,)\n",
    "if int(age) < 2:\n",
    "    print(\"you are a baby.\")\n",
    "elif int(age) < 4:\n",
    "    print(\"you are just about learning how to walk.\")\n",
    "elif int(age)< 13:\n",
    "    print(\"you are a child.\")\n",
    "elif int(age)< 20:\n",
    "    print(\"you are a teenager.\")\n",
    "elif int(age)< 65:\n",
    "    print(\"you are an adlut.\")\n",
    "elif int(age)>= 65:\n",
    "    print(\"you are an old man.\")"
   ]
  },
  {
   "cell_type": "code",
   "execution_count": 38,
   "metadata": {},
   "outputs": [
    {
     "name": "stdout",
     "output_type": "stream",
     "text": [
      "you like apples, man.\n",
      "you like bananas, man.\n"
     ]
    }
   ],
   "source": [
    "frus = ['apple','pear','banana','pineapple']\n",
    "if 'apple' in frus:\n",
    "    print(\"you like apples, man.\")\n",
    "if 'banana' in frus:\n",
    "    print(\"you like bananas, man.\")"
   ]
  },
  {
   "cell_type": "code",
   "execution_count": 40,
   "metadata": {},
   "outputs": [
    {
     "name": "stdout",
     "output_type": "stream",
     "text": [
      "welcome, d. Thanks for logging in.\n",
      "welcome, c. Thanks for logging in.\n",
      "welcome, b. Thanks for logging in.\n",
      "welcome, a. Thanks for logging in.\n",
      "Hello admin, you are special guests.\n"
     ]
    }
   ],
   "source": [
    "names = ['admin','a','b','c','d']\n",
    "names.reverse()\n",
    "for name in names:\n",
    "    if name == 'admin':\n",
    "        print('Hello admin, you are special guests.')\n",
    "    else:\n",
    "        print('welcome, '+ name + '. Thanks for logging in.')\n"
   ]
  },
  {
   "cell_type": "code",
   "execution_count": 46,
   "metadata": {},
   "outputs": [
    {
     "name": "stdout",
     "output_type": "stream",
     "text": [
      "Who are you, man. Logging something.\n"
     ]
    }
   ],
   "source": [
    "names = ['admin','a','b','c','d']\n",
    "names.reverse()\n",
    "names = []\n",
    "if names == []:\n",
    "    print(\"Who are you, man. Logging something.\") #这个地方的代码我竟然卡了好久，原来在前面另外加一个代码就行了\n",
    "for name in names:\n",
    "    if name == 'admin':\n",
    "        print('Hello admin, you are special guests.')\n",
    "    else:\n",
    "        print('welcome, '+ name + '. Thanks for logging in.')"
   ]
  },
  {
   "cell_type": "code",
   "execution_count": 13,
   "metadata": {},
   "outputs": [
    {
     "name": "stdout",
     "output_type": "stream",
     "text": [
      "['alan', 'stan', 'candy', 'dad', 'elizebeth']\n",
      "Your ID is identifying. Done. Welcome, a\n",
      "The name 'Stan' has been used.\n",
      "Your ID is identifying. Done. Welcome, X\n",
      "The name 'DAD' has been used.\n",
      "Your ID is identifying. Done. Welcome, z\n"
     ]
    }
   ],
   "source": [
    "current_users = ['ALan','STAn','candY','Dad','elizebeth']\n",
    "current_edited = []\n",
    "for current_user in current_users:\n",
    "    current_edited.append(current_user.lower())\n",
    "print(current_edited) #这一步是我好不容易想到的，一开始总是想在下面的for循环里直接对list里面的元素用lower，但是那样是不合法的。通过\n",
    "#机智的思索，发现可以用另外一个for循环来创建新list。 最关键的是，这个debug我如果不是从头到尾学过来，自己是不可能想出来的\n",
    "#充分说明了夯实基础的重要性\n",
    "    \n",
    "new_users = ['a','Stan','X','DAD','z']\n",
    "for new_user in new_users:\n",
    "    if new_user.lower() in current_edited:\n",
    "        print(\"The name '\" + new_user +\"' has been used.\")\n",
    "    else:\n",
    "        print(\"Your ID is identifying. Done. Welcome, \" + new_user )\n",
    "#这道题调试了很久，收获很大。"
   ]
  },
  {
   "cell_type": "code",
   "execution_count": 20,
   "metadata": {},
   "outputs": [
    {
     "name": "stdout",
     "output_type": "stream",
     "text": [
      "1st\n",
      "2nd\n",
      "3rd\n",
      "4th\n",
      "5th\n",
      "6th\n",
      "7th\n",
      "8th\n",
      "9th\n"
     ]
    }
   ],
   "source": [
    "numbers = [value for value in range(1,10)]\n",
    "numbers\n",
    "for number in numbers:\n",
    "    if number == 1:\n",
    "        print( str(number) + \"st\" )\n",
    "    elif number == 2:\n",
    "        print( str(number) + \"nd\" )\n",
    "    elif number == 3:\n",
    "        print( str(number) + \"rd\" )\n",
    "    else:\n",
    "        print( str(number) + \"th\")\n",
    "\n"
   ]
  },
  {
   "cell_type": "code",
   "execution_count": null,
   "metadata": {},
   "outputs": [],
   "source": [
    "第6章"
   ]
  },
  {
   "cell_type": "code",
   "execution_count": 21,
   "metadata": {},
   "outputs": [
    {
     "name": "stdout",
     "output_type": "stream",
     "text": [
      "hong\n",
      "zhengqiang\n",
      "24\n",
      "fujian\n"
     ]
    }
   ],
   "source": [
    "fres = {'fname':'hong','sname':'zhengqiang','age':24,'home':'fujian'}\n",
    "print(fres['fname'])\n",
    "print(fres['sname'])\n",
    "print(fres['age'])\n",
    "print(fres['home'])"
   ]
  },
  {
   "cell_type": "code",
   "execution_count": 23,
   "metadata": {},
   "outputs": [
    {
     "name": "stdout",
     "output_type": "stream",
     "text": [
      "hong's favorite number is 69\n",
      "\n",
      "cao's favorite number is 18\n",
      "\n",
      "liu's favorite number is 24\n",
      "\n",
      "zhang's favorite number is 36\n"
     ]
    }
   ],
   "source": [
    "favorite_nums = {\n",
    "    'hong':69,\n",
    "    'cao':18,\n",
    "    'liu':24,\n",
    "    'zhang':36,\n",
    "}\n",
    "print(\"hong's favorite number is \" + str(favorite_nums['hong']))\n",
    "print(\"\\ncao's favorite number is \" + str(favorite_nums['cao']))\n",
    "print(\"\\nliu's favorite number is \" + str(favorite_nums['liu']))\n",
    "print(\"\\nzhang's favorite number is \" + str(favorite_nums['zhang']))"
   ]
  },
  {
   "cell_type": "code",
   "execution_count": 24,
   "metadata": {},
   "outputs": [
    {
     "name": "stdout",
     "output_type": "stream",
     "text": [
      "The meaning of 'dick' is penis.\n",
      "The meaning of 'mom' is mother.\n",
      "The meaning of 'hook' is a company of the main flow of music.\n"
     ]
    }
   ],
   "source": [
    "my_dic = {\n",
    "    'dick':'penis',\n",
    "    'mom':'mother',\n",
    "    'hook':'a company of the main flow of music',\n",
    "}\n",
    "print(\"The meaning of 'dick' is \" + my_dic['dick'] + \".\")\n",
    "print(\"The meaning of 'mom' is \" + my_dic['mom'] + \".\")\n",
    "print(\"The meaning of 'hook' is \" + my_dic['hook'] + \".\")"
   ]
  },
  {
   "cell_type": "code",
   "execution_count": null,
   "metadata": {},
   "outputs": [],
   "source": []
  },
  {
   "cell_type": "code",
   "execution_count": 5,
   "metadata": {},
   "outputs": [
    {
     "name": "stdout",
     "output_type": "stream",
     "text": [
      "Word: Dick\n",
      "Meanings: penis\n",
      "Word: Mom\n",
      "Meanings: mother\n",
      "Word: Hook\n",
      "Meanings: a company of the main flow of music\n",
      "Word: Dick\n",
      "Meanings: penis\n",
      "Word: Mom\n",
      "Meanings: mother\n",
      "Word: Hook\n",
      "Meanings: a company of the main flow of music\n",
      "Word: A\n",
      "Meanings: aaaaaa\n",
      "Word: B\n",
      "Meanings: bbbbbb\n",
      "Word: C\n",
      "Meanings: cccccc\n",
      "Word: D\n",
      "Meanings: dddddd\n",
      "Word: E\n",
      "Meanings: eeeeee\n"
     ]
    }
   ],
   "source": [
    "my_dic = {\n",
    "    'dick':'penis',\n",
    "    'mom':'mother',\n",
    "    'hook':'a company of the main flow of music',\n",
    "}\n",
    "for word, value in my_dic.items():\n",
    "    print(\"Word: \" + word.title())\n",
    "    print(\"Meanings: \" + value)\n",
    "\n",
    "my_dic['A'] = 'aaaaaa'\n",
    "my_dic['B'] = 'bbbbbb'\n",
    "my_dic['C'] = 'cccccc'\n",
    "my_dic['D'] = 'dddddd'\n",
    "my_dic['E'] = 'eeeeee'\n",
    "for word, value in my_dic.items():\n",
    "    print(\"Word: \" + word.title())\n",
    "    print(\"Meanings: \" + value)"
   ]
  },
  {
   "cell_type": "code",
   "execution_count": 13,
   "metadata": {},
   "outputs": [
    {
     "name": "stdout",
     "output_type": "stream",
     "text": [
      "The Suez runs through Egypt.\n",
      "The Nile runs through Egypt.\n",
      "The Yangtze runs through China.\n",
      "Suez\n",
      "Nile\n",
      "Yangtze\n",
      "Egypt\n",
      "China\n"
     ]
    }
   ],
   "source": [
    "rivers = {'Suez':'egypt','nile':'egypt','yangtze':'china'}\n",
    "for river, country in rivers.items():\n",
    "    print(\"The \" + river.title() + \" runs through \" + country.title() + \".\")\n",
    "for river in rivers.keys():\n",
    "    print(river.title())\n",
    "for country in set(rivers.values()):\n",
    "    print(country.title())\n",
    "    "
   ]
  },
  {
   "cell_type": "code",
   "execution_count": 18,
   "metadata": {},
   "outputs": [
    {
     "name": "stdout",
     "output_type": "stream",
     "text": [
      "Thank you for your cooperation, Mr./Mrs.Jen\n",
      "Mr./Mrs.Liu. Please take the poll.\n",
      "Thank you for your cooperation, Mr./Mrs.Hong\n"
     ]
    }
   ],
   "source": [
    "user_0 = {\n",
    "    'jen':'python',\n",
    "    'ben':'java',\n",
    "    'hong':'C++',\n",
    "    'jason':'java',\n",
    "}\n",
    "user_checks = ['jen','liu','hong']\n",
    "for user_check in user_checks:\n",
    "    if user_check in user_0.keys():\n",
    "        print(\"Thank you for your cooperation, Mr./Mrs.\" + user_check.title())\n",
    "    else:\n",
    "        print(\"Mr./Mrs.\"+ user_check.title() + \". Please take the poll.\")"
   ]
  },
  {
   "cell_type": "code",
   "execution_count": null,
   "metadata": {},
   "outputs": [],
   "source": []
  },
  {
   "cell_type": "code",
   "execution_count": 19,
   "metadata": {},
   "outputs": [
    {
     "name": "stdout",
     "output_type": "stream",
     "text": [
      "{'fname': 'hong', 'sname': 'zhengqiang', 'age': 24, 'home': 'fujian'}\n",
      "{'fname': 'cao', 'sname': 'jiacheng', 'age': 25, 'home': 'xuzhou'}\n",
      "{'fname': 'zhang', 'sname': 'yingheng', 'age': 23, 'home': 'jinhua'}\n"
     ]
    }
   ],
   "source": [
    "fres_0 = {'fname':'hong','sname':'zhengqiang','age':24,'home':'fujian'}\n",
    "fres_1 = {'fname':'cao','sname':'jiacheng','age':25,'home':'xuzhou'}\n",
    "fres_2 = {'fname':'zhang','sname':'yingheng','age':23,'home':'jinhua'}\n",
    "fres = [fres_0, fres_1, fres_2]\n",
    "for fre in fres:\n",
    "    print(fre)\n"
   ]
  },
  {
   "cell_type": "code",
   "execution_count": 21,
   "metadata": {},
   "outputs": [
    {
     "name": "stdout",
     "output_type": "stream",
     "text": [
      "{'type': 'xianluo', 'owner': 'dai'}\n",
      "{'type': 'hashiqi', 'owner': 'liu'}\n",
      "{'type': 'jinmao', 'owner': 'zhang'}\n"
     ]
    }
   ],
   "source": [
    "pussy = {'type':'xianluo','owner':'dai'}\n",
    "puppy = {'type':'hashiqi','owner':'liu'}\n",
    "superman = {'type':'jinmao','owner':'zhang'}\n",
    "pets = [pussy, puppy, superman]\n",
    "for pet in pets:\n",
    "    print(pet)"
   ]
  },
  {
   "cell_type": "code",
   "execution_count": 26,
   "metadata": {},
   "outputs": [
    {
     "name": "stdout",
     "output_type": "stream",
     "text": [
      "Liu's favorite places are: \n",
      "London\n",
      "Shanghai\n",
      "Suzhou\n",
      "Zhang's favorite places are: \n",
      "Sudan\n",
      "Spain\n",
      "Aierlan\n",
      "Li's favorite places are: \n",
      "Zhengzhou\n",
      "Liyang\n",
      "Hefei\n"
     ]
    }
   ],
   "source": [
    "favorite_places = { #这道题是字典中存储列表的经典题，还是很值得看一看的 习题6-9\n",
    "    'liu':['London','shanghai','suzhou'],\n",
    "    'zhang':['sudan','spain','aierlan'],\n",
    "    'li':['zhengzhou','liyang','hefei'],\n",
    "}\n",
    "for name, favorite_place in favorite_places.items(): #这个地方一定要注意，两个变量的字典展开，千万不要忘记items\n",
    "    print(name.title() + \"'s favorite places are: \")\n",
    "    for place in favorite_place:\n",
    "        print(place.title())"
   ]
  },
  {
   "cell_type": "code",
   "execution_count": 30,
   "metadata": {},
   "outputs": [
    {
     "name": "stdout",
     "output_type": "stream",
     "text": [
      "Hong's favorite numbers are \n",
      "69\n",
      "32\n",
      "44\n",
      "Cao's favorite numbers are \n",
      "18\n",
      "32\n",
      "65\n",
      "Liu's favorite numbers are \n",
      "123\n",
      "24\n",
      "657\n",
      "Zhang's favorite numbers are \n",
      "36\n",
      "456\n",
      "76\n"
     ]
    }
   ],
   "source": [
    "favorite_nums = {\n",
    "    'hong':[69,32,44], #这个地方的逗号一开始忘记加了，后面一定记得要加。\n",
    "    'cao':[18,32,65],\n",
    "    'liu':[123,24,657],\n",
    "    'zhang':[36,456,76],\n",
    "}\n",
    "\n",
    "for name, nums in favorite_nums.items():\n",
    "    print(name.title() + \"'s favorite numbers are \")\n",
    "    \n",
    "    for num in nums:\n",
    "        print(str(num))"
   ]
  },
  {
   "cell_type": "code",
   "execution_count": 40,
   "metadata": {},
   "outputs": [
    {
     "name": "stdout",
     "output_type": "stream",
     "text": [
      "\n",
      "City: London\n",
      "Country: Britain\n",
      "Population: 3000w\n",
      "Fact: Land Of Glory\n",
      "\n",
      "City: shanghai\n",
      "Country: China\n",
      "Population: 3500w\n",
      "Fact: The Only City\n",
      "\n",
      "City: New York\n",
      "Country: U.S.\n",
      "Population: 2000w\n",
      "Fact: Cbd\n"
     ]
    }
   ],
   "source": [
    "cities = {\n",
    "    'London':{\n",
    "        'country':'Britain',\n",
    "        'population':3000,\n",
    "        'fact':'land of glory',\n",
    "    },\n",
    "    \n",
    "    'shanghai':{\n",
    "        'country':'China',\n",
    "        'population':3500,\n",
    "        'fact':'the only city',\n",
    "    }, #这个地方的逗号特别容易遗漏\n",
    "    \n",
    "     'New York':{\n",
    "        'country':'U.S.',\n",
    "        'population':2000,\n",
    "        'fact':'CBD',\n",
    "    },\n",
    "}\n",
    "    \n",
    "for city, city_info in cities.items(): #这个地方的输出还挺难想的\n",
    "    print(\"\\nCity: \" + city)\n",
    "    print(\"Country: \" + city_info['country'].title())\n",
    "    print(\"Population: \" + str(city_info['population']) +\"w\")\n",
    "    print(\"Fact: \" + city_info['fact'].title())"
   ]
  }
 ],
 "metadata": {
  "kernelspec": {
   "display_name": "Python 3",
   "language": "python",
   "name": "python3"
  },
  "language_info": {
   "codemirror_mode": {
    "name": "ipython",
    "version": 3
   },
   "file_extension": ".py",
   "mimetype": "text/x-python",
   "name": "python",
   "nbconvert_exporter": "python",
   "pygments_lexer": "ipython3",
   "version": "3.8.5"
  }
 },
 "nbformat": 4,
 "nbformat_minor": 4
}

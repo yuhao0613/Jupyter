{
 "cells": [
  {
   "cell_type": "markdown",
   "metadata": {},
   "source": [
    "# Python基础操作_2022_02_08"
   ]
  },
  {
   "cell_type": "markdown",
   "metadata": {},
   "source": [
    "### 我觉得有价值的基础知识，一些乱七八糟没用的我就没记录。记录于2022.2.8。后面都是值得再看再回顾的。"
   ]
  },
  {
   "cell_type": "markdown",
   "metadata": {},
   "source": [
    "关于print函数"
   ]
  },
  {
   "cell_type": "code",
   "execution_count": 2,
   "metadata": {
    "scrolled": true
   },
   "outputs": [
    {
     "name": "stdout",
     "output_type": "stream",
     "text": [
      "100\n",
      "John20.9\n"
     ]
    }
   ],
   "source": [
    "#注意，print默认是有换行的，如果不需要的话可以调整\n",
    "print(100, end='\\n')\n",
    "print('John',end='')\n",
    "print(20.9, end='\\n')"
   ]
  },
  {
   "cell_type": "code",
   "execution_count": 4,
   "metadata": {},
   "outputs": [
    {
     "name": "stdout",
     "output_type": "stream",
     "text": [
      "200 like 10.9\n",
      "300_likes_10.5\n"
     ]
    }
   ],
   "source": [
    "print(200,'like',10.9)\n",
    "#注意，这种print默认它们中间的sep是一个空格，也是可以调整的\n",
    "print(300,'likes',10.5,sep='_')"
   ]
  },
  {
   "cell_type": "markdown",
   "metadata": {},
   "source": [
    "关于变量、字符串"
   ]
  },
  {
   "cell_type": "code",
   "execution_count": 3,
   "metadata": {},
   "outputs": [
    {
     "name": "stdout",
     "output_type": "stream",
     "text": [
      "<class 'int'>\n"
     ]
    }
   ],
   "source": [
    "#确认变量的数据类型\n",
    "a = 300\n",
    "print(type(a))"
   ]
  },
  {
   "cell_type": "code",
   "execution_count": 5,
   "metadata": {},
   "outputs": [
    {
     "name": "stdout",
     "output_type": "stream",
     "text": [
      "\n",
      "我了个大去\n",
      "    为什么学代码这么难\n"
     ]
    }
   ],
   "source": [
    "#带空行和大量空格的字符串定义\n",
    "message =  '''\n",
    "我了个大去\n",
    "    为什么学代码这么难'''\n",
    "print(message)\n",
    "\n",
    "#布尔值，对于大多数数值都是true，只有空字符串‘’和数字0是false\n"
   ]
  },
  {
   "cell_type": "code",
   "execution_count": 8,
   "metadata": {
    "scrolled": true
   },
   "outputs": [
    {
     "name": "stdout",
     "output_type": "stream",
     "text": [
      "请输入一个数字：32\n",
      "<class 'int'> <class 'str'>\n",
      "44\n"
     ]
    }
   ],
   "source": [
    "#注意，键盘上input的内容都是字符串，要想做下一步动作需要转换\n",
    "s = 12\n",
    "b= input('请输入一个数字：')\n",
    "print(type(s),type(b))\n",
    "print(int(b)+s)"
   ]
  },
  {
   "cell_type": "markdown",
   "metadata": {},
   "source": [
    "in 和 not in 语法，比较有用"
   ]
  },
  {
   "cell_type": "code",
   "execution_count": 9,
   "metadata": {
    "scrolled": true
   },
   "outputs": [
    {
     "name": "stdout",
     "output_type": "stream",
     "text": [
      "True\n",
      "True\n",
      "True\n",
      "False\n"
     ]
    }
   ],
   "source": [
    "s = 'Hello world!'\n",
    "print('Hello' in s)#看看某一个字符串里有没有我们要的元素\n",
    "#这个语法特别适合我们去整理kindle的笔记文件\n",
    "print('hello'not in s)\n",
    "\n",
    "#对于列表也同样适用\n",
    "friuts = ['apple','pear','orange','banana']\n",
    "print('apple'in friuts)\n",
    "print('app'in friuts)\n",
    "#！！注意必须得完全对应才行，像这样只包含一部分的不行\n"
   ]
  },
  {
   "cell_type": "markdown",
   "metadata": {},
   "source": [
    "if函数不难，下面记录if elif这个语句做例子，心里有个数就行了"
   ]
  },
  {
   "cell_type": "code",
   "execution_count": 11,
   "metadata": {},
   "outputs": [
    {
     "name": "stdout",
     "output_type": "stream",
     "text": [
      "c\n"
     ]
    }
   ],
   "source": [
    "temp = 0.2\n",
    "if temp > 1:\n",
    "    print('a')\n",
    "elif temp <0:\n",
    "    print('b')\n",
    "else: \n",
    "    print('c')"
   ]
  }
 ],
 "metadata": {
  "kernelspec": {
   "display_name": "Python 3",
   "language": "python",
   "name": "python3"
  },
  "language_info": {
   "codemirror_mode": {
    "name": "ipython",
    "version": 3
   },
   "file_extension": ".py",
   "mimetype": "text/x-python",
   "name": "python",
   "nbconvert_exporter": "python",
   "pygments_lexer": "ipython3",
   "version": "3.8.5"
  }
 },
 "nbformat": 4,
 "nbformat_minor": 4
}

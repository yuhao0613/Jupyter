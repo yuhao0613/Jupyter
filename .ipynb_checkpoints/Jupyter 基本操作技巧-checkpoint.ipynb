{
 "cells": [
  {
   "cell_type": "markdown",
   "metadata": {},
   "source": [
    "# Jupyter 基本操作技巧"
   ]
  },
  {
   "cell_type": "markdown",
   "metadata": {},
   "source": [
    "### 使用Jupyter的核心就是不用鼠标，全部用快捷键完成操作。"
   ]
  },
  {
   "cell_type": "markdown",
   "metadata": {},
   "source": [
    "enter键 & ctrl + enter键 是快捷操作的核心，可以快速切换蓝色状态与绿色状态。"
   ]
  },
  {
   "cell_type": "markdown",
   "metadata": {},
   "source": [
    "在蓝色状态下，按h---打开快捷键instruction"
   ]
  },
  {
   "cell_type": "markdown",
   "metadata": {},
   "source": [
    "在蓝色状态下，按b---在下方创建new block"
   ]
  },
  {
   "cell_type": "markdown",
   "metadata": {},
   "source": [
    "在蓝色状态下，按m--将block转化为markdown"
   ]
  },
  {
   "cell_type": "markdown",
   "metadata": {},
   "source": [
    "在蓝色状态下，按1，2，3，4，5，6---设置为heading1，2，3，4，5，6"
   ]
  },
  {
   "cell_type": "markdown",
   "metadata": {},
   "source": [
    "在蓝色状态下，按d两次---删除block"
   ]
  },
  {
   "cell_type": "markdown",
   "metadata": {},
   "source": [
    "在蓝色状态下，按z---撤销刚才的操作"
   ]
  }
 ],
 "metadata": {
  "kernelspec": {
   "display_name": "Python 3",
   "language": "python",
   "name": "python3"
  },
  "language_info": {
   "codemirror_mode": {
    "name": "ipython",
    "version": 3
   },
   "file_extension": ".py",
   "mimetype": "text/x-python",
   "name": "python",
   "nbconvert_exporter": "python",
   "pygments_lexer": "ipython3",
   "version": "3.8.5"
  }
 },
 "nbformat": 4,
 "nbformat_minor": 4
}

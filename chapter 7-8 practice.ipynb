{
 "cells": [
  {
   "cell_type": "markdown",
   "metadata": {},
   "source": [
    "# 7-10章的练习题"
   ]
  },
  {
   "cell_type": "code",
   "execution_count": 3,
   "metadata": {},
   "outputs": [
    {
     "name": "stdout",
     "output_type": "stream",
     "text": [
      "What kind of car do you want, man? honda\n",
      "Let me see if I can find you a Honda.\n"
     ]
    }
   ],
   "source": [
    "#7-1\n",
    "car = input(\"What kind of car do you want, man? \")\n",
    "print(\"Let me see if I can find you a \" + car.title() + \".\")"
   ]
  },
  {
   "cell_type": "code",
   "execution_count": 4,
   "metadata": {},
   "outputs": [
    {
     "name": "stdout",
     "output_type": "stream",
     "text": [
      "How many people you got? 12\n",
      "No table in that size.\n"
     ]
    }
   ],
   "source": [
    "#7-2\n",
    "num = input(\"How many people you got? \")\n",
    "num = int(num)\n",
    "if num > 8:\n",
    "    print(\"No table in that size.\")\n",
    "else:\n",
    "    print(\"OK.\")"
   ]
  },
  {
   "cell_type": "code",
   "execution_count": 1,
   "metadata": {},
   "outputs": [
    {
     "name": "stdout",
     "output_type": "stream",
     "text": [
      "Input a number,and I will tell you something: 32\n",
      "32不是10的倍数。\n"
     ]
    }
   ],
   "source": [
    "#7-3\n",
    "num = input(\"Input a number,and I will tell you something: \")\n",
    "num = int(num)\n",
    "if num % 10 == 0:\n",
    "    print(str(num) + \"是10的倍数。\")\n",
    "else:\n",
    "    print(str(num) + \"不是10的倍数。\")  "
   ]
  },
  {
   "cell_type": "code",
   "execution_count": 2,
   "metadata": {},
   "outputs": [
    {
     "name": "stdout",
     "output_type": "stream",
     "text": [
      "\n",
      "Enter the addings:\n",
      "Enter 'quit' to end the program. dog\n",
      "We will add 'Dog'.\n",
      "\n",
      "Enter the addings:\n",
      "Enter 'quit' to end the program. \n",
      "We will add ''.\n",
      "\n",
      "Enter the addings:\n",
      "Enter 'quit' to end the program. quit\n"
     ]
    }
   ],
   "source": [
    "#7-4\n",
    "prompt = \"\\nEnter the addings:\"\n",
    "prompt += \"\\nEnter 'quit' to end the program. \"\n",
    "message = \"\"\n",
    "\n",
    "active = True\n",
    "while active:\n",
    "    message = input(prompt)\n",
    "    if message == 'quit':\n",
    "        break\n",
    "    \n",
    "    print(\"We will add '\" + message.title() +\"'.\")\n",
    "    \n",
    "   \n"
   ]
  },
  {
   "cell_type": "code",
   "execution_count": 1,
   "metadata": {},
   "outputs": [
    {
     "name": "stdout",
     "output_type": "stream",
     "text": [
      "\n",
      "Enter your age:21\n",
      "You are above 12 years old, 15 dollars.\n",
      "\n",
      "Enter your age:11\n",
      "10 dollars.\n",
      "\n",
      "Enter your age:4\n",
      "10 dollars.\n",
      "\n",
      "Enter your age:2\n",
      "It's free.\n",
      "\n",
      "Enter your age:3\n",
      "10 dollars.\n",
      "\n",
      "Enter your age:1\n",
      "It's free.\n",
      "\n",
      "Enter your age:quit\n",
      "Thanks for using.\n"
     ]
    }
   ],
   "source": [
    "#7-5\n",
    "prompt = \"\\nEnter your age:\"\n",
    "\n",
    "active =True\n",
    "while active:\n",
    "    age = input(prompt)\n",
    "    if age == 'quit':\n",
    "        print(\"Thanks for using.\")\n",
    "        break\n",
    "    else:\n",
    "        age = int(age)\n",
    "        if age < 3:\n",
    "            print(\"It's free.\")\n",
    "            continue\n",
    "        elif age < 12:\n",
    "            print(\"10 dollars.\")\n",
    "            continue\n",
    "        else:\n",
    "            print(\"You are above 12 years old, 15 dollars.\")\n",
    "            continue"
   ]
  },
  {
   "cell_type": "code",
   "execution_count": 4,
   "metadata": {},
   "outputs": [
    {
     "name": "stdout",
     "output_type": "stream",
     "text": [
      "I made your d.\n",
      "I made your c.\n",
      "I made your b.\n",
      "I made your a.\n",
      "d\n",
      "c\n",
      "b\n",
      "a\n"
     ]
    }
   ],
   "source": [
    "#7-8\n",
    "sandwich_orders = ['a','b','c','d']\n",
    "finished_orders = []\n",
    "while sandwich_orders:\n",
    "    finished_order = sandwich_orders.pop()\n",
    "    print(\"I made your \" + finished_order + \".\")\n",
    "    finished_orders.append(finished_order)\n",
    "\n",
    "for finished_order in finished_orders:\n",
    "    print(finished_order)"
   ]
  },
  {
   "cell_type": "code",
   "execution_count": 5,
   "metadata": {},
   "outputs": [
    {
     "name": "stdout",
     "output_type": "stream",
     "text": [
      "The pastrami has been sold out.\n",
      "['a', 'b', 'c', 'd']\n"
     ]
    }
   ],
   "source": [
    "#7-9\n",
    "sandwich_orders = ['a','pastrami','b','c','pastrami','d','pastrami']\n",
    "print(\"The pastrami has been sold out.\")\n",
    "while 'pastrami' in sandwich_orders:\n",
    "    sandwich_orders.remove('pastrami')\n",
    "    \n",
    "print(sandwich_orders)"
   ]
  },
  {
   "cell_type": "code",
   "execution_count": 1,
   "metadata": {},
   "outputs": [
    {
     "name": "stdout",
     "output_type": "stream",
     "text": [
      "what's your name?\n",
      "Enter 'quit' to close the quiry.柳雨豪\n",
      "what's your dreamland?ab\n",
      "what's your name?\n",
      "Enter 'quit' to close the quiry.zhang\n",
      "what's your dreamland?cd\n",
      "what's your name?\n",
      "Enter 'quit' to close the quiry.quit\n",
      "柳雨豪would like to go to Ab.\n",
      "Zhangwould like to go to Cd.\n"
     ]
    }
   ],
   "source": [
    "#7-10\n",
    "my_lists = {}\n",
    "prompt = \"what's your name?\"\n",
    "prompt += \"\\nEnter 'quit' to close the quiry.\"\n",
    "while True:\n",
    "    name = input(prompt)\n",
    "    if name == 'quit':\n",
    "        break\n",
    "    else:\n",
    "        place = input(\"what's your dreamland?\")\n",
    "    my_lists[name] = place\n",
    "\n",
    "for name, place in my_lists.items():\n",
    "    print(name.title() + \" would like to go to \" + place.title() + \".\")"
   ]
  },
  {
   "cell_type": "markdown",
   "metadata": {},
   "source": [
    "# Chapter 8 "
   ]
  },
  {
   "cell_type": "code",
   "execution_count": 2,
   "metadata": {},
   "outputs": [
    {
     "name": "stdout",
     "output_type": "stream",
     "text": [
      "I have learned how to initiate a fuction.\n"
     ]
    }
   ],
   "source": [
    "#8-1\n",
    "def display_message():\n",
    "    print(\"I have learned how to initiate a fuction.\")\n",
    "\n",
    "display_message()"
   ]
  },
  {
   "cell_type": "code",
   "execution_count": 4,
   "metadata": {},
   "outputs": [
    {
     "name": "stdout",
     "output_type": "stream",
     "text": [
      "One of my favorite books is 'Abc'.\n"
     ]
    }
   ],
   "source": [
    "#8-2\n",
    "def favorite_books(title):\n",
    "    print(\"One of my favorite books is '\" + title.title() + \"'.\")\n",
    "    \n",
    "favorite_books('abc')"
   ]
  },
  {
   "cell_type": "code",
   "execution_count": 8,
   "metadata": {},
   "outputs": [
    {
     "name": "stdout",
     "output_type": "stream",
     "text": [
      "\n",
      "The shirt is M size.\n",
      "And you want to print 'Xibar' on that.\n",
      "\n",
      "The shirt is L size.\n",
      "And you want to print 'Fuck' on that.\n"
     ]
    }
   ],
   "source": [
    "#8-3\n",
    "def make_shirt(size, note):\n",
    "    print(\"\\nThe shirt is \" + size.title() + \" size.\")\n",
    "    print(\"And you want to print '\" + note.title() + \"' on that.\")\n",
    "    \n",
    "make_shirt('m','xibar')\n",
    "make_shirt(size='l',note='fuck')\n",
    "    "
   ]
  },
  {
   "cell_type": "code",
   "execution_count": 11,
   "metadata": {},
   "outputs": [
    {
     "name": "stdout",
     "output_type": "stream",
     "text": [
      "\n",
      "The shirt is L size.\n",
      "And you want to print 'I Love Python.' on that.\n",
      "\n",
      "The shirt is M size.\n",
      "And you want to print 'I Love Python.' on that.\n",
      "\n",
      "The shirt is S size.\n",
      "And you want to print 'Love' on that.\n"
     ]
    }
   ],
   "source": [
    "#8-4\n",
    "def make_shirt(note='I love Python.',size='l'):\n",
    "    print(\"\\nThe shirt is \" + size.title() + \" size.\")\n",
    "    print(\"And you want to print '\" + note.title() + \"' on that.\")\n",
    "    \n",
    "make_shirt()\n",
    "make_shirt(size='m')\n",
    "make_shirt(size='s',note='love')"
   ]
  },
  {
   "cell_type": "code",
   "execution_count": 14,
   "metadata": {},
   "outputs": [
    {
     "name": "stdout",
     "output_type": "stream",
     "text": [
      "Shanghai is in China.\n",
      "Xian is in China.\n",
      "London is in Britain.\n"
     ]
    }
   ],
   "source": [
    "def describe_city(city='shanghai',country='China'):\n",
    "    print(city.title() + \" is in \" + country.title() + \".\")\n",
    "\n",
    "describe_city()\n",
    "describe_city('xian')\n",
    "describe_city('london','britain')\n",
    "    "
   ]
  },
  {
   "cell_type": "code",
   "execution_count": 1,
   "metadata": {},
   "outputs": [
    {
     "name": "stdout",
     "output_type": "stream",
     "text": [
      "Shanghai, China\n",
      "Nanjing, China\n",
      "Jiaergeda, India\n"
     ]
    }
   ],
   "source": [
    "#8-6\n",
    "def city_country(city, country):\n",
    "    city_country = city.title() + \", \" + country.title()\n",
    "    return city_country\n",
    "\n",
    "shanghai = city_country('shanghai', 'china')\n",
    "nanjing = city_country('nanjing','china')\n",
    "jiaergeda = city_country('jiaergeda','india')\n",
    "print(shanghai)\n",
    "print(nanjing)\n",
    "print(jiaergeda)   "
   ]
  },
  {
   "cell_type": "code",
   "execution_count": 6,
   "metadata": {},
   "outputs": [
    {
     "name": "stdout",
     "output_type": "stream",
     "text": [
      "{'singer': 'Liudehua', 'album': '123', 'number': '8'}\n",
      "{'singer': 'Liuyuhao', 'album': '456'}\n",
      "{'singer': 'Zhouhuajian', 'album': '666', 'number': '24'}\n"
     ]
    }
   ],
   "source": [
    "#8-7\n",
    "def make_album(singer_name, album_name, number=''):\n",
    "    album_detail = {'singer':singer_name.title(), \n",
    "                    'album':album_name.title(), \n",
    "                   }\n",
    "    if number:\n",
    "        album_detail['number'] = number\n",
    "        \n",
    "    return album_detail\n",
    "\n",
    "album1 = make_album('liudehua','123','8')\n",
    "album2 = make_album('liuyuhao','456')\n",
    "album3 = make_album('zhouhuajian','666','24')\n",
    "print(album1)\n",
    "print(album2)\n",
    "print(album3)"
   ]
  },
  {
   "cell_type": "code",
   "execution_count": 1,
   "metadata": {
    "scrolled": true
   },
   "outputs": [
    {
     "name": "stdout",
     "output_type": "stream",
     "text": [
      "Please enter album name:123\n",
      "Please enter singer name:liuyuhao\n",
      "{'singer': 'Liuyuhao', 'album': '123'}\n",
      "\n",
      "Enter 'q' to quit at any time.\n",
      "Please enter album name:333\n",
      "Please enter singer name:liuyuhao\n",
      "{'singer': 'Liuyuhao', 'album': '333'}\n",
      "\n",
      "Enter 'q' to quit at any time.\n",
      "Please enter album name:q\n"
     ]
    }
   ],
   "source": [
    "#8-8\n",
    "def make_album(singer_name, album_name, number=''):\n",
    "    album_detail = {'singer':singer_name.title(), \n",
    "                    'album':album_name.title(), \n",
    "                   }\n",
    "    if number:\n",
    "        album_detail['number'] = number\n",
    "        \n",
    "    return album_detail\n",
    "\n",
    "while True:\n",
    "    print(\"\\nEnter 'q' to quit at any time.\")\n",
    "    a_name = input(\"Please enter album name:\")\n",
    "    if a_name == 'q':\n",
    "        break\n",
    "        \n",
    "    s_name = input(\"Please enter singer name:\")\n",
    "    if s_name == 'q':\n",
    "        break\n",
    "    print(make_album(s_name, a_name))"
   ]
  },
  {
   "cell_type": "code",
   "execution_count": 3,
   "metadata": {},
   "outputs": [
    {
     "name": "stdout",
     "output_type": "stream",
     "text": [
      "Alien\n",
      "Bob\n",
      "Candy\n"
     ]
    }
   ],
   "source": [
    "#8-9\n",
    "magicians = ['alien','bob','candy']\n",
    "def show_name(magicians):\n",
    "    for magician in magicians:\n",
    "        print(magician.title())\n",
    "\n",
    "show_name(magicians)"
   ]
  },
  {
   "cell_type": "code",
   "execution_count": 10,
   "metadata": {},
   "outputs": [
    {
     "name": "stdout",
     "output_type": "stream",
     "text": [
      "The Great Alien\n",
      "The Great Bob\n",
      "The Great Candy\n"
     ]
    }
   ],
   "source": [
    "#8-10\n",
    "magicians = ['alien','bob','candy']\n",
    "def show_magicians(magicians):\n",
    "    for magician in magicians:\n",
    "        print(magician.title())\n",
    "        \n",
    "def make_great(magicians):\n",
    "    new_magicians = []\n",
    "    for magician in magicians:\n",
    "        magician = \"The great \" + magician\n",
    "        new_magicians.append(magician)\n",
    "    return new_magicians #这个函数我自己调试了好久才调试出来，感觉有点爽，其实也可以用另外的方法，看下面\n",
    "\n",
    "new_magicians = make_great(magicians)\n",
    "show_magicians(new_magicians) "
   ]
  },
  {
   "cell_type": "code",
   "execution_count": 16,
   "metadata": {},
   "outputs": [
    {
     "name": "stdout",
     "output_type": "stream",
     "text": [
      "The Great Candy\n",
      "The Great Bob\n",
      "The Great Alien\n"
     ]
    }
   ],
   "source": [
    "#8-10 这种代码就是完全模仿8.4节传递列表里面的代码\n",
    "def show_magicians(magicians):\n",
    "    for magician in magicians:\n",
    "        print(magician.title())\n",
    "        \n",
    "def make_great(magicians, new_magicians):\n",
    "    while magicians: #这个地方似乎用while更灵活，用for好像不是特别好写\n",
    "        edit_magician = \"The great \" + magicians.pop()  #这一步删掉列表元素，存入临时变量\n",
    "        new_magicians.append(edit_magician) #这一步加到新变量后面\n",
    "\n",
    "magicians = ['alien','bob','candy']\n",
    "new_magicians = []\n",
    "\n",
    "make_great(magicians, new_magicians)\n",
    "show_magicians(new_magicians)\n"
   ]
  },
  {
   "cell_type": "code",
   "execution_count": 17,
   "metadata": {},
   "outputs": [
    {
     "name": "stdout",
     "output_type": "stream",
     "text": [
      "The Great Candy\n",
      "The Great Bob\n",
      "The Great Alien\n",
      "['alien', 'bob', 'candy']\n",
      "[]\n"
     ]
    }
   ],
   "source": [
    "#8-11\n",
    "def show_magicians(magicians):\n",
    "    for magician in magicians:\n",
    "        print(magician.title())\n",
    "        \n",
    "def make_great(magicians, new_magicians):\n",
    "    while magicians: \n",
    "        edit_magician = \"The great \" + magicians.pop()  \n",
    "        new_magicians.append(edit_magician)\n",
    "\n",
    "magicians = ['alien','bob','candy']\n",
    "new_magicians = []\n",
    "\n",
    "make_great(magicians[:], new_magicians)\n",
    "show_magicians(new_magicians)\n",
    "print(magicians) #原来的magician没有被动\n",
    "\n",
    "make_great(magicians, new_magicians)\n",
    "print(magicians) #原来的magician被改动了，很伤，不能这样"
   ]
  },
  {
   "cell_type": "code",
   "execution_count": 3,
   "metadata": {},
   "outputs": [
    {
     "name": "stdout",
     "output_type": "stream",
     "text": [
      "- Adding pork\n",
      "- Adding bread\n",
      "- Adding mushroom\n",
      "Your sandwich has been completed.\n",
      "- Adding pork\n",
      "- Adding like\n",
      "Your sandwich has been completed.\n"
     ]
    }
   ],
   "source": [
    "#8-12\n",
    "def thing(*addings):\n",
    "    for adding in addings:\n",
    "        print(\"- Adding \" + adding)\n",
    "    print(\"Your sandwich has been completed.\")\n",
    "\n",
    "thing('pork','bread','mushroom')\n",
    "thing('pork','like')\n"
   ]
  },
  {
   "cell_type": "code",
   "execution_count": 5,
   "metadata": {},
   "outputs": [
    {
     "name": "stdout",
     "output_type": "stream",
     "text": [
      "{'first_name': 'albert', 'last_name': 'winston', 'location': 'dalian', 'partner': 'wife', 'size': '18cm'}\n"
     ]
    }
   ],
   "source": [
    "#8-13\n",
    "def build_profile(first, last, **user_info): \n",
    "    profile = {}\n",
    "    profile['first_name'] = first #给字典添加元素的写法，我竟然有一些生疏了\n",
    "    profile['last_name'] = last\n",
    "    for key, value in user_info.items():\n",
    "        profile[key] = value\n",
    "    return profile\n",
    "\n",
    "user_profile = build_profile('albert', 'winston', location='dalian', partner='wife', size='18cm')\n",
    "print(user_profile)"
   ]
  },
  {
   "cell_type": "code",
   "execution_count": 10,
   "metadata": {
    "scrolled": true
   },
   "outputs": [
    {
     "name": "stdout",
     "output_type": "stream",
     "text": [
      "{'manufacturer': 'benz', 'size': 'SUV', 'color': 'blue', 'tow_package': 'True'}\n"
     ]
    }
   ],
   "source": [
    "#8-14\n",
    "def car(manufacturer, size, **info):\n",
    "    car_profile = {}\n",
    "    car_profile['manufacturer'] = manufacturer\n",
    "    car_profile['size'] = size\n",
    "    for key, value in info.items():\n",
    "        car_profile[key] = value\n",
    "    return car_profile\n",
    "\n",
    "car = car('benz', 'SUV', color='blue', tow_package='True')\n",
    "print(car)"
   ]
  },
  {
   "cell_type": "code",
   "execution_count": null,
   "metadata": {},
   "outputs": [],
   "source": []
  }
 ],
 "metadata": {
  "kernelspec": {
   "display_name": "Python 3",
   "language": "python",
   "name": "python3"
  },
  "language_info": {
   "codemirror_mode": {
    "name": "ipython",
    "version": 3
   },
   "file_extension": ".py",
   "mimetype": "text/x-python",
   "name": "python",
   "nbconvert_exporter": "python",
   "pygments_lexer": "ipython3",
   "version": "3.8.5"
  }
 },
 "nbformat": 4,
 "nbformat_minor": 4
}

{
 "cells": [
  {
   "cell_type": "markdown",
   "metadata": {},
   "source": [
    "第4章"
   ]
  },
  {
   "cell_type": "code",
   "execution_count": 3,
   "metadata": {},
   "outputs": [
    {
     "name": "stdout",
     "output_type": "stream",
     "text": [
      "Alice\n",
      "David\n",
      "Carolina\n"
     ]
    }
   ],
   "source": [
    "magicians = ['alice', 'david','carolina']\n",
    "for magician in magicians:\n",
    "    print(magician.title())"
   ]
  },
  {
   "cell_type": "code",
   "execution_count": 11,
   "metadata": {
    "scrolled": true
   },
   "outputs": [
    {
     "name": "stdout",
     "output_type": "stream",
     "text": [
      "Alice, you are so fucking good!\n",
      "I love you so much, Alice.\n",
      "\n",
      "David, you are so fucking good!\n",
      "I love you so much, David.\n",
      "\n",
      "Carolina, you are so fucking good!\n",
      "I love you so much, Carolina.\n",
      "\n"
     ]
    }
   ],
   "source": [
    "magicians = ['alice', 'david','carolina']\n",
    "for magician in magicians:\n",
    "    print(magician.title() + \", you are so fucking good!\")\n",
    "    print(\"I love you so much, \" + magician.title() + \".\\n\")"
   ]
  },
  {
   "cell_type": "markdown",
   "metadata": {},
   "source": [
    "range函数的一些性质"
   ]
  },
  {
   "cell_type": "code",
   "execution_count": 16,
   "metadata": {},
   "outputs": [
    {
     "name": "stdout",
     "output_type": "stream",
     "text": [
      "1\n",
      "2\n",
      "3\n",
      "4\n",
      "[1, 2, 3, 4, 5]\n",
      "[2, 4, 6, 8, 10]\n"
     ]
    }
   ],
   "source": [
    "for value in range(1,5):\n",
    "    print(value)\n",
    "number = list(range(1,6)) #可以用list将range转化为列表，这样就好访问里面的数据了\n",
    "print(number)\n",
    "number2 = list(range(2,11,2)) 步长为2\n",
    "print(number2)"
   ]
  },
  {
   "cell_type": "code",
   "execution_count": 1,
   "metadata": {
    "scrolled": true
   },
   "outputs": [
    {
     "name": "stdout",
     "output_type": "stream",
     "text": [
      "[1, 4, 9, 16, 25, 36, 49, 64, 81, 100]\n",
      "[1, 4, 9, 16, 25, 36, 49, 64, 81, 100]\n",
      "[1, 27, 125, 343, 729]\n"
     ]
    }
   ],
   "source": [
    "squares = []\n",
    "for value in range(1,11):\n",
    "    square = value**2\n",
    "    squares.append(square)\n",
    "\n",
    "print(squares)\n",
    "\n",
    "squares = []\n",
    "for value in range(1,11):\n",
    "    squares.append(value**2)\n",
    "print(squares)\n",
    "\n",
    "squares = [value**3 for value in range(1,11,2)] #成熟的代码人得用这种形式\n",
    "print(squares)"
   ]
  },
  {
   "cell_type": "markdown",
   "metadata": {},
   "source": [
    "列表切片"
   ]
  },
  {
   "cell_type": "code",
   "execution_count": 28,
   "metadata": {},
   "outputs": [
    {
     "name": "stdout",
     "output_type": "stream",
     "text": [
      "['b', 'c']\n",
      "['a', 'b', 'c']\n",
      "['c', 'd', 'e']\n",
      "['d', 'e']\n"
     ]
    }
   ],
   "source": [
    "players = ['a','b','c','d','e']\n",
    "print(players[1:3])\n",
    "print(players[:3])\n",
    "print(players[2:])\n",
    "print(players[-2:])"
   ]
  },
  {
   "cell_type": "code",
   "execution_count": 30,
   "metadata": {},
   "outputs": [
    {
     "name": "stdout",
     "output_type": "stream",
     "text": [
      "Here are the three players on my team:\n",
      "C\n",
      "D\n",
      "E\n"
     ]
    }
   ],
   "source": [
    "players = ['a','b','c','d','e']\n",
    "print(\"Here are the three players on my team:\")\n",
    "for player in players[-3:]: #使用for遍历列表切片\n",
    "    print(player.title())"
   ]
  },
  {
   "cell_type": "code",
   "execution_count": 33,
   "metadata": {},
   "outputs": [
    {
     "name": "stdout",
     "output_type": "stream",
     "text": [
      "['a', 'b', 'c']\n",
      "['a', 'b', 'c']\n",
      "['a', 'b', 'c', 'd']\n",
      "['a', 'b', 'c', 'e']\n"
     ]
    }
   ],
   "source": [
    "my_foods = ['a','b','c']\n",
    "his_foods = my_foods[:]\n",
    "print(my_foods)\n",
    "print(his_foods)\n",
    "my_foods.append('d')\n",
    "his_foods.append('e')\n",
    "print(my_foods)\n",
    "print(his_foods)"
   ]
  },
  {
   "cell_type": "code",
   "execution_count": 35,
   "metadata": {
    "scrolled": true
   },
   "outputs": [
    {
     "name": "stdout",
     "output_type": "stream",
     "text": [
      "['a', 'b', 'c']\n",
      "['a', 'b', 'c']\n",
      "['a', 'b', 'c', 'x']\n"
     ]
    }
   ],
   "source": [
    "my_foods = ['a','b','c']\n",
    "his_foods = my_foods #注意这种情况并没有复制一个新列表，而是建立了一个索引关系，不行滴。\n",
    "print(my_foods)\n",
    "print(his_foods)\n",
    "my_foods.append('x')\n",
    "print(his_foods)"
   ]
  },
  {
   "cell_type": "code",
   "execution_count": 2,
   "metadata": {},
   "outputs": [
    {
     "name": "stdout",
     "output_type": "stream",
     "text": [
      "200\n",
      "50\n",
      "200\n",
      "50\n"
     ]
    }
   ],
   "source": [
    "dimensions = (200,50)\n",
    "print(dimensions[0])\n",
    "print(dimensions[1])\n",
    "for dimension in dimensions:\n",
    "    print(dimension)"
   ]
  },
  {
   "cell_type": "code",
   "execution_count": null,
   "metadata": {},
   "outputs": [],
   "source": [
    "第5章 if语句"
   ]
  },
  {
   "cell_type": "code",
   "execution_count": 5,
   "metadata": {},
   "outputs": [
    {
     "name": "stdout",
     "output_type": "stream",
     "text": [
      "Audi\n",
      "BMW\n",
      "Subaru\n",
      "Toyota\n"
     ]
    }
   ],
   "source": [
    "cars = ['audi','bmw','subaru','toyota']\n",
    "\n",
    "for car in cars:\n",
    "    if car == 'bmw':\n",
    "        print(car.upper())\n",
    "    else:\n",
    "        print(car.title())"
   ]
  },
  {
   "cell_type": "code",
   "execution_count": 7,
   "metadata": {},
   "outputs": [
    {
     "name": "stdout",
     "output_type": "stream",
     "text": [
      "A\n",
      "a\n"
     ]
    }
   ],
   "source": [
    "name = 'a'\n",
    "print(name.upper()) #upper方法不会改变原始变量的大小写\n",
    "print(name)"
   ]
  },
  {
   "cell_type": "code",
   "execution_count": 8,
   "metadata": {},
   "outputs": [
    {
     "name": "stdout",
     "output_type": "stream",
     "text": [
      "what?\n"
     ]
    }
   ],
   "source": [
    "name = 'a'\n",
    "if name != 'love':\n",
    "    print(\"what?\")\n",
    "else:\n",
    "    print(\"ok\")"
   ]
  },
  {
   "cell_type": "code",
   "execution_count": 9,
   "metadata": {},
   "outputs": [
    {
     "data": {
      "text/plain": [
       "True"
      ]
     },
     "execution_count": 9,
     "metadata": {},
     "output_type": "execute_result"
    }
   ],
   "source": [
    "age_0 = 18\n",
    "age_1 = 20\n",
    "age_0 > 14 and age_1 < 24\n",
    "(age_0 > 14) and (age_1 < 24) #这两种都是一样的，第二种可读性好一点"
   ]
  },
  {
   "cell_type": "code",
   "execution_count": 10,
   "metadata": {},
   "outputs": [
    {
     "data": {
      "text/plain": [
       "True"
      ]
     },
     "execution_count": 10,
     "metadata": {},
     "output_type": "execute_result"
    }
   ],
   "source": [
    "age_0 = 18\n",
    "age_1 = 20\n",
    "age_0 > 14 or age_1 < 14"
   ]
  },
  {
   "cell_type": "code",
   "execution_count": 11,
   "metadata": {},
   "outputs": [
    {
     "data": {
      "text/plain": [
       "True"
      ]
     },
     "execution_count": 11,
     "metadata": {},
     "output_type": "execute_result"
    }
   ],
   "source": [
    "name = ['a','b','c']\n",
    "'a' in name"
   ]
  },
  {
   "cell_type": "code",
   "execution_count": 12,
   "metadata": {},
   "outputs": [
    {
     "name": "stdout",
     "output_type": "stream",
     "text": [
      "Mr.E, you can comment but watch out!\n"
     ]
    }
   ],
   "source": [
    "ban_name = ['a','b','c']\n",
    "user = 'e'\n",
    "\n",
    "if user not in ban_name:\n",
    "    print(\"Mr.\" + user.title() + \", you can comment but watch out!\")"
   ]
  },
  {
   "cell_type": "code",
   "execution_count": 19,
   "metadata": {},
   "outputs": [
    {
     "name": "stdout",
     "output_type": "stream",
     "text": [
      "Your admission cost is 40¥.\n"
     ]
    }
   ],
   "source": [
    "age = 59\n",
    "if age <=4:\n",
    "    print(\"Your admission cost is 0¥.\")\n",
    "elif age < 18:\n",
    "     print(\"Your admission cost is 20¥.\")\n",
    "elif age < 60:\n",
    "     print(\"Your admission cost is 40¥.\")\n",
    "else:\n",
    "     print(\"Your admission cost is 20¥.\")"
   ]
  },
  {
   "cell_type": "code",
   "execution_count": 25,
   "metadata": {},
   "outputs": [
    {
     "name": "stdout",
     "output_type": "stream",
     "text": [
      "Your admission cost is 40¥.\n"
     ]
    }
   ],
   "source": [
    "age = 37 #这种代码结构比上面的要简单一些\n",
    "if age <=4:\n",
    "    price = 0\n",
    "elif age < 18:\n",
    "    price = 20\n",
    "elif age < 60:\n",
    "    price = 40\n",
    "elif age >= 60: #末尾句可以是elif，但是elif后面必须得有条件，注意要加：\n",
    "    price = 20\n",
    "    \n",
    "print(\"Your admission cost is \" + str(price) + \"¥.\")"
   ]
  },
  {
   "cell_type": "code",
   "execution_count": 26,
   "metadata": {},
   "outputs": [
    {
     "name": "stdout",
     "output_type": "stream",
     "text": [
      "Your admission cost is 40¥.\n"
     ]
    }
   ],
   "source": [
    "age = 37 \n",
    "if age <=4:\n",
    "    price = 0\n",
    "elif age < 18:\n",
    "    price = 20\n",
    "elif age < 60:\n",
    "    price = 40\n",
    "else: #else的话就可以直接弄个：不用写条件了，根据自身需求进行灵活调节\n",
    "    price = 20\n",
    "    \n",
    "print(\"Your admission cost is \" + str(price) + \"¥.\")"
   ]
  },
  {
   "cell_type": "code",
   "execution_count": 28,
   "metadata": {},
   "outputs": [
    {
     "name": "stdout",
     "output_type": "stream",
     "text": [
      "Adding Mushroom.\n",
      "Adding Green Peppers.\n",
      "Adding Extra Cheese.\n",
      "This is your pizza.\n"
     ]
    }
   ],
   "source": [
    "tops = ['mushroom','green peppers','extra cheese']\n",
    "for top in tops:\n",
    "    print(\"Adding \" + top.title() + '.')\n",
    "\n",
    "print(\"This is your pizza.\") #如果有材料用完了，我们该怎么搞呢？见下面的代码。"
   ]
  },
  {
   "cell_type": "code",
   "execution_count": 36,
   "metadata": {},
   "outputs": [
    {
     "name": "stdout",
     "output_type": "stream",
     "text": [
      "Adding Mushroom.\n",
      "Sorry. we are out of green peppers.\n",
      "Adding Extra Cheese.\n",
      "This is your pizza.\n"
     ]
    }
   ],
   "source": [
    "tops = ['mushroom','green peppers','extra cheese']\n",
    "for top in tops:\n",
    "    if top == 'green peppers':\n",
    "        print(\"Sorry. we are out of green peppers.\") #这个地方的代码还是比较巧妙的。\n",
    "    else:\n",
    "        print(\"Adding \" + top.title() + '.')\n",
    "\n",
    "print(\"This is your pizza.\") "
   ]
  },
  {
   "cell_type": "code",
   "execution_count": 43,
   "metadata": {},
   "outputs": [
    {
     "name": "stdout",
     "output_type": "stream",
     "text": [
      "Are you sure you want a plain pizza?\n"
     ]
    }
   ],
   "source": [
    "pizzas = []\n",
    "if pizzas:\n",
    "    0\n",
    "else:\n",
    "    print(\"Are you sure you want a plain pizza?\")"
   ]
  },
  {
   "cell_type": "code",
   "execution_count": 45,
   "metadata": {},
   "outputs": [
    {
     "name": "stdout",
     "output_type": "stream",
     "text": [
      "Adding mushroom.\n",
      "Sorry. We don't offer Banana on pizza.\n",
      "Adding extra cheese.\n",
      "\n",
      "This is your pizza.\n"
     ]
    }
   ],
   "source": [
    "available_tops = ['mushroom','olives','green peppers','pepperoni','pineapple','extra cheese']\n",
    "requested_tops = ['mushroom','banana','extra cheese']\n",
    "\n",
    "for requested_top in requested_tops:\n",
    "    if requested_top in available_tops:\n",
    "        print(\"Adding \" + requested_top + \".\")\n",
    "    else:\n",
    "        print(\"Sorry. We don't offer \" + requested_top.title() +' on pizza.')\n",
    "\n",
    "print(\"\\nThis is your pizza.\")\n",
    "        "
   ]
  },
  {
   "cell_type": "markdown",
   "metadata": {},
   "source": [
    "第6章 字典"
   ]
  },
  {
   "cell_type": "code",
   "execution_count": 2,
   "metadata": {},
   "outputs": [
    {
     "name": "stdout",
     "output_type": "stream",
     "text": [
      "green\n",
      "5\n",
      "you just got 5 points.\n"
     ]
    }
   ],
   "source": [
    "alien_0 = {'color': 'green', 'points':5}\n",
    "print(alien_0['color'])\n",
    "print(alien_0['points'])\n",
    "\n",
    "new_points = alien_0['points']\n",
    "print(\"you just got \" + str(new_points) + \" points.\")"
   ]
  },
  {
   "cell_type": "code",
   "execution_count": 3,
   "metadata": {},
   "outputs": [
    {
     "name": "stdout",
     "output_type": "stream",
     "text": [
      "{'color': 'green', 'points': 5, 'x_position': 21, 'y_position': 18}\n"
     ]
    }
   ],
   "source": [
    "alien_0 = {'color': 'green', 'points':5}\n",
    "alien_0['x_position'] = 21 #添加任意新键值对到字典中\n",
    "alien_0['y_position'] = 18\n",
    "print(alien_0)"
   ]
  },
  {
   "cell_type": "code",
   "execution_count": 7,
   "metadata": {},
   "outputs": [
    {
     "name": "stdout",
     "output_type": "stream",
     "text": [
      "{'color': 'green', 'points': 5}\n",
      "yellow\n"
     ]
    }
   ],
   "source": [
    "alien_0 = {} #空字典\n",
    "alien_0['color'] = 'green'\n",
    "alien_0['points'] = 5\n",
    "\n",
    "print(alien_0)\n",
    "\n",
    "alien_0['color'] = 'yellow' \n",
    "print(alien_0['color'])"
   ]
  },
  {
   "cell_type": "code",
   "execution_count": 10,
   "metadata": {},
   "outputs": [
    {
     "name": "stdout",
     "output_type": "stream",
     "text": [
      "original x-position: 0\n",
      "new x-position: 2\n"
     ]
    }
   ],
   "source": [
    "#外星人的速度\n",
    "alien_0 = {'x_position': 0 , 'y_position':25, 'speed':'medium'}\n",
    "print(\"original x-position: \" +str(alien_0['x_position']))\n",
    "\n",
    "if alien_0['speed'] == 'slow':\n",
    "    x_increment = 1\n",
    "elif alien_0['speed'] == 'medium':\n",
    "    x_increment = 2\n",
    "else:\n",
    "    x_increment = 3\n",
    "\n",
    "alien_0['x_position'] = alien_0['x_position'] + x_increment\n",
    "print(\"new x-position: \" +str(alien_0['x_position']))"
   ]
  },
  {
   "cell_type": "code",
   "execution_count": 11,
   "metadata": {},
   "outputs": [
    {
     "name": "stdout",
     "output_type": "stream",
     "text": [
      "{'x_position': 0, 'y_position': 25}\n"
     ]
    }
   ],
   "source": [
    "#删除键值对\n",
    "alien_0 = {'x_position': 0 , 'y_position':25, 'speed':'medium'}\n",
    "del alien_0['speed']\n",
    "print(alien_0)"
   ]
  },
  {
   "cell_type": "code",
   "execution_count": 16,
   "metadata": {
    "scrolled": true
   },
   "outputs": [
    {
     "name": "stdout",
     "output_type": "stream",
     "text": [
      "{'jen': 'python', 'ben': 'java', 'hong': 'C++'}\n",
      "Jen's favorite language is Python.\n"
     ]
    }
   ],
   "source": [
    "favorite_languages = {\n",
    "    'jen':'python',\n",
    "    'ben':'java',\n",
    "    'hong':'C++',\n",
    "}\n",
    "print(favorite_languages)\n",
    "print(\"Jen's favorite language is \" + \n",
    "      favorite_languages['jen'].title()\n",
    "     + \".\")"
   ]
  },
  {
   "cell_type": "code",
   "execution_count": 2,
   "metadata": {},
   "outputs": [
    {
     "name": "stdout",
     "output_type": "stream",
     "text": [
      "\n",
      "Key: jen\n",
      "Value: python\n",
      "\n",
      "Key: ben\n",
      "Value: java\n",
      "\n",
      "Key: hong\n",
      "Value: C++\n"
     ]
    }
   ],
   "source": [
    "user_0 = { #遍历字典里的所有元素\n",
    "    'jen':'python',\n",
    "    'ben':'java',\n",
    "    'hong':'C++',\n",
    "}\n",
    "for key, value in user_0.items(): #这个地方attention，可以同时列两项一起for\n",
    "    print(\"\\nKey: \" + key)\n",
    "    print(\"Value: \" + value)\n",
    "    \n",
    "    "
   ]
  },
  {
   "cell_type": "code",
   "execution_count": 3,
   "metadata": {},
   "outputs": [
    {
     "name": "stdout",
     "output_type": "stream",
     "text": [
      "Hi, Jen. Your favorite language is Python.\n",
      "Hi, Ben. Your favorite language is Java.\n",
      "Hi, Hong. We can't find your name.\n",
      "\n",
      "Jason is not found in the database.\n"
     ]
    }
   ],
   "source": [
    "user_0 = {\n",
    "    'jen':'python',\n",
    "    'ben':'java',\n",
    "    'hong':'C++',\n",
    "}\n",
    "friends = ['jen','ben']\n",
    "for name in user_0.keys(): #.keys表示找键\n",
    "    #print(name.title())\n",
    "    \n",
    "    if name in friends:\n",
    "        print(\"Hi, \" + name.title() + \n",
    "              \". Your favorite language is \" + user_0[name].title()\n",
    "              + \".\")\n",
    "    else:\n",
    "        print(\"Hi, \" + name.title() +\n",
    "              \". We can't find your name.\")\n",
    "        \n",
    "if 'jason' not in user_0.keys():\n",
    "    print(\"\\nJason is not found in the database.\")\n",
    "        "
   ]
  },
  {
   "cell_type": "code",
   "execution_count": 4,
   "metadata": {},
   "outputs": [
    {
     "name": "stdout",
     "output_type": "stream",
     "text": [
      "Ben, thank you for taking the poll.\n",
      "Hong, thank you for taking the poll.\n",
      "Jen, thank you for taking the poll.\n"
     ]
    }
   ],
   "source": [
    "user_0 = {\n",
    "    'jen':'python',\n",
    "    'ben':'java',\n",
    "    'hong':'C++',\n",
    "}\n",
    "\n",
    "for name in sorted(user_0.keys()): #前面讲的语法，貌似是排序\n",
    "    print(name.title() + \", thank you for taking the poll.\")\n",
    "    "
   ]
  },
  {
   "cell_type": "code",
   "execution_count": 9,
   "metadata": {},
   "outputs": [
    {
     "name": "stdout",
     "output_type": "stream",
     "text": [
      "The mentioned languages are: \n",
      "python\n",
      "java\n",
      "C++\n",
      "java\n",
      "1 C++ 1\n",
      "1 java 1\n",
      "1 python 1\n"
     ]
    }
   ],
   "source": [
    "user_0 = {\n",
    "    'jen':'python',\n",
    "    'ben':'java',\n",
    "    'hong':'C++',\n",
    "    'jason':'java',\n",
    "}\n",
    "print(\"The mentioned languages are: \")\n",
    "for name in user_0.values():\n",
    "    print(name)\n",
    "for name in set(user_0.values()): #set可以剔除重复项，很实用的\n",
    "    print(1,name,1)"
   ]
  },
  {
   "cell_type": "code",
   "execution_count": 18,
   "metadata": {},
   "outputs": [
    {
     "name": "stdout",
     "output_type": "stream",
     "text": [
      "{'color': 'green', 'points': 5}\n",
      "{'color': 'yellow', 'points': 10}\n",
      "{'color': 'red', 'points': 15}\n"
     ]
    }
   ],
   "source": [
    "alien_0 = {'color':'green','points':5}\n",
    "alien_1 = {'color':'yellow','points':10}\n",
    "alien_2 = {'color':'red','points':15}\n",
    "\n",
    "aliens = [alien_0, alien_1, alien_2] #这一步实际上就是简单的把3个字典给拼接成一个列表\n",
    "\n",
    "for alien in aliens:\n",
    "    print(alien)"
   ]
  },
  {
   "cell_type": "code",
   "execution_count": 24,
   "metadata": {},
   "outputs": [
    {
     "name": "stdout",
     "output_type": "stream",
     "text": [
      "{'color': 'green', 'points': 5, 'speed': 'slow'}\n",
      "{'color': 'green', 'points': 5, 'speed': 'slow'}\n",
      "{'color': 'green', 'points': 5, 'speed': 'slow'}\n",
      "{'color': 'green', 'points': 5, 'speed': 'slow'}\n",
      "{'color': 'green', 'points': 5, 'speed': 'slow'}\n",
      "...\n",
      "The total number of aliens is 30.\n"
     ]
    }
   ],
   "source": [
    "aliens = []\n",
    "for alien_number in range(30): #这个地方其实就是一个无情的计数机器，没有什么鸟用\n",
    "    new_alien = {'color':'green','points':5,'speed':'slow'}\n",
    "    aliens.append(new_alien)\n",
    "\n",
    "for alien in aliens[0:5]:\n",
    "    print(alien)\n",
    "print(\"...\")\n",
    "print(\"The total number of aliens is \" + str(len(aliens)) + \".\")\n",
    "    "
   ]
  },
  {
   "cell_type": "code",
   "execution_count": 25,
   "metadata": {},
   "outputs": [
    {
     "name": "stdout",
     "output_type": "stream",
     "text": [
      "{'color': 'yellow', 'points': 10, 'speed': 'medium'}\n",
      "{'color': 'yellow', 'points': 10, 'speed': 'medium'}\n",
      "{'color': 'yellow', 'points': 10, 'speed': 'medium'}\n",
      "{'color': 'green', 'points': 5, 'speed': 'slow'}\n",
      "{'color': 'green', 'points': 5, 'speed': 'slow'}\n",
      "...\n"
     ]
    }
   ],
   "source": [
    "aliens = []\n",
    "for alien_number in range(30): #这个地方其实就是一个无情的计数机器，没有什么鸟用\n",
    "    new_alien = {'color':'green','points':5,'speed':'slow'}\n",
    "    aliens.append(new_alien)\n",
    "\n",
    "for alien in aliens[0:3]: #就是说把前几个给改变数值了，其他不变\n",
    "    if alien['color'] == 'green':\n",
    "        alien['color'] = 'yellow'\n",
    "        alien['speed'] = 'medium'\n",
    "        alien['points'] = 10\n",
    "    \n",
    "for alien in aliens[0:5]:\n",
    "    print(alien)\n",
    "print(\"...\")"
   ]
  },
  {
   "cell_type": "code",
   "execution_count": 26,
   "metadata": {},
   "outputs": [
    {
     "name": "stdout",
     "output_type": "stream",
     "text": [
      "{'color': 'yellow', 'points': 10, 'speed': 'medium'}\n",
      "{'color': 'yellow', 'points': 10, 'speed': 'medium'}\n",
      "{'color': 'yellow', 'points': 10, 'speed': 'medium'}\n",
      "{'color': 'green', 'points': 5, 'speed': 'slow'}\n",
      "{'color': 'green', 'points': 5, 'speed': 'slow'}\n",
      "...\n"
     ]
    }
   ],
   "source": [
    "aliens = []\n",
    "for alien_number in range(30): #这个地方其实就是一个无情的计数机器，没有什么鸟用\n",
    "    new_alien = {'color':'green','points':5,'speed':'slow'}\n",
    "    aliens.append(new_alien)\n",
    "\n",
    "for alien in aliens[0:3]:\n",
    "    if alien['color'] == 'green':\n",
    "        alien['color'] = 'yellow'\n",
    "        alien['speed'] = 'medium'\n",
    "        alien['points'] = 10\n",
    "    elif alien['color'] == 'yellow':\n",
    "        alien['color'] = 'red'\n",
    "        alien['speed'] = 'fast'\n",
    "        alien['points'] = 15\n",
    "    \n",
    "for alien in aliens[0:5]:\n",
    "    print(alien)\n",
    "print(\"...\")"
   ]
  },
  {
   "cell_type": "code",
   "execution_count": 27,
   "metadata": {},
   "outputs": [
    {
     "name": "stdout",
     "output_type": "stream",
     "text": [
      "You ordered a thick-crust pizza with the following toppings:\n",
      "\tmushrooms\n",
      "\textra cheese\n"
     ]
    }
   ],
   "source": [
    "pizza = {\n",
    "    'crust':'thick',\n",
    "    'toppings':['mushrooms','extra cheese']\n",
    "}\n",
    "\n",
    "print(\"You ordered a \" + pizza['crust'] + \"-crust pizza \" +\n",
    "      \"with the following toppings:\")\n",
    "\n",
    "for topping in pizza['toppings']:\n",
    "    print(\"\\t\" + topping)"
   ]
  },
  {
   "cell_type": "code",
   "execution_count": 32,
   "metadata": {},
   "outputs": [
    {
     "name": "stdout",
     "output_type": "stream",
     "text": [
      "\n",
      "Jen's favorite languages are: \n",
      "\tPython\n",
      "\tRuby\n",
      "\n",
      "Sarah's favorite languages are: \n",
      "\tC\n",
      "\n",
      "Edward's favorite languages are: \n",
      "\tRuby\n",
      "\tGo\n",
      "\n",
      "Phil's favorite languages are: \n",
      "\tPython\n",
      "\tHaskell\n"
     ]
    }
   ],
   "source": [
    "favorite_languages = {\n",
    "    'jen':['python','ruby'],\n",
    "    'sarah':['c'],\n",
    "    'edward':['ruby','go'],\n",
    "    'phil':['python','haskell'],\n",
    "}\n",
    "\n",
    "for name, languages in favorite_languages.items():\n",
    "    print(\"\\n\" + name.title() + \"'s favorite languages are: \")\n",
    "    for language in languages:\n",
    "        print(\"\\t\" + language.title())"
   ]
  },
  {
   "cell_type": "code",
   "execution_count": 33,
   "metadata": {},
   "outputs": [
    {
     "name": "stdout",
     "output_type": "stream",
     "text": [
      "\n",
      "Username: aeinstein\n",
      "\tFull name: Albert Einstein\n",
      "\tlocation: Princeton\n",
      "\n",
      "Username: mcurie\n",
      "\tFull name: Marie Curie\n",
      "\tlocation: Paris\n"
     ]
    }
   ],
   "source": [
    "users = { #这种字典套字典的结构感觉还挺复杂的，惹。\n",
    "    'aeinstein':{\n",
    "        'first':'albert',\n",
    "        'last':'einstein',\n",
    "        'location':'princeton',\n",
    "                },\n",
    "\n",
    "    'mcurie':{\n",
    "        'first':'marie',\n",
    "        'last':'curie',\n",
    "        'location':'paris',\n",
    "                },\n",
    "        }\n",
    "\n",
    "for username, user_info in users.items():\n",
    "    print(\"\\nUsername: \" + username)\n",
    "    full_name = user_info['first'] + \" \" + user_info['last']\n",
    "    location = user_info['location']\n",
    "    \n",
    "    print(\"\\tFull name: \" + full_name.title())\n",
    "    print(\"\\tlocation: \" + location.title())"
   ]
  }
 ],
 "metadata": {
  "kernelspec": {
   "display_name": "Python 3",
   "language": "python",
   "name": "python3"
  },
  "language_info": {
   "codemirror_mode": {
    "name": "ipython",
    "version": 3
   },
   "file_extension": ".py",
   "mimetype": "text/x-python",
   "name": "python",
   "nbconvert_exporter": "python",
   "pygments_lexer": "ipython3",
   "version": "3.8.5"
  }
 },
 "nbformat": 4,
 "nbformat_minor": 4
}

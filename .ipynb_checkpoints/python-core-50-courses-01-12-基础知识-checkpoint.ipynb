{
 "cells": [
  {
   "cell_type": "markdown",
   "metadata": {},
   "source": [
    "# 01、02无关的一些小知识\n",
    "\n",
    "\n",
    "冯诺伊曼体系的计算机有两大特征，一是将存储设备与中央处理器分开，二是数据以二进制方式编码\n",
    "\n",
    "\n",
    "玛雅人是二十进制，按照玛雅人的历法，公元2012年是太阳纪的最后一年，2013年是新的太阳纪的开始，所以被以讹传讹为了2012年是玛雅人所说的世界末日。"
   ]
  },
  {
   "cell_type": "markdown",
   "metadata": {},
   "source": [
    "# 03、04 变量的定义、运算符"
   ]
  },
  {
   "cell_type": "markdown",
   "metadata": {},
   "source": [
    "**规则1：**变量名通常使用**小写英文字母**，多个单词用**下划线**进行连接。\n",
    "\n",
    "**注意：**python中的字母指的是Unicode字符，**中文**、日文、希腊字母都可以作为变量名中的字符\n",
    "\n",
    "**规则2：**受保护的变量用单个下划线开头。\n",
    "\n",
    "**规则3：**私有的变量用两个下划线开头。\n",
    "\n",
    "**规则4：**变量名一般用小写字母，中间用下划线连接。"
   ]
  },
  {
   "cell_type": "markdown",
   "metadata": {},
   "source": [
    "### 求模与整除"
   ]
  },
  {
   "cell_type": "code",
   "execution_count": null,
   "metadata": {},
   "outputs": [],
   "source": [
    "print(321 % 100) #求模，也就是求余数\n",
    "#记忆法，%有两个圆圈，所以表示多余的，求余数\n",
    "print(321 // 100) #整除，也就是只保留整数位，小数就不要了。"
   ]
  },
  {
   "cell_type": "markdown",
   "metadata": {},
   "source": [
    "### 检查变量类型"
   ]
  },
  {
   "cell_type": "code",
   "execution_count": 2,
   "metadata": {
    "scrolled": false
   },
   "outputs": [
    {
     "name": "stdout",
     "output_type": "stream",
     "text": [
      "<class 'int'>\n"
     ]
    }
   ],
   "source": [
    "a = 123\n",
    "print(type(a))\n",
    "# 要经常用type函数来对变量类型进行检查"
   ]
  },
  {
   "cell_type": "markdown",
   "metadata": {},
   "source": [
    "### print函数的使用"
   ]
  },
  {
   "cell_type": "code",
   "execution_count": 8,
   "metadata": {},
   "outputs": [
    {
     "name": "stdout",
     "output_type": "stream",
     "text": [
      "请输入华氏温度:32\n",
      "32.0华氏度 = 0.0摄氏度\n",
      "32.0华氏度 = 0.0摄氏度\n"
     ]
    }
   ],
   "source": [
    "f = float(input('请输入华氏温度:'))\n",
    "c = (f-32)/1.8\n",
    "print('%.1f华氏度 = %.1f摄氏度' % (f,c))\n",
    "\n",
    "'''\n",
    "%.1f 是一个占位符，后面用float变量来代替\n",
    "%d   int占位符\n",
    "%s   str字符串占位符\n",
    "这种方式不利于记忆，我的感觉是不要用\n",
    "'''\n",
    "\n",
    "print(f\"{f:.1f}华氏度 = {c:.1f}摄氏度\") \n",
    "### 这个是非常关键的，即使是f类的print，也可以用.1f，之前我一直忽视。\n",
    "\n",
    "'''\n",
    "经典的f\" 占位符模式，注意对于float变量，可以用:.1f来进行限定位数\n",
    "下面还有例子\n",
    "'''"
   ]
  },
  {
   "cell_type": "code",
   "execution_count": 3,
   "metadata": {
    "scrolled": true
   },
   "outputs": [
    {
     "name": "stdout",
     "output_type": "stream",
     "text": [
      "数字为3.14\n",
      "3.142就是我们要输出的内容。\n"
     ]
    }
   ],
   "source": [
    "number = 3.1415926\n",
    "print(f\"数字为{number:.2f}\")\n",
    "print('%.3f就是我们要输出的内容。'% number) # 这种方式不好记，不要用"
   ]
  },
  {
   "cell_type": "markdown",
   "metadata": {},
   "source": [
    "# 05 分支结构"
   ]
  },
  {
   "cell_type": "code",
   "execution_count": 5,
   "metadata": {},
   "outputs": [
    {
     "name": "stdout",
     "output_type": "stream",
     "text": [
      "username:admin\n",
      "password:123456\n",
      "correct.\n"
     ]
    }
   ],
   "source": [
    "#练习，请用户输入用户名和密码，如果是admin和123456则显示正确，否则显示错误\n",
    "username = input('username:')\n",
    "password = input('password:')\n",
    "\n",
    "if username == 'admin' and password == '123456':\n",
    "    print('correct.')\n",
    "else:\n",
    "    print('wrong')"
   ]
  },
  {
   "cell_type": "markdown",
   "metadata": {},
   "source": [
    "代码嵌套的层次如果很多，会严重影响代码的可读性，所以更为扁平化的结果一般来说是更好的选择。\n",
    "\n",
    "Zen of Python Flat is better than nested."
   ]
  },
  {
   "cell_type": "markdown",
   "metadata": {},
   "source": [
    "# 06 循环结构"
   ]
  },
  {
   "cell_type": "markdown",
   "metadata": {},
   "source": [
    "如果明确知道**循环的次数**，推荐使用for-in循环"
   ]
  },
  {
   "cell_type": "code",
   "execution_count": 6,
   "metadata": {},
   "outputs": [
    {
     "name": "stdout",
     "output_type": "stream",
     "text": [
      "2500\n"
     ]
    }
   ],
   "source": [
    "# 练习 用for-in循环实现1~100之间偶数的和\n",
    "total = 0\n",
    "for i in range(2,101,2): #注意(1,101,2) (2,101,2)都可以，因为range包含第一位数\n",
    "    total  += i\n",
    "print(total)"
   ]
  },
  {
   "cell_type": "markdown",
   "metadata": {},
   "source": [
    "如果**不知道要循环的次数**，就使用while循环"
   ]
  },
  {
   "cell_type": "code",
   "execution_count": 1,
   "metadata": {},
   "outputs": [
    {
     "name": "stdout",
     "output_type": "stream",
     "text": [
      "输入一个1-100的数字：23\n",
      "再小一点\n",
      "输入一个1-100的数字：16\n",
      "再小一点\n",
      "输入一个1-100的数字：8\n",
      "再大一点\n",
      "输入一个1-100的数字：12\n",
      "再大一点\n",
      "输入一个1-100的数字：15\n",
      "再小一点\n",
      "输入一个1-100的数字：14\n",
      "猜对了，答案是14.\n",
      "一共猜了6次。\n"
     ]
    }
   ],
   "source": [
    "# 练习猜数字\n",
    "# 游戏的规则是：计算机出一个1到100之间的随机数，玩家输入自己猜的数字，计算机给出对应的提示信息（大一点、小一点或猜对了），如果玩家猜中了数字，计算机提示用户一共猜了多少次，游戏结束，否则游戏继续。\n",
    "import random\n",
    "answer = random.randint(1,100)\n",
    "count = 0\n",
    "\n",
    "while True:\n",
    "    number = int(input('输入一个1-100的数字：'))\n",
    "    count += 1\n",
    "    if number < answer:\n",
    "        print('再大一点')\n",
    "    elif number > answer:\n",
    "        print('再小一点')\n",
    "    else:\n",
    "        print('猜对了，答案是%d.'% answer)\n",
    "        print('一共猜了%d次。'% count)\n",
    "        break # while遇到了break才会完全结束循环，注意与continue区分"
   ]
  },
  {
   "cell_type": "markdown",
   "metadata": {},
   "source": [
    "### *break与continue\n",
    "**break**可以结束循环，但是只能结束它所在的循环，这一点在**嵌套循环结构**中有所体现。\n",
    "\n",
    "如果不涉及嵌套循环，break就是很单纯的结束while循环，这样理解就可以了\n",
    "\n",
    "**continue**用于放弃**本次循环的后续代码**，直接进入**下一次循环**。"
   ]
  },
  {
   "cell_type": "code",
   "execution_count": 4,
   "metadata": {},
   "outputs": [
    {
     "name": "stdout",
     "output_type": "stream",
     "text": [
      "1*1=1\t1*2=2\t1*3=3\t1*4=4\t1*5=5\t1*6=6\t1*7=7\t1*8=8\t1*9=9\t\n",
      "2*1=2\t2*2=4\t2*3=6\t2*4=8\t2*5=10\t2*6=12\t2*7=14\t2*8=16\t2*9=18\t\n",
      "3*1=3\t3*2=6\t3*3=9\t3*4=12\t3*5=15\t3*6=18\t3*7=21\t3*8=24\t3*9=27\t\n",
      "4*1=4\t4*2=8\t4*3=12\t4*4=16\t4*5=20\t4*6=24\t4*7=28\t4*8=32\t4*9=36\t\n",
      "5*1=5\t5*2=10\t5*3=15\t5*4=20\t5*5=25\t5*6=30\t5*7=35\t5*8=40\t5*9=45\t\n",
      "6*1=6\t6*2=12\t6*3=18\t6*4=24\t6*5=30\t6*6=36\t6*7=42\t6*8=48\t6*9=54\t\n",
      "7*1=7\t7*2=14\t7*3=21\t7*4=28\t7*5=35\t7*6=42\t7*7=49\t7*8=56\t7*9=63\t\n",
      "8*1=8\t8*2=16\t8*3=24\t8*4=32\t8*5=40\t8*6=48\t8*7=56\t8*8=64\t8*9=72\t\n",
      "9*1=9\t9*2=18\t9*3=27\t9*4=36\t9*5=45\t9*6=54\t9*7=63\t9*8=72\t9*9=81\t\n"
     ]
    }
   ],
   "source": [
    "#练习 循环嵌套的99乘法表\n",
    "for i in range(1,10):\n",
    "    for j in range(1,10):\n",
    "        print(f'{i}*{j}={i*j}', end='\\t') #attention!!\n",
    "    print() #功能是实现换行输出"
   ]
  },
  {
   "cell_type": "code",
   "execution_count": 6,
   "metadata": {},
   "outputs": [
    {
     "name": "stdout",
     "output_type": "stream",
     "text": [
      "x =45\n",
      "y =84\n",
      "45和84最大公因数为：3\n",
      "45和84最小公倍数为：1260\n"
     ]
    }
   ],
   "source": [
    "# 练习 输入两个正整数，计算它们的最大公约数和最小公倍数 是for和if的组合拳练习\n",
    "\n",
    "x = int(input('x ='))\n",
    "y = int(input('y ='))\n",
    "for factor in range(x,0,-1): # 这个属于range的妙用，从x到1，-1递减\n",
    "    if x % factor == 0 and y % factor == 0:\n",
    "        print(f\"{x}和{y}最大公因数为：{factor}\")\n",
    "        print(f\"{x}和{y}最小公倍数为：{x * y // factor}\")\n",
    "        break"
   ]
  },
  {
   "cell_type": "markdown",
   "metadata": {},
   "source": [
    "# 07 分支和循环结构的应用"
   ]
  },
  {
   "cell_type": "markdown",
   "metadata": {},
   "source": [
    "大部分初学者在学习了分支和循环结构后都能理解它们的用法，但是遇到实际问题时自己写不出来\n",
    "\n",
    "不要沮丧，这是因为你的**练习量**还远远**没有达到可以让你随心所欲**的写出代码的程度。\n",
    "\n",
    "练习！练习！练习！只有练习，才能真正熟练掌握代码技巧"
   ]
  },
  {
   "cell_type": "code",
   "execution_count": 7,
   "metadata": {
    "scrolled": true
   },
   "outputs": [
    {
     "name": "stdout",
     "output_type": "stream",
     "text": [
      "153\n",
      "370\n",
      "371\n",
      "407\n"
     ]
    }
   ],
   "source": [
    "# 练习 找出所有水仙花数 三位数，每个位上的立方之和等于这个数本身\n",
    "\n",
    "for number in range(100,1000):\n",
    "    gewei = number % 10\n",
    "    shiwei = number // 10 % 10 #这一步非常精妙，还是值得好好品一品的\n",
    "    baiwei = number // 100\n",
    "    if number == gewei ** 3 + shiwei ** 3 + baiwei ** 3:\n",
    "        print(number)"
   ]
  },
  {
   "cell_type": "code",
   "execution_count": 11,
   "metadata": {},
   "outputs": [
    {
     "name": "stdout",
     "output_type": "stream",
     "text": [
      "num = 1857845\n",
      "5487581\n"
     ]
    }
   ],
   "source": [
    "# 练习，将一个不知道多少位的正整数翻转，比如12345变成54321\n",
    "\n",
    "number = int(input('num = '))\n",
    "reversed_num = 0\n",
    "while number > 0:\n",
    "    reversed_num = reversed_num * 10 + number % 10\n",
    "    number //= 10\n",
    "print(reversed_num)\n",
    "'''\n",
    "这个设计非常的精妙，值得细细品味\n",
    "number % 10 取末位数，并且把这个末位数保存下来\n",
    "取完末位数之后之间用 //10 把最后一位给削去\n",
    "太神奇了！一定要反复品味！！\n",
    "'''"
   ]
  },
  {
   "cell_type": "code",
   "execution_count": 13,
   "metadata": {},
   "outputs": [
    {
     "name": "stdout",
     "output_type": "stream",
     "text": [
      "公鸡：0只，母鸡：25只，小鸡：75只\n",
      "公鸡：4只，母鸡：18只，小鸡：78只\n",
      "公鸡：8只，母鸡：11只，小鸡：81只\n",
      "公鸡：12只，母鸡：4只，小鸡：84只\n"
     ]
    }
   ],
   "source": [
    "# 练习 百钱百鸡问题\n",
    "# 公鸡5元1个，母鸡3元1个，小鸡1元3个，用100元买100只鸡，问各有多少只？\n",
    "\n",
    "# x为公鸡、y为母鸡、z为小鸡\n",
    "for x in range(21):\n",
    "    for y in range(33):\n",
    "        z = 100 - x - y\n",
    "        if z % 3 == 0 and 5 * x + 3 * y + z / 3 == 100:\n",
    "            print(f'公鸡：{x}只，母鸡：{y}只，小鸡：{z}只')"
   ]
  },
  {
   "cell_type": "code",
   "execution_count": 16,
   "metadata": {},
   "outputs": [
    {
     "name": "stdout",
     "output_type": "stream",
     "text": [
      "1\t1\t2\t3\t5\t8\t13\t21\t34\t55\t89\t144\t233\t377\t610\t987\t1597\t2584\t4181\t6765\t"
     ]
    }
   ],
   "source": [
    "# 练习 斐波那契数列\n",
    "a, b = 0, 1\n",
    "for _ in range(1,21):\n",
    "    a, b = b, a+b #这种情况和拆开写的效果还真不一样\n",
    "    print(a, end='\\t')"
   ]
  },
  {
   "cell_type": "code",
   "execution_count": 18,
   "metadata": {},
   "outputs": [
    {
     "name": "stdout",
     "output_type": "stream",
     "text": [
      "以下数字为2-99（包括2和99）间的素数：\n",
      "2\t3\t5\t7\t11\t13\t17\t19\t23\t29\t31\t37\t41\t43\t47\t53\t59\t61\t67\t71\t73\t79\t83\t89\t97\t"
     ]
    }
   ],
   "source": [
    "# 练习 打印100以内的素数 只能被1和自身整除的正整数（不包括1）\n",
    "\n",
    "print('以下数字为2-99（包括2和99）间的素数：')\n",
    "for num in range(2,100):\n",
    "    is_prime = True\n",
    "    for item in range(2,num):\n",
    "        if num % item == 0:\n",
    "            is_prime = False\n",
    "            break\n",
    "    if is_prime == True:\n",
    "        print(num, end='\\t')"
   ]
  },
  {
   "cell_type": "markdown",
   "metadata": {},
   "source": [
    "### 循环和分支的毕业考试 CRAPS赌博游戏\n",
    "\n",
    "\n",
    "**规则** ：玩家第一次摇骰子如果摇出了7点或11点，玩家胜；玩家第一次如果摇出2点、3点或12点，庄家胜；玩家如果摇出其他点数则玩家继续摇骰子，如果玩家摇出了7点，庄家胜；如果玩家摇出了第一次摇的点数，玩家胜；其他点数玩家继续摇骰子，直到分出胜负。\n"
   ]
  },
  {
   "cell_type": "code",
   "execution_count": 2,
   "metadata": {},
   "outputs": [
    {
     "name": "stdout",
     "output_type": "stream",
     "text": [
      "你的总资产为：1000元\n",
      "请下注：1000\n",
      "玩家首次投掷为6点\n",
      "玩家投掷为7点\n",
      "庄家胜\n",
      "你破产了，游戏结束\n"
     ]
    }
   ],
   "source": [
    "from random import randint\n",
    "money = 1000 \n",
    "\n",
    "while money > 0:\n",
    "    print(f'你的总资产为：{money}元')\n",
    "    while True: # 下注系统\n",
    "        debt = int(input('请下注：'))\n",
    "        if debt > money:\n",
    "            print('下注金额超过了总资产，请重新下注。')\n",
    "            continue\n",
    "        elif 0 < debt <= money:\n",
    "            break #跳出下注系统\n",
    "    \n",
    "    #第一次摇骰子\n",
    "    go_on = False\n",
    "    first = randint(1,6) + randint(1,6) # 模拟第一次摇骰子\n",
    "    print(f'玩家首次投掷为{first}点')\n",
    "    if first == 7 or first == 11:\n",
    "        print('玩家胜')\n",
    "        money += debt\n",
    "    elif first == 2 or first == 3 or first == 12:\n",
    "        print('庄家胜')\n",
    "        money -= debt\n",
    "    else:\n",
    "        go_on = True\n",
    "    #第一次做的时候有疑问：这个地方怎么才能搞出那种不运行后面代码的机制呢\n",
    "    #看完之后可以用一个bool类型的simbol来搞，哈哈这一点真的学习体会到了\n",
    "    \n",
    "    while go_on == True:\n",
    "        current = randint(1,6) + randint(1,6) # 模拟后面透骰子\n",
    "        print(f'玩家投掷为{current}点')\n",
    "        if current == 7:\n",
    "            print('庄家胜')\n",
    "            money -= debt\n",
    "            break\n",
    "        if current == first:\n",
    "            print('玩家胜')\n",
    "            money += debt\n",
    "            break\n",
    "\n",
    "print('你破产了，游戏结束')"
   ]
  },
  {
   "cell_type": "markdown",
   "metadata": {},
   "source": [
    "上面这个例子学到最重要的东西就是这个*go_on=True* 其实类似前面的*is_prime*"
   ]
  },
  {
   "cell_type": "markdown",
   "metadata": {},
   "source": [
    "# 08 常用数据结构之列表"
   ]
  },
  {
   "cell_type": "code",
   "execution_count": 4,
   "metadata": {},
   "outputs": [
    {
     "name": "stdout",
     "output_type": "stream",
     "text": [
      "1点出现了1004次。\n",
      "2点出现了1004次。\n",
      "3点出现了974次。\n",
      "4点出现了1001次。\n",
      "5点出现了993次。\n",
      "6点出现了1024次。\n"
     ]
    }
   ],
   "source": [
    "#练习 将一个骰子扔6000次，统计每个点数出现的次数\n",
    "# 如果用下面这种方式来做，会感觉非常的笨重，这个时候就要引入列表啦。\n",
    "from random import randint\n",
    "\n",
    "time1=0\n",
    "time2=0\n",
    "time3=0\n",
    "time4=0\n",
    "time5=0\n",
    "time6=0\n",
    "\n",
    "for drop in range(6000):\n",
    "    current = randint(1,6)\n",
    "    if current == 1:\n",
    "        time1 += 1\n",
    "    elif current == 2:\n",
    "        time2 += 1\n",
    "    elif current == 3:\n",
    "        time3 += 1\n",
    "    elif current == 4:\n",
    "        time4 += 1\n",
    "    elif current == 5:\n",
    "        time5 += 1\n",
    "    elif current == 6:\n",
    "        time6 += 1\n",
    "\n",
    "print(f\"1点出现了{time1}次。\")\n",
    "print(f\"2点出现了{time2}次。\")\n",
    "print(f\"3点出现了{time3}次。\")\n",
    "print(f\"4点出现了{time4}次。\")\n",
    "print(f\"5点出现了{time5}次。\")\n",
    "print(f\"6点出现了{time6}次。\")"
   ]
  },
  {
   "cell_type": "markdown",
   "metadata": {},
   "source": [
    "### 列表的两种定义方式"
   ]
  },
  {
   "cell_type": "code",
   "execution_count": 5,
   "metadata": {},
   "outputs": [
    {
     "name": "stdout",
     "output_type": "stream",
     "text": [
      "[1, 2, 3, 4, 5, 6, 7, 8, 9]\n",
      "['h', 'e', 'l', 'l', 'o']\n"
     ]
    }
   ],
   "source": [
    "# 方法一，直接手工定义\n",
    "list1 = [1,2,3,4,5]\n",
    "list2 = ['apple', 'pencil', 'ol']\n",
    "\n",
    "# 方法二，用list函数将一些序列转变为列表\n",
    "list1 = list(range(1,10))\n",
    "print(list1)\n",
    "# 注意，如果直接print(range(1,10))，输出的结果仍旧是range(1,10)，这个输出基本上来说毫无价值\n",
    "list2 = list('hello')\n",
    "print(list2)"
   ]
  },
  {
   "cell_type": "markdown",
   "metadata": {},
   "source": [
    "### 列表的一些常用操作"
   ]
  },
  {
   "cell_type": "code",
   "execution_count": 11,
   "metadata": {},
   "outputs": [
    {
     "name": "stdout",
     "output_type": "stream",
     "text": [
      "[1, 2, 3, 4, 5, 6, 2, 4, 5, 6, 7, 8, 9]\n",
      "[1, 2, 3, 4, 5, 6, 1, 2, 3, 4, 5, 6, 1, 2, 3, 4, 5, 6]\n",
      "False\n",
      "True\n",
      "7\n",
      "7\n"
     ]
    }
   ],
   "source": [
    "items1 = [1,2,3,4,5,6]\n",
    "items2 = [2,4,5,6,7,8,9]\n",
    "\n",
    "# 列表的拼接\n",
    "items3 = items1 +items2\n",
    "print(items3)\n",
    "\n",
    "# 列表的重复\n",
    "items4 = items1 * 3 # 这里用[1,2,3,4,5,6] * 3效果是一样的\n",
    "print(items4)\n",
    "\n",
    "# 列表内的成员\n",
    "print(100 in items3)\n",
    "print(9 in items2) # 这种语法可以用来快速检索列表中有没有我们想要的元素\n",
    "\n",
    "# 获取列表的元素个数\n",
    "size = len(items2)\n",
    "print(size)\n",
    "print(len(items2)) #两种方法输出效果都是一样的。"
   ]
  },
  {
   "cell_type": "code",
   "execution_count": 19,
   "metadata": {},
   "outputs": [
    {
     "name": "stdout",
     "output_type": "stream",
     "text": [
      "1 5\n",
      "100\n",
      "[1, 100, 3, 4, 5]\n",
      "[4, 5, 6]\n",
      "[5, 4]\n",
      "[6, 4, 100]\n"
     ]
    }
   ],
   "source": [
    "items1 = [1,2,3,4,5,6]\n",
    "items2 = [2,4,5,6,7,8,9]\n",
    "\n",
    "# 列表的索引\n",
    "print(items1[0], items1[-2])\n",
    "items1[1] = 100\n",
    "print(items1[-5])\n",
    "\n",
    "# 列表的切片，需要重点掌握，非常熟练才行啊。\n",
    "print(items1[:5]) #意思是0，1，2，3，4位的数字，共5个\n",
    "print(items1[-3:]) #意思是从倒数第三到倒数第一，共3个\n",
    "print(items1[-2:-4:-1]) #这个是特别值得注意的\n",
    "print(items1[::-2]) # 这个也很特殊，从后往前数，隔一位出一个数字"
   ]
  },
  {
   "cell_type": "code",
   "execution_count": 22,
   "metadata": {},
   "outputs": [
    {
     "name": "stdout",
     "output_type": "stream",
     "text": [
      "True\n",
      "False\n",
      "True\n"
     ]
    }
   ],
   "source": [
    "#列表的比较运算\n",
    "items1 = list(range(5))\n",
    "items2 = [0,1,2,3,4]\n",
    "items3 = [0,1,2,3,3]\n",
    "print(items1 == items2)\n",
    "print(items1 == items3) #列表相等的要求是每一位都要完全相同\n",
    "\n",
    "items3 = [3,2,1]\n",
    "print(items1 <= items3) # 这个地方我没有搞懂，目前来看也没什么意义，就先放着不要管了。"
   ]
  },
  {
   "cell_type": "markdown",
   "metadata": {},
   "source": [
    "### 列表元素遍历的两种方法"
   ]
  },
  {
   "cell_type": "code",
   "execution_count": 26,
   "metadata": {},
   "outputs": [
    {
     "name": "stdout",
     "output_type": "stream",
     "text": [
      "a\tb\tc\td\t\n",
      "a\tb\tc\td\t"
     ]
    }
   ],
   "source": [
    "items = ['a','b','c','d']\n",
    "\n",
    "for item in items: # 这个是直接抓取元素\n",
    "    print(item, end='\\t')\n",
    "\n",
    "print()\n",
    "\n",
    "for index in range(len(items)): # 这个是不抓取元素，而是抓取index，感觉稍微麻烦一点\n",
    "    print(items[index], end='\\t')"
   ]
  },
  {
   "cell_type": "code",
   "execution_count": 28,
   "metadata": {},
   "outputs": [
    {
     "name": "stdout",
     "output_type": "stream",
     "text": [
      "1点共出现1000次\n",
      "2点共出现1027次\n",
      "3点共出现932次\n",
      "4点共出现1057次\n",
      "5点共出现940次\n",
      "6点共出现1044次\n"
     ]
    }
   ],
   "source": [
    "# 练习 将一个骰子扔6000次，统计每个点数出现的次数\n",
    "# 这个是跟这一节最开始一样的问题，但是咱们用列表来搞\n",
    "\n",
    "import random\n",
    "counters = [0] * 6 # 这样做就比[0,0,0,0,0,0]要方便很多，也不容易数错，这些细节很重要\n",
    "for _ in range(6000):\n",
    "    drop = random.randint(1,6)\n",
    "    counters[drop - 1] += 1\n",
    "\n",
    "for out in range(1,7):\n",
    "    print(f\"{out}点共出现{counters[out-1]}次\")\n",
    "\n",
    "# 不要小看上面这个小例子哦，有很多细节在里面，要熟练掌握。"
   ]
  },
  {
   "cell_type": "markdown",
   "metadata": {},
   "source": [
    "### 列表的方法method\n",
    "添加和删除元素"
   ]
  },
  {
   "cell_type": "code",
   "execution_count": 36,
   "metadata": {},
   "outputs": [
    {
     "name": "stdout",
     "output_type": "stream",
     "text": [
      "['love', 'peace', 'study', 'hard', 'append']\n",
      "['love', 'insert', 'peace', 'study', 'hard', 'append']\n",
      "['love', 'insert', 'peace', 'study', 'hard', '-2', 'append']\n"
     ]
    }
   ],
   "source": [
    "items = ['love','peace','study','hard']\n",
    "\n",
    "# append在尾部添加元素\n",
    "items.append('append') # 注意这个调用方式，冷不丁你还真不一定能想起来的，呵呵\n",
    "print(items)\n",
    "\n",
    "# 使用insert在列表指定位置添加元素\n",
    "items.insert(1, 'insert') #注意这个位置还是以0，1，2这样的形式，并且插入的元素刚好处于新列表的这个位置\n",
    "print(items)\n",
    "items.insert(-1, '-2') #注意这个地方-1不是最后一位，因为-1的话其实和append就一样了\n",
    "#这个地方有一点点难记，我们也不多管了。\n",
    "print(items)"
   ]
  },
  {
   "cell_type": "code",
   "execution_count": 42,
   "metadata": {},
   "outputs": [
    {
     "name": "stdout",
     "output_type": "stream",
     "text": [
      "['love', 'study', 'hard']\n",
      "['peace', 'study']\n",
      "[]\n"
     ]
    }
   ],
   "source": [
    "items1 = ['love','peace','study','hard']\n",
    "#我们需要注意到的是，append，remove这些method都对原始的list发生了修改，所以如果想保留原始list的话，需要弄一个copy备份列表\n",
    "items2=items1.copy()\n",
    "# 这样的话无论是对原始列表还是新列表进行操作，都不会互相影响。\n",
    "\n",
    "\n",
    "# 删除指定的元素 remove 直接说明你要删哪个\n",
    "items2.remove('peace')\n",
    "print(items2)\n",
    "items2=items1.copy()\n",
    "\n",
    "# 删除指定位置的元素\n",
    "items2.pop(0)\n",
    "items2.pop(len(items)-1) #这样相当于把最后一个元素给删去了\n",
    "print(items2)\n",
    "items2=items1.copy()\n",
    "\n",
    "# 清空列表中的元素，这个应该是没什么用的\n",
    "items2.clear()\n",
    "print(items2)"
   ]
  },
  {
   "cell_type": "markdown",
   "metadata": {},
   "source": [
    "### 元素的位置和次数"
   ]
  },
  {
   "cell_type": "code",
   "execution_count": 47,
   "metadata": {},
   "outputs": [
    {
     "name": "stdout",
     "output_type": "stream",
     "text": [
      "0\n",
      "4\n",
      "5\n",
      "3\n",
      "1\n"
     ]
    }
   ],
   "source": [
    "items = ['love','peace','study','hard','love','love']\n",
    "\n",
    "# 查找元素的索引位置\n",
    "print(items.index('love'))\n",
    "print(items.index('love',2)) # 意思就是查找索引为2及以后的love的位置\n",
    "print(items.index('love',5)) # 意思就是查找索引为5及以后的love的位置，只找出现的第一个\n",
    "\n",
    "# 查找元素出现的次数\n",
    "print(items.count('love'))\n",
    "print(items.count('study'))"
   ]
  },
  {
   "cell_type": "markdown",
   "metadata": {},
   "source": [
    "元素的排序和翻转"
   ]
  },
  {
   "cell_type": "code",
   "execution_count": 48,
   "metadata": {},
   "outputs": [
    {
     "name": "stdout",
     "output_type": "stream",
     "text": [
      "['love', 'peace', 'study', 'hard', 'love', 'love']\n",
      "['love', 'love', 'hard', 'study', 'peace', 'love']\n"
     ]
    }
   ],
   "source": [
    "items = ['love','peace','study','hard','love','love']\n",
    "items1 = items.copy()\n",
    "\n",
    "# 排序\n",
    "items1.sort()\n",
    "print(items)\n",
    "items1 = items.copy()\n",
    "\n",
    "# 反转\n",
    "items1.reverse()\n",
    "print(items1)"
   ]
  },
  {
   "cell_type": "markdown",
   "metadata": {},
   "source": [
    "列表的生成式\n",
    "\n",
    "**强烈建议用生成式语法来创建列表** 节约资源，更加快速，代码优雅"
   ]
  },
  {
   "cell_type": "code",
   "execution_count": 54,
   "metadata": {},
   "outputs": [
    {
     "name": "stdout",
     "output_type": "stream",
     "text": [
      "[1, 2, 3, 4, 5, 6, 7, 8, 9]\n",
      "['h', 'l', 'l', 'w', 'r', 'l', 'd']\n",
      "['A1', 'A2', 'B1', 'B2', 'C1', 'C2']\n"
     ]
    }
   ],
   "source": [
    "# 创建一个由1到9的数字构成的列表\n",
    "items1 = [x for x in range(1,10)]\n",
    "print(items1)\n",
    "\n",
    "# 创建一个由'hello world'中除空格和元音字母外的字符构成的列表\n",
    "items2 = [x for x in 'hello world' if x not in ' aeiou'] #这个语句很有难度的，要理解\n",
    "print(items2)\n",
    "\n",
    "# 创建一个由个两个字符串中字符的笛卡尔积构成的列表\n",
    "items3 = [x + y for x in 'ABC' for y in '12'] # 卧槽，这个很骚\n",
    "print(items3)"
   ]
  },
  {
   "cell_type": "markdown",
   "metadata": {},
   "source": [
    "嵌套列表\n",
    "\n",
    "**记住，现阶段不能用[[0] * 3] * 5]这种方式创建嵌套列表**"
   ]
  },
  {
   "cell_type": "code",
   "execution_count": 55,
   "metadata": {},
   "outputs": [
    {
     "name": "stdout",
     "output_type": "stream",
     "text": [
      "[[0, 0, 0], [95, 0, 0], [0, 0, 0], [0, 0, 0], [0, 0, 0]]\n"
     ]
    }
   ],
   "source": [
    "# 练习 保存5个学生3门课程的成绩\n",
    "\n",
    "scores = [[0]*3 for _ in range(5)] # 这种方式非常的关键，创建嵌套列表用的，一定要熟练掌握。\n",
    "\n",
    "scores[1][0] = 95 #一级结构是五个学生，二级结构是他们的分数\n",
    "print(scores)"
   ]
  },
  {
   "cell_type": "markdown",
   "metadata": {},
   "source": [
    "# 09 元组\n",
    "元组类型的变量一旦定义，其中的元素不能再添加或删除，元素的值也不能修改"
   ]
  },
  {
   "cell_type": "code",
   "execution_count": 6,
   "metadata": {},
   "outputs": [
    {
     "name": "stdout",
     "output_type": "stream",
     "text": [
      "3 3\n",
      "15 nice\n",
      "jiba\n",
      "nice\n",
      "finish\n",
      "False\n",
      "True\n",
      "(30, 20)\n",
      "(30, 15, 'nice')\n"
     ]
    }
   ],
   "source": [
    "t1 = (30,20,15)\n",
    "t2 = ('jiba', 'nice', 'finish')\n",
    "\n",
    "print(len(t1), len(t2))\n",
    "\n",
    "# 也可以通过索引找到元组中的元素\n",
    "print(t1[-1], t2[1])\n",
    "\n",
    "# 遍历元组中的元素\n",
    "for item in t2:\n",
    "    print(item)\n",
    "    \n",
    "# 判断元组中是否有所需要的元素\n",
    "print(100 in t1)\n",
    "print('jiba' in t2)\n",
    "\n",
    "# 将两个元组拼接起来\n",
    "t3 = t1 + t2\n",
    "\n",
    "# 切片操作\n",
    "print(t3[:2])\n",
    "print(t3[::2])"
   ]
  },
  {
   "cell_type": "markdown",
   "metadata": {},
   "source": [
    "注意，如果元组中只有一个元素，则需要在这个元素后加一个**逗号**\n",
    "\n",
    "比如('hello',) ('hello')\n",
    "\n",
    "前者是元组，而后者不是，只代表用括号括起来，实际上还是str的形式"
   ]
  },
  {
   "cell_type": "code",
   "execution_count": 11,
   "metadata": {},
   "outputs": [
    {
     "name": "stdout",
     "output_type": "stream",
     "text": [
      "<class 'tuple'> (1, 10, 100)\n",
      "1 10 100\n",
      "1 2 [3, 4, 5, 6]\n",
      "1 [2, 3, 4, 5, 6]\n",
      "1 2 3 4 5 6 []\n"
     ]
    }
   ],
   "source": [
    "#元组的作用，打包和解包\n",
    "a = 1, 10, 100\n",
    "print(type(a), a)\n",
    "\n",
    "i, j, k = a #用这种解包的方式来获取元组中的元素还是非常有用的，不用一个个调取赋值\n",
    "print(i, j, k)\n",
    "\n",
    "# 注意，如果变量ijk的个数小于元组内的个数，会报错，有一个办法是用星号变量代表，变为列表\n",
    "a1 = (1,2,3,4,5,6)\n",
    "i,j,*k = a1\n",
    "print(i,j,k)\n",
    "i,*j = a1\n",
    "print(i,j)\n",
    "i,j,k,l,m,n,*o = a1 # 多重变量也可以是空列表\n",
    "print(i,j,k,l,m,n,o)"
   ]
  },
  {
   "cell_type": "markdown",
   "metadata": {},
   "source": [
    "这种解包语法非常常用，用来获取我们需要的元素"
   ]
  },
  {
   "cell_type": "code",
   "execution_count": 12,
   "metadata": {},
   "outputs": [
    {
     "name": "stdout",
     "output_type": "stream",
     "text": [
      "1 2 [3, 4, 5, 6, 7, 8, 9]\n",
      "1 10 100\n",
      "h ['e', 'l', 'l'] o\n"
     ]
    }
   ],
   "source": [
    "a, b, *c = range(1, 10)\n",
    "print(a, b, c)\n",
    "a, b, c = [1, 10, 100]\n",
    "print(a, b, c)\n",
    "a, *b, c = 'hello'\n",
    "print(a, b, c)"
   ]
  },
  {
   "cell_type": "markdown",
   "metadata": {},
   "source": [
    "元组的一个重要作用就是交换两个元素的值"
   ]
  },
  {
   "cell_type": "code",
   "execution_count": 13,
   "metadata": {},
   "outputs": [
    {
     "name": "stdout",
     "output_type": "stream",
     "text": [
      "hello 1\n"
     ]
    }
   ],
   "source": [
    "a = 1\n",
    "b = 'hello'\n",
    "a,b = b,a\n",
    "#这个地方的原理是 a,b = t = b,a\n",
    "#首先a,b打包为一个元组t(1,'hello')，然后这个元组t解包给b和a两个变量，实现了调换\n",
    "#非常非常方便好用!!!!!\n",
    "print(a,b)"
   ]
  },
  {
   "cell_type": "markdown",
   "metadata": {},
   "source": [
    "元组与列表之间可以互相转换"
   ]
  },
  {
   "cell_type": "code",
   "execution_count": 14,
   "metadata": {},
   "outputs": [],
   "source": [
    "info = ('a','b','c')\n",
    "info_list = list(info)\n",
    "\n",
    "list1 = ['a','b','c']\n",
    "list1_tuple = tuple(list1)"
   ]
  },
  {
   "cell_type": "markdown",
   "metadata": {},
   "source": [
    "# 10 字符串"
   ]
  },
  {
   "cell_type": "code",
   "execution_count": 22,
   "metadata": {
    "scrolled": true
   },
   "outputs": [
    {
     "name": "stdout",
     "output_type": "stream",
     "text": [
      "\n",
      "fuck\n",
      "you 1"
     ]
    }
   ],
   "source": [
    "s1 = 'fuck'\n",
    "s2 = \"fuck you\"\n",
    "s3 = '''\n",
    "fuck\n",
    "you'''\n",
    "print(s3, 1, end='') #end=''表示输出后不换行，即将默认的结束符更换为空字符"
   ]
  },
  {
   "cell_type": "markdown",
   "metadata": {},
   "source": [
    "### 转义字符\n",
    "\n",
    "\\n 换行\n",
    "\n",
    "\\t 制表符\n",
    "\n",
    "在最前面加r，则表示里面不包含转义字符。"
   ]
  },
  {
   "cell_type": "code",
   "execution_count": 24,
   "metadata": {},
   "outputs": [
    {
     "name": "stdout",
     "output_type": "stream",
     "text": [
      "'hello,world'\n",
      "\\hello,world\\\n"
     ]
    }
   ],
   "source": [
    "s1 = '\\'hello,world\\''\n",
    "# 这个例子中，\\'表示输出单引号，防止与字符串的单引号冲突\n",
    "print(s1)\n",
    "\n",
    "s2 = '\\\\hello,world\\\\'\n",
    "# 这里面的\\\\的意思就是输出\\这个符号，第一个\\相当于一个转义符，第二个是我们要真正输出的\n",
    "print(s2)"
   ]
  },
  {
   "cell_type": "markdown",
   "metadata": {},
   "source": [
    "### 字符串的运算"
   ]
  },
  {
   "cell_type": "code",
   "execution_count": 25,
   "metadata": {},
   "outputs": [
    {
     "name": "stdout",
     "output_type": "stream",
     "text": [
      "hello world\n",
      "!!!\n",
      "hello world!!!\n",
      "hello world!!!hello world!!!\n"
     ]
    }
   ],
   "source": [
    "#非常基础的拼接与重复\n",
    "s1 = 'hello' + ' ' + 'world'\n",
    "print(s1)    # hello world\n",
    "s2 = '!' * 3\n",
    "print(s2)    # !!!\n",
    "s1 += s2     # s1 = s1 + s2\n",
    "print(s1)    # hello world!!!\n",
    "s1 *= 2      # s1 = s1 * 2\n",
    "print(s1)    # hello world!!!hello world!!!"
   ]
  },
  {
   "cell_type": "markdown",
   "metadata": {},
   "source": [
    "**比较运算**（感觉没什么大用）\n",
    "\n",
    "对于两个字符串类型的变量，可以直接使用比较运算符比较两个字符串的相等性或大小。需要说明的是，因为字符串在计算机内存中也是以二进制形式存在的，那么字符串的大小比较比的是**每个字符对应的编码的大小**。例如A的编码是65， 而a的编码是97，所以'A' < 'a'的结果相当于就是65 < 97的结果，很显然是True；而'boy' < 'bad'，因为第一个字符都是'b'比不出大小，所以实际比较的是第二个字符的大小，显然'o' < 'a'的结果是False，所以'boy' < 'bad'的结果也是False。如果不清楚两个字符对应的编码到底是多少，可以使用ord函数来获得，例如ord('A')的值是65，而ord('昊')的值是26122。"
   ]
  },
  {
   "cell_type": "markdown",
   "metadata": {},
   "source": [
    "**is运算符**\n",
    "\n",
    "用来比较两个变量对应的字符串对象的内存地址\n",
    "\n",
    "简单来说，就是两个变量是否对应内存中的同一个字符串"
   ]
  },
  {
   "cell_type": "code",
   "execution_count": 30,
   "metadata": {},
   "outputs": [
    {
     "name": "stdout",
     "output_type": "stream",
     "text": [
      "False True\n",
      "True True\n"
     ]
    }
   ],
   "source": [
    "s1 = 'hello world'\n",
    "s2 = 'hello world'\n",
    "s3 = s2\n",
    "print(s1 is s2, s2 is s3)\n",
    "\n",
    "s1 = 'a'\n",
    "s2 = 'a'\n",
    "s3 = s2\n",
    "print(s1 is s2, s2 is s3) #注意，如果这个字符串是一个单一字符，那内存地址是比较特殊的。"
   ]
  },
  {
   "cell_type": "markdown",
   "metadata": {},
   "source": [
    "成员运算"
   ]
  },
  {
   "cell_type": "code",
   "execution_count": 1,
   "metadata": {},
   "outputs": [
    {
     "name": "stdout",
     "output_type": "stream",
     "text": [
      "True\n",
      "False\n"
     ]
    }
   ],
   "source": [
    "s1 = 'hello, world'\n",
    "print('lo' in s1)\n",
    "s2 = 'goodbye'\n",
    "print(s2 in s1) "
   ]
  },
  {
   "cell_type": "code",
   "execution_count": 2,
   "metadata": {},
   "outputs": [
    {
     "name": "stdout",
     "output_type": "stream",
     "text": [
      "12\n",
      "16\n"
     ]
    }
   ],
   "source": [
    "#获取字符串长度\n",
    "s1 = 'hello, world'\n",
    "print(len(s1))\n",
    "print(len('goodbye my lover')) #注意，统计字符串长度时，空格也算在里面"
   ]
  },
  {
   "cell_type": "markdown",
   "metadata": {},
   "source": [
    "### 字符串索引\n",
    "注意，由于字符串是不可变类型，所以**不能**通过索引运算**修改字符串中的字符**\n",
    "\n",
    "但是可以通过replace的方法来修改字符串中的字符"
   ]
  },
  {
   "cell_type": "code",
   "execution_count": 3,
   "metadata": {},
   "outputs": [
    {
     "name": "stdout",
     "output_type": "stream",
     "text": [
      "a a\n",
      "6 6\n",
      "c12\n",
      "c12\n",
      "abc1\n",
      "abc1234\n",
      "c246\n",
      "c246\n",
      "642\n",
      "654321cba\n"
     ]
    }
   ],
   "source": [
    "s = 'abc123456'\n",
    "N = len(s)\n",
    "\n",
    "print(s[0],s[-N]) #first str\n",
    "\n",
    "print(s[N-1],s[-1]) #last str\n",
    "\n",
    "#切片操作\n",
    "print(s[2:5]) # output 2 3 4\n",
    "\n",
    "print(s[-7:-4]) #同样也是正向切片\n",
    "\n",
    "print(s[:4]) # output 0123\n",
    "\n",
    "print(s[-N:-2]) #第一个到倒数第二个\n",
    "\n",
    "print(s[2::2]) #把：看成一种分割符就好了，帮助理解\n",
    "\n",
    "print(s[-7::2])\n",
    "\n",
    "print(s[-1:-7:-2]) #反向切片 注意反向切片的最后一个步长一定要为负\n",
    "\n",
    "print(s[::-1])"
   ]
  },
  {
   "cell_type": "code",
   "execution_count": 28,
   "metadata": {},
   "outputs": [
    {
     "name": "stdout",
     "output_type": "stream",
     "text": [
      "hell@ w@rld\n",
      "hell@ world\n"
     ]
    }
   ],
   "source": [
    "# replace方法\n",
    "s = 'hello world'\n",
    "print(s.replace('o', '@'))\n",
    "print(s.replace('o', '@', 1)) # 第三个参数是指定替换的次数\n",
    "#其实这个方法还是有局限性的，但是可以用"
   ]
  },
  {
   "cell_type": "markdown",
   "metadata": {},
   "source": [
    "循环遍历每个字符，两种方式"
   ]
  },
  {
   "cell_type": "code",
   "execution_count": 6,
   "metadata": {},
   "outputs": [
    {
     "name": "stdout",
     "output_type": "stream",
     "text": [
      "h e l l o "
     ]
    }
   ],
   "source": [
    "s1 = 'hello'\n",
    "for index in range(len(s1)):\n",
    "    print(s1[index], end=' ')"
   ]
  },
  {
   "cell_type": "code",
   "execution_count": 8,
   "metadata": {},
   "outputs": [
    {
     "name": "stdout",
     "output_type": "stream",
     "text": [
      "h e l l o "
     ]
    }
   ],
   "source": [
    "s1 = 'hello'\n",
    "for ch in s1:\n",
    "    print(ch, end=' ')"
   ]
  },
  {
   "cell_type": "markdown",
   "metadata": {},
   "source": [
    "### 字符串的一些方法"
   ]
  },
  {
   "cell_type": "code",
   "execution_count": 12,
   "metadata": {
    "scrolled": true
   },
   "outputs": [
    {
     "name": "stdout",
     "output_type": "stream",
     "text": [
      "Hello, world, i am your father\n",
      "Hello, World, I Am Your Father\n",
      "HELLO, WORLD, I AM YOUR FATHER\n",
      "goodbye\n"
     ]
    }
   ],
   "source": [
    "s1 = 'hello, world, i am your father'\n",
    "print(s1.capitalize()) # 整个字符串的唯一首字母大写\n",
    "print(s1.title()) # 每一个单词的首字母都大写\n",
    "print(s1.upper()) # 所有字母全部放大\n",
    "\n",
    "s2 = 'GooDBYe'\n",
    "print(s2.lower())"
   ]
  },
  {
   "cell_type": "code",
   "execution_count": 14,
   "metadata": {},
   "outputs": [
    {
     "name": "stdout",
     "output_type": "stream",
     "text": [
      "8\n",
      "8\n"
     ]
    }
   ],
   "source": [
    "# 在一个字符串中找到另一个字符串的索引\n",
    "# 这两个的功能完全一致\n",
    "s1 = 'hello, world!'\n",
    "print(s1.find('or'))\n",
    "# 找到了返回字符串中另一个字符串首字符的索引\n",
    "print(s1.index('or'))"
   ]
  },
  {
   "cell_type": "code",
   "execution_count": null,
   "metadata": {},
   "outputs": [],
   "source": [
    "#startwith和endwith来判断字符串的开头结尾\n",
    "#感觉其实都没什么用\n",
    "s1 = 'hello, world!'\n",
    "\n",
    "# startwith方法检查字符串是否以指定的字符串开头返回布尔值\n",
    "print(s1.startswith('He'))    # False\n",
    "print(s1.startswith('hel'))   # True\n",
    "# endswith方法检查字符串是否以指定的字符串结尾返回布尔值\n",
    "print(s1.endswith('!'))       # True\n",
    "\n",
    "s2 = 'abc123456'\n",
    "\n",
    "# isdigit方法检查字符串是否由数字构成返回布尔值\n",
    "print(s2.isdigit())    # False\n",
    "# isalpha方法检查字符串是否以字母构成返回布尔值\n",
    "print(s2.isalpha())    # False\n",
    "# isalnum方法检查字符串是否以数字和字母构成返回布尔值\n",
    "print(s2.isalnum())    # True"
   ]
  },
  {
   "cell_type": "markdown",
   "metadata": {},
   "source": [
    "### 字符串的位置"
   ]
  },
  {
   "cell_type": "code",
   "execution_count": 24,
   "metadata": {},
   "outputs": [
    {
     "name": "stdout",
     "output_type": "stream",
     "text": [
      "******** hello, world ********\n",
      "       hello, world \n",
      " hello, world ------\n",
      "0000000000000000 hello, world \n",
      "-0032\n"
     ]
    }
   ],
   "source": [
    "s = ' hello, world '\n",
    "# center方法以宽度20将字符串居中并在两侧填充*\n",
    "print(s.center(30, '*'))\n",
    "# rjust方法以宽度20将字符串右对齐并在左侧填充空格\n",
    "print(s.rjust(20))\n",
    "# ljust方法以宽度20将字符串左对齐并在右侧填充~\n",
    "print(s.ljust(20,'-'))\n",
    "\n",
    "# 在字符串的左侧补零（这个非常有用！！！！）\n",
    "print(s.zfill(30))\n",
    "print('-32'.zfill(5))"
   ]
  },
  {
   "cell_type": "markdown",
   "metadata": {},
   "source": [
    "| 变量值      | 占位符     | 格式化结果    | 说明 |\n",
    "| ----------- | ---------- | ------------- | ---- |\n",
    "| `3.1415926` | `{:.2f}`   | `'3.14'`      | 保留小数点后两位 |\n",
    "| `3.1415926` | `{:+.2f}`  | `'+3.14'`       | 带符号保留小数点后两位 |\n",
    "| `-1`        | `{:+.2f}`  | `'-1.00'` | 带符号保留小数点后两位 |\n",
    "| `3.1415926` | `{:.0f}`   | `'3'` | 不带小数 |\n",
    "| `123`       | `{:0>10d}` | `'0000000123'` | 左边补`0`，补够10位 |\n",
    "| `123`       | `{:x<10d}` | `'123xxxxxxx'` | 右边补`x` ，补够10位 |\n",
    "| `123`       | `{:>10d}`  | `'       123'` | 左边补空格，补够10位 |\n",
    "| `123`       | `{:<10d}` | `'123       '` | 右边补空格，补够10位 |\n",
    "| `123456789` | `{:,}`     | `'123,456,789'` | 逗号分隔格式 |\n",
    "| `0.123`     | `{:.2%}`   | `'12.30%'`    | 百分比格式 |\n",
    "| `123456789` | `{:.2e}`   | `'1.23e+08'`  | 科学计数法格式 |"
   ]
  },
  {
   "cell_type": "markdown",
   "metadata": {},
   "source": [
    "### 字符串的修剪"
   ]
  },
  {
   "cell_type": "code",
   "execution_count": 27,
   "metadata": {},
   "outputs": [
    {
     "name": "stdout",
     "output_type": "stream",
     "text": [
      "jackfrued@126.com\n",
      "jackfrued@126.com  \t\r\n",
      "\n",
      "   jackfrued@126.com\n"
     ]
    }
   ],
   "source": [
    "s = '   jackfrued@126.com  \\t\\r\\n'\n",
    "# strip方法获得字符串修剪左右两侧空格之后的字符串 注：\\r表示回车\n",
    "print(s.strip())    \n",
    "print(s.lstrip()) #去掉前面的空格\n",
    "print(s.rstrip()) #去掉后面的空格"
   ]
  },
  {
   "cell_type": "markdown",
   "metadata": {},
   "source": [
    "### 字符串的拆分、合并"
   ]
  },
  {
   "cell_type": "code",
   "execution_count": 30,
   "metadata": {},
   "outputs": [
    {
     "name": "stdout",
     "output_type": "stream",
     "text": [
      "['I', 'love', 'you']\n",
      "I+love+you\n"
     ]
    }
   ],
   "source": [
    "s = 'I love you' # 以空格为标准进行字符串的拆分\n",
    "words = s.split()\n",
    "print(words)\n",
    "print('+'.join(words)) # 这个join的语法也是非常神奇，但是应该非常好用"
   ]
  },
  {
   "cell_type": "markdown",
   "metadata": {},
   "source": [
    "# 11 数据结构之集合"
   ]
  },
  {
   "cell_type": "markdown",
   "metadata": {},
   "source": [
    "1. 无序性：一个集合中，每个元素的地位都是相同的，元素之间是无序的。\n",
    "2. 互异性：一个集合中，**任何两个元素都是不相同的**，即元素在集合中只能出现一次。\n",
    "3. 确定性：给定一个集合和一个任意元素，该元素要么属这个集合，要么不属于这个集合，二者必居其一，不允许有模棱两可的情况出现\n",
    "\n",
    "\n",
    "很显然，python中的集合**不支持索引运算**\n",
    "\n",
    "**集合的成员运算在性能上要优于列表的成员**，仅记住这个结论就可以，跟内存相关，不做讨论"
   ]
  },
  {
   "cell_type": "markdown",
   "metadata": {},
   "source": [
    "创建方式为{}，**至少有一个元素**，如果没有元素则为**空字典**"
   ]
  },
  {
   "cell_type": "code",
   "execution_count": 38,
   "metadata": {},
   "outputs": [
    {
     "name": "stdout",
     "output_type": "stream",
     "text": [
      "{1, 2, 3}\n",
      "3\n",
      "{'o', 'h', 'e', 'l'}\n",
      "{1, 2, 3, 4, 5}\n",
      "{3, 5, 6, 9, 10, 12, 15, 18}\n",
      "fuck 3 fuck 5 fuck 6 fuck 9 fuck 10 fuck 12 fuck 15 fuck 18 "
     ]
    }
   ],
   "source": [
    "# 创建集合的方式\n",
    "set1 = {1,2,3,1,2,3}\n",
    "print(set1) #重复的元素会自动筛除\n",
    "print(len(set1))\n",
    "\n",
    "set2 = set('hello') #重复的元素l会删除\n",
    "print(set2)\n",
    "\n",
    "#把列表转换为集合\n",
    "list1 = [1,2,2,2,1,3,4,5]\n",
    "set3 = set(list1)\n",
    "print(set3)\n",
    "\n",
    "#创建集合的生成式语法，类似列表的生成式语法\n",
    "set4 = {num for num in range(1,20) if num %3 == 0 or num % 5 == 0}\n",
    "print(set4)\n",
    "\n",
    "#遍历集合中的元素\n",
    "for elem in set4:\n",
    "    print('fuck', elem, end=' ')"
   ]
  },
  {
   "cell_type": "markdown",
   "metadata": {},
   "source": [
    "需要注意的是，集合中的元素必须是hashable类型。\n",
    "\n",
    "通常不可变类型都是hashable类型，如整数、浮点、字符串、元组等，而可变类型都不是hashable类型，因为可变类型无法确定唯一的ID值，所以也就不能放到集合中。集合本身也是可变类型，所以集合不能够作为集合中的元素，这一点在使用集合的时候一定要注意。"
   ]
  },
  {
   "cell_type": "markdown",
   "metadata": {},
   "source": [
    "### 集合的运算"
   ]
  },
  {
   "cell_type": "code",
   "execution_count": 41,
   "metadata": {},
   "outputs": [
    {
     "name": "stdout",
     "output_type": "stream",
     "text": [
      "False\n",
      "True\n",
      "True\n"
     ]
    }
   ],
   "source": [
    "#in 和 not in\n",
    "set1 = {1,2,3,4,3,2,}\n",
    "print(10 in set1)\n",
    "print(1 in set1)\n",
    "print(5 not in set1)"
   ]
  },
  {
   "cell_type": "code",
   "execution_count": 51,
   "metadata": {},
   "outputs": [
    {
     "name": "stdout",
     "output_type": "stream",
     "text": [
      "交集 {2, 4, 6}\n",
      "{2, 4, 6}\n",
      "并集 {1, 2, 3, 4, 5, 6, 7, 8, 10}\n",
      "{1, 2, 3, 4, 5, 6, 7, 8, 10}\n",
      "差集 {1, 3, 5, 7}\n",
      "{8, 10}\n",
      "{1, 3, 5, 7}\n",
      "对称差 {1, 3, 5, 7, 8, 10}\n",
      "{1, 3, 5, 7, 8, 10}\n",
      "{1, 3, 5, 7, 8, 10}\n"
     ]
    }
   ],
   "source": [
    "#交集与并集\n",
    "set1 = {1, 2, 3, 4, 5, 6, 7}\n",
    "set2 = {2, 4, 6, 8, 10}\n",
    "\n",
    "#交集\n",
    "#方法一：&运算符\n",
    "print('交集', set1 & set2)\n",
    "#方法二：intersection方法\n",
    "print(set1.intersection(set2))\n",
    "\n",
    "#并集\n",
    "# 方法一：使用|运算符\n",
    "print('并集', set1 | set2)\n",
    "# 方法二：使用union方法\n",
    "print(set1.union(set2))\n",
    "\n",
    "#差集\n",
    "# 方法一：使用 - 运算符\n",
    "print('差集', set1 - set2)\n",
    "print(set2-set1) #注意，这两个是有区别的\n",
    "# 方法二：使用difference方法\n",
    "print(set1.difference(set2))\n",
    "\n",
    "#对称差 就相当于（并集-交集）\n",
    "# 方法一：使用^运算符\n",
    "print('对称差', set1 ^ set2)\n",
    "# 方法二：使用symmetric_difference方法\n",
    "print(set1.symmetric_difference(set2))\n",
    "# 方法三：相当于并集减去交集\n",
    "print((set1 | set2) - (set1 & set2))"
   ]
  },
  {
   "cell_type": "code",
   "execution_count": 53,
   "metadata": {},
   "outputs": [
    {
     "name": "stdout",
     "output_type": "stream",
     "text": [
      "{1, 2, 3, 4, 5, 6, 7}\n",
      "{3, 6}\n"
     ]
    }
   ],
   "source": [
    "#集合运算的复合赋值运算\n",
    "set1 = {1,3,5,7}\n",
    "set2 = {2,4,6}\n",
    "\n",
    "set1 |= set2\n",
    "print(set1)\n",
    "\n",
    "set3 = {3,6,9}\n",
    "set1 &= set3\n",
    "print(set1)"
   ]
  },
  {
   "cell_type": "code",
   "execution_count": 56,
   "metadata": {},
   "outputs": [
    {
     "name": "stdout",
     "output_type": "stream",
     "text": [
      "True True\n",
      "True\n",
      "False\n"
     ]
    }
   ],
   "source": [
    "#<用来计算真子集，<=用来计算子集\n",
    "set1 = {1,3,5}\n",
    "set2 = {1,2,3,4,5}\n",
    "print(set1 < set2, set1 <=set2)\n",
    "\n",
    "#通过issubset方法来进行子集判断\n",
    "print(set1.issubset(set2))\n",
    "\n",
    "#通过issuperset进行超集判断\n",
    "print(set1.issuperset(set2))"
   ]
  },
  {
   "cell_type": "markdown",
   "metadata": {},
   "source": [
    "### 集合添加或删除元素"
   ]
  },
  {
   "cell_type": "code",
   "execution_count": 65,
   "metadata": {
    "scrolled": true
   },
   "outputs": [
    {
     "name": "stdout",
     "output_type": "stream",
     "text": [
      "{33, 44}\n",
      "{33, 1, 2, 10, 44}\n",
      "{1, 2, 44}\n",
      "1\n"
     ]
    }
   ],
   "source": [
    "set1 = set()\n",
    "\n",
    "#通过add来进行赋值\n",
    "set1.add(33)\n",
    "set1.add(44)\n",
    "print(set1)\n",
    "set1.update({1,10,2,33,44}) #等同于set1 |= set2\n",
    "print(set1)\n",
    "\n",
    "#通过discard方法来删除指定元素\n",
    "set1.discard(10)\n",
    "set1.discard(10) #这种方法重复使用不会报错，也就是说这个元素已经没有了，\n",
    "\n",
    "#通过remove方法来删除指定元素\n",
    "if 33 in set1:\n",
    "    set1.remove(33)\n",
    "print(set1)\n",
    "\n",
    "#通过pop的方法从集合中随机删除一个元素并返回该元素\n",
    "print(set1.pop())"
   ]
  },
  {
   "cell_type": "code",
   "execution_count": 66,
   "metadata": {},
   "outputs": [
    {
     "name": "stdout",
     "output_type": "stream",
     "text": [
      "False\n",
      "True\n"
     ]
    }
   ],
   "source": [
    "#判断两个集合有没有相同的元素\n",
    "set1 = {'Java', 'Python', 'Go', 'Kotlin'}\n",
    "set2 = {'Kotlin', 'Swift', 'Java', 'Objective-C', 'Dart'}\n",
    "set3 = {'HTML', 'CSS', 'JavaScript'}\n",
    "print(set1.isdisjoint(set2))    # False\n",
    "print(set1.isdisjoint(set3))"
   ]
  },
  {
   "cell_type": "markdown",
   "metadata": {},
   "source": [
    "frozenset就是跟set集合基本是一样的，但是frozenset类似tuple,里面的元素不能修改"
   ]
  },
  {
   "cell_type": "code",
   "execution_count": 67,
   "metadata": {},
   "outputs": [
    {
     "name": "stdout",
     "output_type": "stream",
     "text": [
      "frozenset({7})\n"
     ]
    }
   ],
   "source": [
    "set1 = frozenset({1,3,5,7})\n",
    "set2 = frozenset(range(1,6))\n",
    "print(set1 - set2)"
   ]
  },
  {
   "cell_type": "markdown",
   "metadata": {},
   "source": [
    "# 12字典"
   ]
  },
  {
   "cell_type": "code",
   "execution_count": 2,
   "metadata": {},
   "outputs": [
    {
     "name": "stdout",
     "output_type": "stream",
     "text": [
      "{'name': 'luogabo', 'age': 12, 'weight': 80, 'wife': '林志玲'}\n"
     ]
    }
   ],
   "source": [
    "dict1 = {\n",
    "    'name':'luogabo',\n",
    "    'age':12,\n",
    "    'weight':80,\n",
    "    'wife':'林志玲',\n",
    "    'tel':15651758852\n",
    "}\n",
    "print(dict1)"
   ]
  },
  {
   "cell_type": "code",
   "execution_count": 7,
   "metadata": {},
   "outputs": [
    {
     "name": "stdout",
     "output_type": "stream",
     "text": [
      "{'name': '罗尬博', 'age': 55, 'weight': 80, 'home': '同人路8路'}\n",
      "{'a': '1', 'b': '2', 'c': '3', 'd': '4', 'e': '5'}\n",
      "{'a': 1, 'b': 2, 'c': 3, 'd': 4, 'e': 5}\n"
     ]
    }
   ],
   "source": [
    "# 用dict函数（构造器）来定义字典\n",
    "dict1 = dict(name='罗尬博', age=55, weight=80, home='同人路8路')\n",
    "print(dict1)\n",
    "\n",
    "# 用python内置zip函数压缩两个序列并创建字典，感觉没什么用\n",
    "items1 = dict(zip('abcde','12345'))\n",
    "print(items1)\n",
    "items2 = dict(zip('abcde', range(1,10)))\n",
    "print(items2)"
   ]
  },
  {
   "cell_type": "markdown",
   "metadata": {},
   "source": [
    "### 用字典生成式语法创建字典"
   ]
  },
  {
   "cell_type": "code",
   "execution_count": 13,
   "metadata": {},
   "outputs": [
    {
     "name": "stdout",
     "output_type": "stream",
     "text": [
      "{1: 1, 2: 8, 3: 27, 4: 64, 5: 125}\n"
     ]
    }
   ],
   "source": [
    "items3 = {x: x ** 3 for x in range(1,6)}\n",
    "print(items3)"
   ]
  },
  {
   "cell_type": "code",
   "execution_count": 16,
   "metadata": {},
   "outputs": [
    {
     "name": "stdout",
     "output_type": "stream",
     "text": [
      "3\n",
      "name\n",
      "age\n",
      "weight\n"
     ]
    }
   ],
   "source": [
    "# 用len函数来查询字典有多少个键值对\n",
    "person = {'name':'fuck', 'age':'you', 'weight':32}\n",
    "print(len(person))\n",
    "\n",
    "for key in person:\n",
    "    print(key) #这样只能输出key值，输出键值对的方式也特别简单，看下面"
   ]
  },
  {
   "cell_type": "markdown",
   "metadata": {},
   "source": [
    "字典的**索引**不是序号，而是键值对中的键\n",
    "\n",
    "字典中的键必须是不可变类型，例如整数、浮点数、字符串、元组，显然列表list和集合set是不能作为字典中的键的。"
   ]
  },
  {
   "cell_type": "code",
   "execution_count": 18,
   "metadata": {},
   "outputs": [
    {
     "name": "stdout",
     "output_type": "stream",
     "text": [
      "True\n",
      "5\n",
      "name:王大锤\n",
      "age:25\n",
      "weight:60\n",
      "office:科华北路62号\n",
      "tel:13122334455\n"
     ]
    }
   ],
   "source": [
    "person = {'name': '王大锤', 'age': 55, 'weight': 60, 'office': '科华北路62号'}\n",
    "\n",
    "#修改键的值\n",
    "person['age'] = 25\n",
    "\n",
    "#增加键值对\n",
    "person['tel'] = '13122334455'\n",
    "print('tel' in person)\n",
    "print(len(person))\n",
    "\n",
    "#遍历字典所有的键值对\n",
    "for key in person:\n",
    "    print(f'{key}:{person[key]}')"
   ]
  },
  {
   "cell_type": "code",
   "execution_count": 4,
   "metadata": {},
   "outputs": [
    {
     "name": "stdout",
     "output_type": "stream",
     "text": [
      "{'name': '123', 'sex': 'man', 'age': 24, 'place': '湖南长沙'}\n",
      "{'name': '123', 'sex': 'man', 'age': 24, 'place': '湖南长沙'}\n",
      "123\n",
      "dict_keys([220193084, 220193012, 220193024])\n",
      "dict_values([{'name': 'liuyuhao', 'sex': 'man', 'age': 25, 'place': '辽宁大连'}, {'name': '123', 'sex': 'man', 'age': 24, 'place': '湖南长沙'}, {'name': '456', 'sex': 'man', 'age': 27, 'place': '四川成都'}])\n",
      "dict_items([(220193084, {'name': 'liuyuhao', 'sex': 'man', 'age': 25, 'place': '辽宁大连'}), (220193012, {'name': '123', 'sex': 'man', 'age': 24, 'place': '湖南长沙'}), (220193024, {'name': '456', 'sex': 'man', 'age': 27, 'place': '四川成都'})])\n",
      "220193084 ---> {'name': 'liuyuhao', 'sex': 'man', 'age': 25, 'place': '辽宁大连'}\n",
      "220193012 ---> {'name': '123', 'sex': 'man', 'age': 24, 'place': '湖南长沙'}\n",
      "220193024 ---> {'name': '456', 'sex': 'man', 'age': 27, 'place': '四川成都'}\n"
     ]
    }
   ],
   "source": [
    "#嵌套字典，也就是字典的值也是一个字典，而不是一个单独的变量\n",
    "students = {\n",
    "    220193084:{'name':'liuyuhao', 'sex':'man', 'age':25, 'place':'辽宁大连'},# 注意这里需要有逗号，很容易忽略\n",
    "    220193012:{'name':'123', 'sex':'man', 'age':24, 'place':'湖南长沙'},\n",
    "    220193024:{'name':'456', 'sex':'man', 'age':27, 'place':'四川成都'},\n",
    "}\n",
    "\n",
    "# 通过get方法通过键获取对应的值\n",
    "print(students.get(220193012))\n",
    "print(students.get(220191111, {'name':'未注册'}))\n",
    "#这个非常关键，如果get不到相应的键，就会输出这个默认值\n",
    "\n",
    "# 也可以通过这种方式来获取对应的值\n",
    "print(students[220193012]) \n",
    "print(students[220193012]['name'])\n",
    "\n",
    "#获取字典中的所有键\n",
    "print(students.keys())\n",
    "\n",
    "#获取字典中的所有值\n",
    "print(students.values())\n",
    "\n",
    "#获取字典中的所有键值对\n",
    "print(students.items())\n",
    "\n",
    "#对字典中的所有键值对进行循环遍历\n",
    "for key, value in students.items():\n",
    "    print(key, '--->', value)"
   ]
  },
  {
   "cell_type": "code",
   "execution_count": 11,
   "metadata": {},
   "outputs": [
    {
     "name": "stdout",
     "output_type": "stream",
     "text": [
      "{'name': 'liuyuhao', 'sex': 'man', 'age': 25, 'place': '辽宁大连'}\n",
      "220193024 {'name': '456', 'sex': 'man', 'age': 27, 'place': '四川成都'}\n",
      "{220193012: {'name': '123', 'sex': 'man', 'age': 24, 'place': '湖南长沙'}, 220193084: {'name': 'new'}}\n",
      "{'name': '123', 'sex': 'man', 'age': 24, 'place': '湖南长沙'}\n",
      "{220193012: {'name': 'abc', 'sex': 'male'}, 220193084: {'name': '123', 'sex': 'female'}}\n"
     ]
    }
   ],
   "source": [
    "students = {\n",
    "    220193084:{'name':'liuyuhao', 'sex':'man', 'age':25, 'place':'辽宁大连'},# 注意这里需要有逗号，很容易忽略\n",
    "    220193012:{'name':'123', 'sex':'man', 'age':24, 'place':'湖南长沙'},\n",
    "    220193024:{'name':'456', 'sex':'man', 'age':27, 'place':'四川成都'},\n",
    "}\n",
    "\n",
    "#使用pop方法通过键删除对应的键值对\n",
    "stu1 = students.pop(220193084)\n",
    "print(stu1)\n",
    "\n",
    "#使用popitem方法删除字典中最后一组键值对并返回对应的二元组\n",
    "key, value = students.popitem()\n",
    "print(key, value)\n",
    "\n",
    "#setdefault 如果这个键在字典中存在，setfault返回原来这个键对应的值\n",
    "#否则就在最后添加这个键值对\n",
    "result = students.setdefault(220193084,{'name':'new'})\n",
    "result2 = students.setdefault(220193012,123) #因为220193012是存在的，所以后面的赋值123相当于无效\n",
    "print(students)\n",
    "print(result2)\n",
    "\n",
    "\n",
    "#使用update更新字典元素，相同的键会用新值覆盖掉旧值，不同的键会添加到字典中\n",
    "#注意哦，可以用字典来更新字典，一下子量会非常大！\n",
    "others = {\n",
    "    220193084:{'name':'123','sex':'female'},\n",
    "    220193012:{'name':'abc','sex':'male'},\n",
    "}\n",
    "students.update(others) #相当于用一个字典来更新另一个字典了\n",
    "print(students)"
   ]
  },
  {
   "cell_type": "markdown",
   "metadata": {},
   "source": [
    "字典的应用"
   ]
  },
  {
   "cell_type": "code",
   "execution_count": 1,
   "metadata": {},
   "outputs": [
    {
     "name": "stdout",
     "output_type": "stream",
     "text": [
      "please input a sentence:cawer4fadf216e346qwd1asf1aeqwd6aSDf16ased1fq33wff\n",
      "字母c出现了1次\n",
      "字母a出现了6次\n",
      "字母w出现了4次\n",
      "字母e出现了4次\n",
      "字母r出现了1次\n",
      "字母f出现了7次\n",
      "字母d出现了4次\n",
      "字母q出现了3次\n",
      "字母s出现了2次\n",
      "字母S出现了1次\n",
      "字母D出现了1次\n"
     ]
    }
   ],
   "source": [
    "#练习1 输入一段话，统计每个英文字母出现的次数\n",
    "sentence = input('please input a sentence:')\n",
    "counter = {}\n",
    "for ch in sentence:\n",
    "    if 'A' <= ch <= 'Z' or 'a' <= ch <= 'z':\n",
    "        counter[ch] = counter.get(ch, 0) + 1 \n",
    "        # 这个get(ch, 0)还是非常精妙的，如果第一次计数，就设置默认值为0，不错的\n",
    "\n",
    "for key, value in counter.items():\n",
    "    print(f'字母{key}出现了{value}次')"
   ]
  },
  {
   "cell_type": "code",
   "execution_count": 2,
   "metadata": {},
   "outputs": [
    {
     "name": "stdout",
     "output_type": "stream",
     "text": [
      "{'AAPL': 191.88, 'GOOG': 1186.96, 'IBM': 149.24, 'ACN': 166.89, 'FB': 208.09}\n"
     ]
    }
   ],
   "source": [
    "#练习2 在一个字典中保存股票的代码和价格，找出股价大于100元的股票并创建一个新的字典\n",
    "stocks = {\n",
    "    'AAPL': 191.88,\n",
    "    'GOOG': 1186.96,\n",
    "    'IBM': 149.24,\n",
    "    'ORCL': 48.44,\n",
    "    'ACN': 166.89,\n",
    "    'FB': 208.09,\n",
    "    'SYMC': 21.29\n",
    "}\n",
    "stocks2 = {key: value for key, value in stocks.items() if value > 100}\n",
    "# 哇这个语法用的相当娴熟了！牛逼！\n",
    "print(stocks2)"
   ]
  },
  {
   "cell_type": "markdown",
   "metadata": {},
   "source": [
    "简单总结\n",
    "\n",
    "字典以**键值对的形式保存数据**，再通过键**索引**对应的值，非常有利于**数据检索**"
   ]
  }
 ],
 "metadata": {
  "kernelspec": {
   "display_name": "Python 3 (ipykernel)",
   "language": "python",
   "name": "python3"
  },
  "language_info": {
   "codemirror_mode": {
    "name": "ipython",
    "version": 3
   },
   "file_extension": ".py",
   "mimetype": "text/x-python",
   "name": "python",
   "nbconvert_exporter": "python",
   "pygments_lexer": "ipython3",
   "version": "3.8.12"
  }
 },
 "nbformat": 4,
 "nbformat_minor": 4
}

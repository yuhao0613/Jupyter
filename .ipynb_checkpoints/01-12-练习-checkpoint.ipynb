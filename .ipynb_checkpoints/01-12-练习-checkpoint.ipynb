{
 "cells": [
  {
   "cell_type": "code",
   "execution_count": 2,
   "id": "5c2a6c7d",
   "metadata": {},
   "outputs": [
    {
     "name": "stdout",
     "output_type": "stream",
     "text": [
      "please input name:admin\n",
      "please input password:123456\n",
      "ok\n"
     ]
    }
   ],
   "source": [
    "#练习，请用户输入用户名和密码，如果是admin和123456则显示正确，否则显示错误\n",
    "\n",
    "name = input('please input name:')\n",
    "password = input('please input password:')\n",
    "\n",
    "if name == 'admin' and password == '123456':\n",
    "    print('ok')\n",
    "else:\n",
    "    print('no')"
   ]
  },
  {
   "cell_type": "code",
   "execution_count": 5,
   "id": "ea134b91",
   "metadata": {},
   "outputs": [
    {
     "name": "stdout",
     "output_type": "stream",
     "text": [
      "x=15\n",
      "y=75\n",
      "15和75最大公因数为：15\n",
      "15和75最小公倍数为：75\n"
     ]
    }
   ],
   "source": [
    "# 练习 输入两个正整数，计算它们的最大公约数和最小公倍数 是for和if的组合拳练习\n",
    "x = int(input('x='))\n",
    "y = int(input('y='))\n",
    "for factor in range(x,0,-1):\n",
    "    if x % factor == 0 and y % factor == 0:\n",
    "        print(f'{x}和{y}最大公因数为：{factor}')\n",
    "        print(f'{x}和{y}最小公倍数为：{x * y // factor}')\n",
    "        break"
   ]
  },
  {
   "cell_type": "code",
   "execution_count": null,
   "id": "39a0bf87",
   "metadata": {},
   "outputs": [],
   "source": []
  }
 ],
 "metadata": {
  "kernelspec": {
   "display_name": "Python 3 (ipykernel)",
   "language": "python",
   "name": "python3"
  },
  "language_info": {
   "codemirror_mode": {
    "name": "ipython",
    "version": 3
   },
   "file_extension": ".py",
   "mimetype": "text/x-python",
   "name": "python",
   "nbconvert_exporter": "python",
   "pygments_lexer": "ipython3",
   "version": "3.8.12"
  }
 },
 "nbformat": 4,
 "nbformat_minor": 5
}

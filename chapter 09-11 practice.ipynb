{
 "cells": [
  {
   "cell_type": "markdown",
   "metadata": {},
   "source": [
    "# 9章的练习题"
   ]
  },
  {
   "cell_type": "code",
   "execution_count": 4,
   "metadata": {
    "scrolled": true
   },
   "outputs": [
    {
     "name": "stdout",
     "output_type": "stream",
     "text": [
      "The restaurant's name is Saiko Special.\n",
      "The cuisine is Japanese Food.\n",
      "Saiko Special is now opening, welcome.\n"
     ]
    }
   ],
   "source": [
    "#9-1\n",
    "class Restaurant():\n",
    "    def __init__(self, restaurant_name, cuisine_type):\n",
    "        self.restaurant_name = restaurant_name\n",
    "        self.cuisine_type = cuisine_type\n",
    "    \n",
    "    def describe_rest(self):\n",
    "        print(\"The restaurant's name is \" + self.restaurant_name.title() + \".\")\n",
    "        print(\"The cuisine is \" + self.cuisine_type.title() + \".\")\n",
    "        \n",
    "    def open_rest(self):\n",
    "        print(self.restaurant_name.title() + \" is now opening, welcome.\")\n",
    "\n",
    "restaurant = Restaurant('saiko special', 'japanese food')\n",
    "restaurant.describe_rest()\n",
    "restaurant.open_rest()"
   ]
  },
  {
   "cell_type": "code",
   "execution_count": 5,
   "metadata": {},
   "outputs": [
    {
     "name": "stdout",
     "output_type": "stream",
     "text": [
      "The restaurant's name is Saiko Special.\n",
      "The cuisine is Japanese Food.\n",
      "The restaurant's name is Ox.\n",
      "The cuisine is Spain Food.\n",
      "The restaurant's name is Lala Land.\n",
      "The cuisine is U.K. Food.\n"
     ]
    }
   ],
   "source": [
    "#9-2\n",
    "class Restaurant():\n",
    "    def __init__(self, restaurant_name, cuisine_type):\n",
    "        self.restaurant_name = restaurant_name\n",
    "        self.cuisine_type = cuisine_type\n",
    "    \n",
    "    def describe_rest(self):\n",
    "        print(\"The restaurant's name is \" + self.restaurant_name.title() + \".\")\n",
    "        print(\"The cuisine is \" + self.cuisine_type.title() + \".\")\n",
    "        \n",
    "    def open_rest(self):\n",
    "        print(self.restaurant_name.title() + \" is now opening, welcome.\")\n",
    "\n",
    "restaurant1 = Restaurant('saiko special', 'japanese food')\n",
    "restaurant1.describe_rest()\n",
    "\n",
    "restaurant2 = Restaurant('ox', 'spain food')\n",
    "restaurant2.describe_rest()\n",
    "\n",
    "restaurant3 = Restaurant('lala land', 'U.K. food')\n",
    "restaurant3.describe_rest()"
   ]
  },
  {
   "cell_type": "code",
   "execution_count": 16,
   "metadata": {},
   "outputs": [
    {
     "name": "stdout",
     "output_type": "stream",
     "text": [
      "['Liu Yuhao', 'male', '24']\n",
      "{'User name': 'Liu Yuhao', 'sex': 'male', 'age': '24'}\n",
      "Greetings, Liu Yuhao.\n"
     ]
    }
   ],
   "source": [
    "#9-3\n",
    "class User():\n",
    "    def __init__(self, first_name, last_name, sex, age):\n",
    "        self.first_name = first_name\n",
    "        self.last_name = last_name\n",
    "        self.sex = sex\n",
    "        self.age = age\n",
    "    \n",
    "    def describe_user(self): #这里括号里一定一定一定不要忘记self!!!!!!!\n",
    "        user_name = self.first_name.title() + \" \" + self.last_name.title()\n",
    "        user_list = [user_name, self.sex, str(self.age)]\n",
    "        print(user_list)\n",
    "        \n",
    "    def describe_user_dictionary(self): #yesyes,这里是自己尝试着用字典写的，完美运行，美滋滋\n",
    "        user_name = self.first_name.title() + \" \" + self.last_name.title()\n",
    "        user_list = {'User name':user_name, 'sex':self.sex, 'age':str(self.age)}\n",
    "        print(user_list)\n",
    "        \n",
    "    def greet_user(self):\n",
    "        user_name = self.first_name.title() + \" \" + self.last_name.title()\n",
    "        print(\"Greetings, \" + user_name + \".\")\n",
    "        \n",
    "        \n",
    "user1 = User('liu','yuhao','male',24)\n",
    "user1.describe_user()\n",
    "user1.describe_user_dictionary()\n",
    "user1.greet_user()\n",
    "        \n",
    "        "
   ]
  },
  {
   "cell_type": "code",
   "execution_count": 6,
   "metadata": {},
   "outputs": [
    {
     "name": "stdout",
     "output_type": "stream",
     "text": [
      "The restaurant's name is Saiko Special.\n",
      "The cuisine is Japanese Food.\n",
      "0 people have come to this restaurant.\n",
      "10 people have come to this restaurant.\n",
      "20 people have come to this restaurant.\n",
      "32 people have come to this restaurant.\n"
     ]
    }
   ],
   "source": [
    "#9-4 这道题跟notebook里面的例子其实是完全一样滴\n",
    "class Restaurant():\n",
    "    def __init__(self, restaurant_name, cuisine_type):\n",
    "        self.restaurant_name = restaurant_name\n",
    "        self.cuisine_type = cuisine_type\n",
    "        self.number_served = 0\n",
    "    \n",
    "    def describe_rest(self):\n",
    "        print(\"The restaurant's name is \" + self.restaurant_name.title() + \".\")\n",
    "        print(\"The cuisine is \" + self.cuisine_type.title() + \".\")\n",
    "        \n",
    "    def set_number_served(self, num):\n",
    "        self.number_served = num\n",
    "        \n",
    "    def increment_number_served(self, add):\n",
    "        self.number_served += add\n",
    "        \n",
    "    def show_num(self):\n",
    "        print(str(self.number_served) + \" people have come to this restaurant.\")\n",
    "\n",
    "restaurant = Restaurant('saiko special', 'japanese food')\n",
    "restaurant.describe_rest()\n",
    "restaurant.show_num()\n",
    "restaurant.number_served = 10\n",
    "restaurant.show_num()\n",
    "restaurant.set_number_served(20)\n",
    "restaurant.show_num()\n",
    "restaurant.increment_number_served(12)\n",
    "restaurant.show_num()"
   ]
  },
  {
   "cell_type": "code",
   "execution_count": 9,
   "metadata": {},
   "outputs": [
    {
     "name": "stdout",
     "output_type": "stream",
     "text": [
      "['Liu Yuhao', 'male', '24', '0']\n",
      "['Liu Yuhao', 'male', '24', '1']\n",
      "['Liu Yuhao', 'male', '24', '2']\n",
      "['Liu Yuhao', 'male', '24', '0']\n"
     ]
    }
   ],
   "source": [
    "#9.5\n",
    "class User():\n",
    "    def __init__(self, first_name, last_name, sex, age):\n",
    "        self.first_name = first_name\n",
    "        self.last_name = last_name\n",
    "        self.sex = sex\n",
    "        self.age = age\n",
    "        self.login_attempts = 0\n",
    "    \n",
    "    def describe_user(self): \n",
    "        user_name = self.first_name.title() + \" \" + self.last_name.title()\n",
    "        user_list = [user_name, self.sex, str(self.age), str(self.login_attempts)]\n",
    "        print(user_list)\n",
    "\n",
    "    def increment_login_attempts(self):\n",
    "        self.login_attempts += 1\n",
    "    \n",
    "    def reset(self):\n",
    "        self.login_attempts = 0\n",
    "        \n",
    "        \n",
    "user1 = User('liu','yuhao','male',24)\n",
    "user1.describe_user()\n",
    "user1.increment_login_attempts()\n",
    "user1.describe_user()\n",
    "user1.increment_login_attempts()\n",
    "user1.describe_user()\n",
    "user1.reset()\n",
    "user1.describe_user()"
   ]
  },
  {
   "cell_type": "code",
   "execution_count": 14,
   "metadata": {},
   "outputs": [
    {
     "name": "stdout",
     "output_type": "stream",
     "text": [
      "Here are the taste of icecream we got: \n",
      "['apple', 'pear', 'banana']\n"
     ]
    }
   ],
   "source": [
    "#9.6\n",
    "class Restaurant():\n",
    "    def __init__(self, restaurant_name, cuisine_type):\n",
    "        self.restaurant_name = restaurant_name\n",
    "        self.cuisine_type = cuisine_type\n",
    "    \n",
    "    def describe_rest(self):\n",
    "        print(\"The restaurant's name is \" + self.restaurant_name.title() + \".\")\n",
    "        print(\"The cuisine is \" + self.cuisine_type.title() + \".\")\n",
    "        \n",
    "    def open_rest(self):\n",
    "        print(self.restaurant_name.title() + \" is now opening, welcome.\")\n",
    "\n",
    "class IceCreamStand(Restaurant):\n",
    "    def __init__(self, restaurant_name, cuisine_type):\n",
    "        super().__init__(restaurant_name, cuisine_type) #这个地方super后面少了两个括号，不要小看细节啊\n",
    "        self.flavors = ['apple','pear','banana']\n",
    "    \n",
    "    def show_icecream(self):\n",
    "        print(\"Here are the taste of icecream we got: \")\n",
    "        print(self.flavors)\n",
    "\n",
    "mystore = IceCreamStand('abc','icecream')\n",
    "mystore.show_icecream()\n"
   ]
  },
  {
   "cell_type": "code",
   "execution_count": 16,
   "metadata": {},
   "outputs": [
    {
     "name": "stdout",
     "output_type": "stream",
     "text": [
      "['Liu Yuhao', 'male', '24']\n",
      "can ban user\n"
     ]
    }
   ],
   "source": [
    "#9.7\n",
    "class User():\n",
    "    def __init__(self, first_name, last_name, sex, age):\n",
    "        self.first_name = first_name\n",
    "        self.last_name = last_name\n",
    "        self.sex = sex\n",
    "        self.age = age\n",
    "    \n",
    "    def describe_user(self): #这里括号里一定一定一定不要忘记self!!!!!!!\n",
    "        user_name = self.first_name.title() + \" \" + self.last_name.title()\n",
    "        user_list = [user_name, self.sex, str(self.age)]\n",
    "        print(user_list)\n",
    "        \n",
    "    def greet_user(self):\n",
    "        user_name = self.first_name.title() + \" \" + self.last_name.title()\n",
    "        print(\"Greetings, \" + user_name + \".\")\n",
    "        \n",
    "class Admin(User):\n",
    "    def __init__(self, first_name, last_name, sex, age):\n",
    "        super().__init__(first_name, last_name, sex, age)\n",
    "        self.privileges = ['can add post', 'can delete post', 'can ban user']\n",
    "        \n",
    "    def show_privileges(self):\n",
    "        print(self.privileges[2])\n",
    "        \n",
    "myuser = Admin('liu','yuhao','male',24)\n",
    "myuser.describe_user()\n",
    "myuser.show_privileges()"
   ]
  },
  {
   "cell_type": "code",
   "execution_count": 18,
   "metadata": {},
   "outputs": [
    {
     "name": "stdout",
     "output_type": "stream",
     "text": [
      "['Liu Yuhao', 'male', '24']\n",
      "can add post\n"
     ]
    }
   ],
   "source": [
    "#9.8\n",
    "class User():\n",
    "    def __init__(self, first_name, last_name, sex, age):\n",
    "        self.first_name = first_name\n",
    "        self.last_name = last_name\n",
    "        self.sex = sex\n",
    "        self.age = age\n",
    "    \n",
    "    def describe_user(self):\n",
    "        user_name = self.first_name.title() + \" \" + self.last_name.title()\n",
    "        user_list = [user_name, self.sex, str(self.age)]\n",
    "        print(user_list)\n",
    "        \n",
    "    def greet_user(self):\n",
    "        user_name = self.first_name.title() + \" \" + self.last_name.title()\n",
    "        print(\"Greetings, \" + user_name + \".\")\n",
    "        \n",
    "class Privileges():\n",
    "    def __init__(self):\n",
    "        self.privileges = ['can add post', 'can delete post', 'can ban user']\n",
    "        \n",
    "    def show_privileges(self, num):\n",
    "        print(self.privileges[num])\n",
    "        \n",
    "class Admin(User):\n",
    "    def __init__(self, first_name, last_name, sex, age):\n",
    "        super().__init__(first_name, last_name, sex, age)\n",
    "        self.privileges = Privileges()\n",
    "        \n",
    "myuser = Admin('liu','yuhao','male',24)\n",
    "myuser.describe_user()\n",
    "myuser.privileges.show_privileges(0)"
   ]
  },
  {
   "cell_type": "code",
   "execution_count": 20,
   "metadata": {},
   "outputs": [
    {
     "name": "stdout",
     "output_type": "stream",
     "text": [
      "The car has a 70-kWh battery.\n",
      "This car can go approximately 240 miles on a full charge.\n",
      "The car has a 85-kWh battery.\n",
      "This car can go approximately 270 miles on a full charge.\n"
     ]
    }
   ],
   "source": [
    "#9.9\n",
    "class Car(): \n",
    "    \"\"\"a simple test for simulating a car\"\"\"\n",
    "    def __init__(self, make, model, year):\n",
    "            \"\"\"initiative car attribute\"\"\"\n",
    "            self.make = make\n",
    "            self.model = model\n",
    "            self.year = year\n",
    "            self.odometer = 0\n",
    "      \n",
    "    def get_description(self):\n",
    "        \"\"\" return neat decription\"\"\"\n",
    "        long_name = str(self.year) + \" \" + self.make + \" \" +self.model\n",
    "        return long_name.title()\n",
    "        \n",
    "class Battery(): \n",
    "    \"\"\"simulate the battery of electric car\"\"\"\n",
    "    \n",
    "    def __init__(self, battery_size=70):\n",
    "        self.battery_size = battery_size\n",
    "    \n",
    "    def describe_battery(self):\n",
    "        print(\"The car has a \" + str(self.battery_size) + \"-kWh battery.\")\n",
    "        \n",
    "    def get_range(self):\n",
    "        if self.battery_size == 70:\n",
    "            range = 240\n",
    "        elif self.battery_size == 85:\n",
    "            range = 270\n",
    "        message = \"This car can go approximately \" + str(range) + \" miles on a full charge.\"\n",
    "        print(message)\n",
    "        \n",
    "    def upgrade_battery(self):\n",
    "        if self.battery_size != 85:\n",
    "            self.battery_size = 85\n",
    "        \n",
    "        \n",
    "class ElectricCar(Car): #一个继承类\n",
    "    def __init__(self, make, model, year): \n",
    "        super().__init__(make, model, year) \n",
    "        self.battery = Battery() \n",
    "\n",
    "my_tesla = ElectricCar('tesla','model S',2016)\n",
    "my_tesla.battery.describe_battery() \n",
    "my_tesla.battery.get_range()\n",
    "my_tesla.battery.upgrade_battery()\n",
    "my_tesla.battery.describe_battery() \n",
    "my_tesla.battery.get_range()"
   ]
  },
  {
   "cell_type": "markdown",
   "metadata": {},
   "source": [
    "第10章"
   ]
  },
  {
   "cell_type": "code",
   "execution_count": 13,
   "metadata": {},
   "outputs": [
    {
     "name": "stdout",
     "output_type": "stream",
     "text": [
      "In python you can import module.\n",
      "In python you can use and initiative powerful function.\n",
      "In python you can ignore complicated grammer and focus on function.\n",
      "In python you can import module.\n",
      "In python you can use and initiative powerful function.\n",
      "In python you can ignore complicated grammer and focus on function.\n",
      "In python you can import module.\n",
      "In python you can use and initiative powerful function.\n",
      "In python you can ignore complicated grammer and focus on function.\n"
     ]
    }
   ],
   "source": [
    "#10-1\n",
    "with open('learning_python.txt') as object_file:\n",
    "    contents = object_file.read()\n",
    "\n",
    "print(contents)\n",
    "\n",
    "with open('learning_python.txt') as object_file:\n",
    "    for line in object_file:\n",
    "        print(line.rstrip())\n",
    "        \n",
    "with open('learning_python.txt') as object_file:\n",
    "    lines = object_file.readlines()\n",
    "    \n",
    "for line in lines:\n",
    "    print(line.rstrip())"
   ]
  },
  {
   "cell_type": "code",
   "execution_count": 22,
   "metadata": {},
   "outputs": [
    {
     "name": "stdout",
     "output_type": "stream",
     "text": [
      "In C you can import module.\n",
      "In C you can use and initiative powerful function.\n",
      "In C you can ignore complicated grammer and focus on function.\n",
      "In Java You Can Import Module.\n",
      "In Java You Can Use And Initiative Powerful Function.\n",
      "In Java You Can Ignore Complicated Grammer And Focus On Function.\n"
     ]
    }
   ],
   "source": [
    "#10-2\n",
    "with open('learning_python.txt') as object_file:\n",
    "    for line in object_file:\n",
    "        message = line.replace('python', 'C') #注意，【.方法】只是在此时此刻执行一次，如果不直接用掉，后面再调用就没了，所以必须存在message里面\n",
    "        print(message.rstrip())\n",
    "    \n",
    "with open('learning_python.txt') as object_file: \n",
    "    for line in object_file:\n",
    "        print(line.replace('python', 'Java').title().rstrip()) #或者这样也可以，不存在某个变量中，但是这样语句会变得很长\n",
    "        #原来一个语句后面可以加这么多.方法"
   ]
  },
  {
   "cell_type": "code",
   "execution_count": 2,
   "metadata": {},
   "outputs": [
    {
     "name": "stdout",
     "output_type": "stream",
     "text": [
      "Please enter your name: zhangmiaosen\n",
      "Congratulations! Your name has been saved, Zhangmiaosen.\n"
     ]
    }
   ],
   "source": [
    "#10-3\n",
    "filename = 'document_test\\guest.txt'\n",
    "with open(filename, 'a') as file_object:\n",
    "    name = input(\"Please enter your name: \")\n",
    "    file_object.write(name + \"\\n\")\n",
    "\n",
    "with open(filename) as file_object:\n",
    "    present_list = file_object.read()\n",
    "    if name in present_list:\n",
    "        print(\"Congratulations! Your name has been saved, \" + name.title() + \".\")\n",
    "    else:\n",
    "        print(\"Failed. Try again please.\")\n",
    "    "
   ]
  },
  {
   "cell_type": "code",
   "execution_count": 4,
   "metadata": {
    "scrolled": true
   },
   "outputs": [
    {
     "name": "stdout",
     "output_type": "stream",
     "text": [
      "Please enter your name: (enter 'q' to quit at any time)liuyuhao\n",
      "Please enter your name: (enter 'q' to quit at any time)caixukun\n",
      "Please enter your name: (enter 'q' to quit at any time)nike\n",
      "Please enter your name: (enter 'q' to quit at any time)hm\n",
      "Please enter your name: (enter 'q' to quit at any time)q\n"
     ]
    }
   ],
   "source": [
    "#10-4\n",
    "filename = 'document_test\\guest_book.txt'\n",
    "with open(filename, 'a') as file_object:\n",
    "    while True: #我现在经常有时候不知道该用for还是while\n",
    "        name = input(\"Please enter your name: (enter 'q' to quit at any time)\")\n",
    "        if name == 'q':\n",
    "            break\n",
    "        else:\n",
    "            file_object.write(name + \"\\n\")"
   ]
  },
  {
   "cell_type": "code",
   "execution_count": 8,
   "metadata": {},
   "outputs": [
    {
     "name": "stdout",
     "output_type": "stream",
     "text": [
      "Please enter the reason why you enjoy programming: (enter 'q' to quit at any time)nothing\n",
      "Please enter the reason why you enjoy programming: (enter 'q' to quit at any time)ok\n",
      "Please enter the reason why you enjoy programming: (enter 'q' to quit at any time)q\n"
     ]
    }
   ],
   "source": [
    "#10-5\n",
    "filename = r'document_test\\reason.txt'\n",
    "with open(filename, 'a') as file_object:\n",
    "    while True:\n",
    "        reason = input(\"Please enter the reason why you enjoy programming: (enter 'q' to quit at any time)\")\n",
    "        if reason == 'q':\n",
    "            break\n",
    "        else:\n",
    "            file_object.write(reason + \"\\n\")"
   ]
  },
  {
   "cell_type": "code",
   "execution_count": 1,
   "metadata": {},
   "outputs": [
    {
     "name": "stdout",
     "output_type": "stream",
     "text": [
      "This is an plus operator.\n",
      "Enter the first number: w\n",
      "Enter an int number, not some notes, mothersvcker.\n",
      "Enter the first number: e\n",
      "Enter an int number, not some notes, mothersvcker.\n",
      "Enter the first number: q\n",
      "Enter an int number, not some notes, mothersvcker.\n",
      "Enter the first number: 1\n",
      "Enter the second number: w\n",
      "Enter an int number, not some notes, mothersvcker.\n",
      "Enter the second number: w\n",
      "Enter an int number, not some notes, mothersvcker.\n",
      "Enter the second number: a\n",
      "Enter an int number, not some notes, mothersvcker.\n",
      "Enter the second number: 2\n",
      "The sum is 3.\n"
     ]
    }
   ],
   "source": [
    "#10-6，7\n",
    "print(\"This is an plus operator.\")\n",
    "signal = True\n",
    "while signal==True: #这个地方我用自己的思路想出来的，简直是太牛逼了，很有成就感。\n",
    "    try:\n",
    "        num1 = input(\"Enter the first number: \")\n",
    "        num1_converted = int(num1)\n",
    "        signal = False\n",
    "    except:\n",
    "        print(\"Enter an int number, not some notes, mothersvcker.\")\n",
    "\n",
    "signal2 = True\n",
    "while signal2 ==True: #太尼玛完美了\n",
    "    try:\n",
    "        num2 = input(\"Enter the second number: \")\n",
    "        num2_converted = int(num2)\n",
    "        signal2 = False\n",
    "    except:\n",
    "        print(\"Enter an int number, not some notes, mothersvcker.\")\n",
    "           \n",
    "add = num1_converted + num2_converted\n",
    "print(\"The sum is \" + str(add) + \".\")"
   ]
  },
  {
   "cell_type": "code",
   "execution_count": 6,
   "metadata": {},
   "outputs": [
    {
     "name": "stdout",
     "output_type": "stream",
     "text": [
      "amy\n",
      "lily\n",
      "gloria\n",
      "The file is not found.\n"
     ]
    }
   ],
   "source": [
    "#10-8\n",
    "def read_filetext(filename):\n",
    "    try:\n",
    "        with open(filename) as file_obj:\n",
    "            contents = file_obj.read()\n",
    "            print(contents)\n",
    "    except FileNotFoundError: #这个地方必须完全写对，如果写不对，甚至可以不写，效果是一样的\n",
    "        print(\"The file is not found.\")\n",
    "\n",
    "filename = [r'document_test\\cats.txt',\n",
    "            r'document_test\\dogs.txt',\n",
    "           ]\n",
    "for name in filename:\n",
    "    read_filetext(name)"
   ]
  },
  {
   "cell_type": "code",
   "execution_count": 7,
   "metadata": {},
   "outputs": [
    {
     "name": "stdout",
     "output_type": "stream",
     "text": [
      "amy\n",
      "lily\n",
      "gloria\n"
     ]
    }
   ],
   "source": [
    "#10-9\n",
    "def read_filetext(filename):\n",
    "    try:\n",
    "        with open(filename) as file_obj:\n",
    "            contents = file_obj.read()\n",
    "            print(contents)\n",
    "    except FileNotFoundError: #这个地方必须完全写对，如果写不对，甚至可以不写，效果是一样的\n",
    "        pass #ez\n",
    "\n",
    "filename = [r'document_test\\cats.txt',\n",
    "            r'document_test\\dogs.txt',\n",
    "           ]\n",
    "for name in filename:\n",
    "    read_filetext(name)"
   ]
  },
  {
   "cell_type": "code",
   "execution_count": 23,
   "metadata": {},
   "outputs": [
    {
     "name": "stdout",
     "output_type": "stream",
     "text": [
      "155\n"
     ]
    }
   ],
   "source": [
    "#10-10\n",
    "def count_times(filename, checker): #这个代码虽然精炼，但是很有用\n",
    "    try:\n",
    "        with open(filename) as file_obj:\n",
    "            contents = file_obj.read()\n",
    "            count_times = contents.lower().count(checker)\n",
    "            print(count_times)\n",
    "    except:\n",
    "        print(\"The file is not found.\")\n",
    "    \n",
    "filename = r'document_test\\test_book.txt'\n",
    "count_times(filename, 'you')"
   ]
  },
  {
   "cell_type": "code",
   "execution_count": 39,
   "metadata": {},
   "outputs": [
    {
     "name": "stdout",
     "output_type": "stream",
     "text": [
      "Enter your favorite number: 2\n",
      "You favorite num 2 has been stored.\n"
     ]
    }
   ],
   "source": [
    "#10-11\n",
    "import json\n",
    "num = input(\"Enter your favorite number: \")\n",
    "filename = r'document_test\\favorite_number.txt'\n",
    "with open(filename,'w') as file_obj: #经过我的测试，如果open的括号里有w，就会新建不存在的文件，否则不会新建。\n",
    "    json.dump(int(num), file_obj) #如果想用dump必须是w模式哦\n",
    "print(\"You favorite num \" + str(num) +\" has been stored.\")"
   ]
  },
  {
   "cell_type": "code",
   "execution_count": 41,
   "metadata": {},
   "outputs": [
    {
     "name": "stdout",
     "output_type": "stream",
     "text": [
      "we know your favorite number. it is 2.\n"
     ]
    }
   ],
   "source": [
    "import json\n",
    "filename = r'document_test\\favorite_number.txt'\n",
    "try:\n",
    "    with open(filename) as file_obj:\n",
    "        num = json.load(file_obj)\n",
    "    print(\"we know your favorite number. it is \" + str(num) +'.')\n",
    "except FileNotFoundError:\n",
    "    print(\"The file is not found.\")"
   ]
  },
  {
   "cell_type": "code",
   "execution_count": 3,
   "metadata": {},
   "outputs": [
    {
     "name": "stdout",
     "output_type": "stream",
     "text": [
      "we know your favorite number. it is 4.\n"
     ]
    }
   ],
   "source": [
    "#10-12\n",
    "import json\n",
    "filename = r'document_test\\favorite_number.txt'\n",
    "try:\n",
    "    with open(filename) as file_obj:\n",
    "        num = json.load(file_obj)\n",
    "    print(\"we know your favorite number. it is \" + str(num) +'.')\n",
    "except:\n",
    "    print(\"The file is not found.\")\n",
    "    num = input(\"Enter your favorite number: \")\n",
    "    with open(filename,'w') as file_obj: \n",
    "        json.dump(int(num), file_obj) \n",
    "    print(\"You favorite num \" + str(num) +\" has been stored.\")"
   ]
  },
  {
   "cell_type": "code",
   "execution_count": null,
   "metadata": {},
   "outputs": [],
   "source": [
    "#10-13问题都没有看太懂，这最后的这些部分我感觉其实不是太好，代码不够实用，就了解熟悉一下jsonloaddump这些就可以了。"
   ]
  }
 ],
 "metadata": {
  "kernelspec": {
   "display_name": "Python 3",
   "language": "python",
   "name": "python3"
  },
  "language_info": {
   "codemirror_mode": {
    "name": "ipython",
    "version": 3
   },
   "file_extension": ".py",
   "mimetype": "text/x-python",
   "name": "python",
   "nbconvert_exporter": "python",
   "pygments_lexer": "ipython3",
   "version": "3.8.5"
  }
 },
 "nbformat": 4,
 "nbformat_minor": 4
}

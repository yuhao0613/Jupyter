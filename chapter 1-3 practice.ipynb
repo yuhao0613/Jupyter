{
 "cells": [
  {
   "cell_type": "markdown",
   "metadata": {},
   "source": [
    "# 1-3章的练习题"
   ]
  },
  {
   "cell_type": "code",
   "execution_count": 6,
   "metadata": {},
   "outputs": [
    {
     "name": "stdout",
     "output_type": "stream",
     "text": [
      "something.\n"
     ]
    }
   ],
   "source": [
    "x = \"something.\"\n",
    "print(x)"
   ]
  },
  {
   "cell_type": "code",
   "execution_count": 8,
   "metadata": {},
   "outputs": [
    {
     "name": "stdout",
     "output_type": "stream",
     "text": [
      "something.\n",
      "something else.\n"
     ]
    }
   ],
   "source": [
    "x = \"something.\"\n",
    "print(x)\n",
    "x = \"something else.\"\n",
    "print(x)"
   ]
  },
  {
   "cell_type": "code",
   "execution_count": 1,
   "metadata": {},
   "outputs": [
    {
     "name": "stdout",
     "output_type": "stream",
     "text": [
      "Hello Eric, would you like to learn some Python today?\n"
     ]
    }
   ],
   "source": [
    "name = \"eric\"\n",
    "message = \"Hello \" + name.title() + \", would you like to learn some Python today?\"\n",
    "print(message)"
   ]
  },
  {
   "cell_type": "code",
   "execution_count": 5,
   "metadata": {},
   "outputs": [
    {
     "name": "stdout",
     "output_type": "stream",
     "text": [
      "Liu winston\n",
      "Liu Winston\n",
      "liu winston\n",
      "LIU WINSTON\n"
     ]
    }
   ],
   "source": [
    "first_name = \"Liu\"\n",
    "second_name = \"winston\"\n",
    "name = first_name + \" \" + second_name\n",
    "print(name)\n",
    "print(name.title())\n",
    "print(name.lower())\n",
    "print(name.upper())"
   ]
  },
  {
   "cell_type": "code",
   "execution_count": 11,
   "metadata": {},
   "outputs": [
    {
     "name": "stdout",
     "output_type": "stream",
     "text": [
      "Liu once said, \"I am handsome.\"\n"
     ]
    }
   ],
   "source": [
    "sentence = \"I am handsome.\"\n",
    "name = \"Liu\"\n",
    "message = name + ' once said, \"I am handsome.\"' \n",
    "print(message)"
   ]
  },
  {
   "cell_type": "code",
   "execution_count": null,
   "metadata": {},
   "outputs": [],
   "source": [
    "the same as below"
   ]
  },
  {
   "cell_type": "code",
   "execution_count": 29,
   "metadata": {
    "scrolled": true
   },
   "outputs": [
    {
     "name": "stdout",
     "output_type": "stream",
     "text": [
      "   Eric\tJohnson \n",
      "Eric\tJohnson \n",
      "   Eric\tJohnson\n",
      "Eric\tJohnson\n"
     ]
    }
   ],
   "source": [
    "name = \"   Eric\\tJohnson \"\n",
    "print(name)\n",
    "print(name.lstrip())\n",
    "print(name.rstrip())\n",
    "print(name.strip())\n"
   ]
  },
  {
   "cell_type": "code",
   "execution_count": 1,
   "metadata": {},
   "outputs": [
    {
     "name": "stdout",
     "output_type": "stream",
     "text": [
      "8\n",
      "8\n",
      "8\n",
      "8.0\n"
     ]
    }
   ],
   "source": [
    "print(1+7)\n",
    "print(10-2)\n",
    "print(2*4)\n",
    "print(16/2)"
   ]
  },
  {
   "cell_type": "code",
   "execution_count": 4,
   "metadata": {},
   "outputs": [
    {
     "name": "stdout",
     "output_type": "stream",
     "text": [
      "I am 24 years old.\n"
     ]
    }
   ],
   "source": [
    "age = 24\n",
    "x = \"I am \" + str(age) +\" years old.\"\n",
    "print(x)"
   ]
  },
  {
   "cell_type": "code",
   "execution_count": 12,
   "metadata": {},
   "outputs": [
    {
     "name": "stdout",
     "output_type": "stream",
     "text": [
      "The most handsome boy is Liu.\n",
      "Cao likes overwatch league.\n",
      "Hong has an alias \"野兽先辈\".\n"
     ]
    }
   ],
   "source": [
    "name = ['Hong','cao','liu','zhang']\n",
    "print(\"The most handsome boy is \" + name[-2].title() + \".\")\n",
    "print(name[1].title() + \" likes overwatch league.\")\n",
    "print(name[0] + ' has an alias \"野兽先辈\".')"
   ]
  },
  {
   "cell_type": "code",
   "execution_count": 13,
   "metadata": {},
   "outputs": [
    {
     "name": "stdout",
     "output_type": "stream",
     "text": [
      "I prefer Cars.\n"
     ]
    }
   ],
   "source": [
    "trans = ['bike','car','bus','metro']\n",
    "print(\"I prefer \" + trans[1].title() + \"s.\")"
   ]
  },
  {
   "cell_type": "code",
   "execution_count": 48,
   "metadata": {},
   "outputs": [
    {
     "name": "stdout",
     "output_type": "stream",
     "text": [
      "Hey, my friends - Hong, cao, zhang. would you like to participate my party?\n",
      "Liu will be absent.\n",
      "The new guest list is Hong, Cao, Zhang, Yan.\n",
      "\n",
      "Oh! I found a bigger table.\n",
      "['luo', 'Hong', 'lu', 'cao', 'zhang', 'yan', 'cai']\n",
      "Welcome luoHonglucaozhangyancai.\n",
      "\n",
      "Sorry motherfvcker, only two guests now.\n",
      "goodbye fellas, luo\n",
      "goodbye fellas, lu\n",
      "goodbye fellas, zhang\n",
      "goodbye fellas, cai\n",
      "goodbye fellas, yan\n",
      "\n",
      "You two guys are still the fucking guests, Hong, cao.\n",
      "[]\n"
     ]
    }
   ],
   "source": [
    "name = ['Hong','cao','liu','zhang'] #这个练习坐下来还是挺累的，中间出了很多差错，写代码就是一定要自己亲自试，不要觉得自己看懂了就会了。\n",
    "print(\"Hey, my friends - \" + name[0] + \", \" + name[1] +  \", \" + name[-1] + \". would you like to participate my party?\")\n",
    "print(name[-2].title() + \" will be absent.\")\n",
    "cant_come = 'liu'\n",
    "name.remove(cant_come)\n",
    "name.append('yan')\n",
    "print(\"The new guest list is \" + name[0].title() + \", \" + name[1].title() +  \", \" + name[2].title() + \", \" + name[3].title() + \".\\n\")\n",
    "\n",
    "print(\"Oh! I found a bigger table.\")\n",
    "name.insert(0,'luo')\n",
    "name.insert(2,'lu')\n",
    "name.append('cai')\n",
    "print(name)\n",
    "print(\"Welcome \" + name[0]+ name[1]+ name[2]+ name[3]+ name[4]+ name[5]+ name[6]+ \".\")\n",
    "\n",
    "print('\\nSorry motherfvcker, only two guests now.')\n",
    "leave = name.pop(0)\n",
    "print(\"goodbye fellas, \" + leave)\n",
    "leave = name.pop(1)\n",
    "print(\"goodbye fellas, \" + leave)\n",
    "leave = name.pop(2)\n",
    "print(\"goodbye fellas, \" + leave)\n",
    "leave = name.pop()\n",
    "print(\"goodbye fellas, \" + leave)\n",
    "leave = name.pop()\n",
    "print(\"goodbye fellas, \" + leave)\n",
    "print(\"\\nYou two guys are still the fucking guests, \" + name[0]+\", \" + name[1] +\".\")\n",
    "\n",
    "del name[0]\n",
    "del name[0]\n",
    "print(name)\n"
   ]
  },
  {
   "cell_type": "code",
   "execution_count": 11,
   "metadata": {},
   "outputs": [
    {
     "name": "stdout",
     "output_type": "stream",
     "text": [
      "['japan', 'suzhou', 'rome', 'vietnem', 'xian', 'york']\n",
      "['japan', 'rome', 'suzhou', 'vietnem', 'xian', 'york']\n",
      "['japan', 'suzhou', 'rome', 'vietnem', 'xian', 'york']\n",
      "['york', 'xian', 'vietnem', 'suzhou', 'rome', 'japan']\n",
      "['japan', 'suzhou', 'rome', 'vietnem', 'xian', 'york']\n",
      "['york', 'xian', 'vietnem', 'rome', 'suzhou', 'japan']\n",
      "['japan', 'suzhou', 'rome', 'vietnem', 'xian', 'york']\n",
      "['japan', 'rome', 'suzhou', 'vietnem', 'xian', 'york']\n",
      "['york', 'xian', 'vietnem', 'suzhou', 'rome', 'japan']\n"
     ]
    }
   ],
   "source": [
    "mylist = ['japan','suzhou','rome','vietnem','xian','york']\n",
    "print(mylist)\n",
    "print(sorted(mylist))\n",
    "print(mylist)\n",
    "print(sorted(mylist,reverse=True))\n",
    "print(mylist)\n",
    "mylist.reverse()\n",
    "print(mylist)\n",
    "mylist.reverse()\n",
    "print(mylist)\n",
    "mylist.sort()\n",
    "print(mylist)\n",
    "mylist.sort(reverse=True)\n",
    "print(mylist)"
   ]
  },
  {
   "cell_type": "code",
   "execution_count": 21,
   "metadata": {},
   "outputs": [
    {
     "name": "stdout",
     "output_type": "stream",
     "text": [
      "I invited 4 persons at all.\n"
     ]
    }
   ],
   "source": [
    "name = ['Hong','cao','liu','zhang']\n",
    "print(\"I invited \" + str(len(name)) + \" persons at all.\")"
   ]
  },
  {
   "cell_type": "code",
   "execution_count": 25,
   "metadata": {},
   "outputs": [
    {
     "name": "stdout",
     "output_type": "stream",
     "text": [
      "zhang\n"
     ]
    }
   ],
   "source": [
    "name = ['Hong','cao','liu','zhang']\n",
    "len(name)\n",
    "print(name[3])"
   ]
  }
 ],
 "metadata": {
  "kernelspec": {
   "display_name": "Python 3",
   "language": "python",
   "name": "python3"
  },
  "language_info": {
   "codemirror_mode": {
    "name": "ipython",
    "version": 3
   },
   "file_extension": ".py",
   "mimetype": "text/x-python",
   "name": "python",
   "nbconvert_exporter": "python",
   "pygments_lexer": "ipython3",
   "version": "3.8.5"
  }
 },
 "nbformat": 4,
 "nbformat_minor": 4
}

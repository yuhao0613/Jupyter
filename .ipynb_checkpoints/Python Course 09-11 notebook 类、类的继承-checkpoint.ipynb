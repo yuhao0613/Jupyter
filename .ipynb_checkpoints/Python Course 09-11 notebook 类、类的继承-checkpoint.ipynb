{
 "cells": [
  {
   "cell_type": "markdown",
   "metadata": {},
   "source": [
    "# 第9章 "
   ]
  },
  {
   "cell_type": "markdown",
   "metadata": {},
   "source": [
    "## 创建和使用类"
   ]
  },
  {
   "cell_type": "markdown",
   "metadata": {},
   "source": [
    "类是为了做实例化，我们可以做Dog类，dog类里可以包含相应的函数，这样其实就可以抽象我们的现实世界，也叫做实例化，是一种非常吊的功能。"
   ]
  },
  {
   "cell_type": "code",
   "execution_count": 13,
   "metadata": {},
   "outputs": [
    {
     "name": "stdout",
     "output_type": "stream",
     "text": [
      "My dog's name is Tom.\n",
      "My dog is 6 years old.\n",
      "Tom is now sitting.\n",
      "Tom rolled over!\n",
      "Jerry is now sitting.\n"
     ]
    }
   ],
   "source": [
    "class Dog(): #首字母大写的名称指的是类\n",
    "    \"\"\"initiative a simplest class for the first time\"\"\"\n",
    "    \n",
    "    #注意，类中的所有function函数都称为method方法\n",
    "    \n",
    "    def __init__(self, name, age): #我干，这个地方是两个下划线，一开始一直写一个下划线导致失败\n",
    "        \"\"\" initiative attributes: name and age\"\"\"\n",
    "        #__init__是一种特殊的method，每当我们根据dog类创建新实例时，都会自动运行这个方法\n",
    "        # 如何理解self这个参数呢。当我们创建实例时，将自动传入实参self，原始类中的所有method和参数都要通过\n",
    "        #self来传递，类似于一个桥梁和引导。\n",
    "        #比如下面的dog1.sit()，凭啥你能执行原来class类中的method呢，就凭你有这个self参数\n",
    "        #大概理解到这里就可以了。\n",
    "        self.name = name #注意，以self为前缀的变量可以供类中的所有method使用。\n",
    "        self.age = age\n",
    "    \n",
    "    def sit(self):\n",
    "        \"\"\"模拟小狗被命令时蹲下\"\"\"\n",
    "        print(self.name.title() + \" is now sitting.\")\n",
    "        \n",
    "    def roll_over(self):\n",
    "        \"\"\"模拟小狗受命令时打滚\"\"\"\n",
    "        print(self.name.title() + \" rolled over!\")\n",
    "\n",
    "dog1 = Dog('tom', 6)\n",
    "dog2 = Dog('jerry',3)\n",
    "print(\"My dog's name is \" + dog1.name.title() + \".\") #注意，我们可以读取dog1.name\n",
    "print(\"My dog is \" + str(dog1.age) + \" years old.\")\n",
    "\n",
    "dog1.sit()\n",
    "dog1.roll_over()\n",
    "dog2.sit()"
   ]
  },
  {
   "cell_type": "code",
   "execution_count": 5,
   "metadata": {},
   "outputs": [
    {
     "name": "stdout",
     "output_type": "stream",
     "text": [
      "2020 Audi A4\n",
      "This car has 0 miles on it.\n",
      "This car has 23 miles on it.\n"
     ]
    }
   ],
   "source": [
    "#9.2\n",
    "class Car():\n",
    "    \"\"\"a simple test for simulating a car\"\"\"\n",
    "    def __init__(self, make, model, year):\n",
    "            \"\"\"initiative car attribute\"\"\"\n",
    "            self.make = make\n",
    "            self.model = model\n",
    "            self.year = year\n",
    "            self.odometer = 0 #相当于不用外部输入，class自己包含的一个参数，并且可以供任意method使用\n",
    "    \n",
    "    def get_description(self):\n",
    "        \"\"\" return neat decription\"\"\"\n",
    "        long_name = str(self.year) + \" \" + self.make + \" \" +self.model\n",
    "        return long_name.title()\n",
    "    \n",
    "    def read_odometer(self):\n",
    "        \"\"\"print an odometer information\"\"\"\n",
    "        print(\"This car has \" + str(self.odometer) + \" miles on it.\")\n",
    "\n",
    "my_new_car = Car('audi', 'a4', 2020)\n",
    "print(my_new_car.get_description())  \n",
    "my_new_car.read_odometer()\n",
    "\n",
    "#修改属性值的3种方法，这里是第1种方法——直接修改odometer的数据\n",
    "my_new_car.odometer = 23\n",
    "my_new_car.read_odometer()"
   ]
  },
  {
   "cell_type": "code",
   "execution_count": 9,
   "metadata": {},
   "outputs": [
    {
     "name": "stdout",
     "output_type": "stream",
     "text": [
      "This car has 0 miles on it.\n",
      "This car has 34 miles on it.\n",
      "You can't roll back an odometer.\n"
     ]
    }
   ],
   "source": [
    "#修改属性值的3种方法，这里是第2种方法——设置一个方法来修改\n",
    "class Car():\n",
    "    \"\"\"a simple test for simulating a car\"\"\"\n",
    "    def __init__(self, make, model, year):\n",
    "            \"\"\"initiative car attribute\"\"\"\n",
    "            self.make = make\n",
    "            self.model = model\n",
    "            self.year = year\n",
    "            self.odometer = 0\n",
    "      \n",
    "    def read_odometer(self):\n",
    "        \"\"\"print an odometer information\"\"\"\n",
    "        print(\"This car has \" + str(self.odometer) + \" miles on it.\")\n",
    "        \n",
    "    def update_odometer(self, num):\n",
    "        if num >= self.odometer:\n",
    "            self.odometer = num\n",
    "        else:\n",
    "            print(\"You can't roll back an odometer.\") #不允许将里程表回拨哦\n",
    "\n",
    "my_new_car = Car('audi', 'a4', 2020)\n",
    "my_new_car.read_odometer()\n",
    "my_new_car.update_odometer(34) #这样就是相当于用类里的【方法】来修改了，其实这样我个人感觉好像更好一点。\n",
    "my_new_car.read_odometer()\n",
    "my_new_car.update_odometer(24)"
   ]
  },
  {
   "cell_type": "code",
   "execution_count": 11,
   "metadata": {},
   "outputs": [
    {
     "name": "stdout",
     "output_type": "stream",
     "text": [
      "This car has 0 miles on it.\n",
      "This car has 100 miles on it.\n",
      "This car has 600 miles on it.\n"
     ]
    }
   ],
   "source": [
    "#修改属性值的3种方法，这里是第3种方法——在类方法里面做递增\n",
    "class Car():\n",
    "    \"\"\"a simple test for simulating a car\"\"\"\n",
    "    def __init__(self, make, model, year):\n",
    "            \"\"\"initiative car attribute\"\"\"\n",
    "            self.make = make\n",
    "            self.model = model\n",
    "            self.year = year\n",
    "            self.odometer = 0\n",
    "      \n",
    "    def read_odometer(self):\n",
    "        \"\"\"print an odometer information\"\"\"\n",
    "        print(\"This car has \" + str(self.odometer) + \" miles on it.\")\n",
    "            \n",
    "    def increment_odometer(self, add): #其实原理也非常简单，就是在里面搞了一个自己递增的东西\n",
    "        self.odometer += add\n",
    "\n",
    "my_new_car = Car('audi', 'a4', 2020)\n",
    "my_new_car.read_odometer()\n",
    "my_new_car.increment_odometer(100) \n",
    "my_new_car.read_odometer()\n",
    "my_new_car.increment_odometer(500)\n",
    "my_new_car.read_odometer()"
   ]
  },
  {
   "cell_type": "markdown",
   "metadata": {},
   "source": [
    "## 9.3 继承"
   ]
  },
  {
   "cell_type": "code",
   "execution_count": 13,
   "metadata": {
    "scrolled": true
   },
   "outputs": [
    {
     "name": "stdout",
     "output_type": "stream",
     "text": [
      "2016 Tesla Model S\n"
     ]
    }
   ],
   "source": [
    "# 当一个类继承另一个类时，自动获得所有method和attribute\n",
    "class Car(): #这个是父类\n",
    "    \"\"\"a simple test for simulating a car\"\"\"\n",
    "    def __init__(self, make, model, year):\n",
    "            \"\"\"initiative car attribute\"\"\"\n",
    "            self.make = make\n",
    "            self.model = model\n",
    "            self.year = year\n",
    "            self.odometer = 0\n",
    "      \n",
    "    def get_description(self):\n",
    "        \"\"\" return neat decription\"\"\"\n",
    "        long_name = str(self.year) + \" \" + self.make + \" \" +self.model\n",
    "        return long_name.title()\n",
    "        \n",
    "class ElectricCar(Car): #继承类的基本代码\n",
    "    \n",
    "    def __init__(self, make, model, year): #需要跟car类的参数是完全一样的\n",
    "        super().__init__(make, model, year) #super是一个特殊函数，让python调用ElectricCar的父类Car的方法__init__()\n",
    "        #作用是让ElectricCar实例包含父类所有的属性，父类也称为superclass，super函数因此得名\n",
    "        \n",
    "my_tesla = ElectricCar('tesla','model s',2016)\n",
    "print(my_tesla.get_description())"
   ]
  },
  {
   "cell_type": "code",
   "execution_count": 15,
   "metadata": {},
   "outputs": [
    {
     "name": "stdout",
     "output_type": "stream",
     "text": [
      "The car has a 70-kWh battery.\n"
     ]
    }
   ],
   "source": [
    "#给子类定义属性和方法，注意这个方法只在子类中有，父类不受影响\n",
    "class Car(): #这个是父类\n",
    "    \"\"\"a simple test for simulating a car\"\"\"\n",
    "    def __init__(self, make, model, year):\n",
    "            \"\"\"initiative car attribute\"\"\"\n",
    "            self.make = make\n",
    "            self.model = model\n",
    "            self.year = year\n",
    "            self.odometer = 0\n",
    "      \n",
    "    def get_description(self):\n",
    "        \"\"\" return neat decription\"\"\"\n",
    "        long_name = str(self.year) + \" \" + self.make + \" \" +self.model\n",
    "        return long_name.title()\n",
    "        \n",
    "class ElectricCar(Car):\n",
    "    def __init__(self, make, model, year): #所有的类在最开始定义的时候都要写这一行，没啥区别的。\n",
    "        super().__init__(make, model, year) #简而言之，这行代码一些，就继承了父类了，没啥特别的，不用太大惊小怪。\n",
    "        self.battery_size = 70\n",
    "         \n",
    "    def describe_battery(self): #这个方法是新类才有的方法\n",
    "        print(\"The car has a \" + str(self.battery_size) + \"-kWh battery.\")\n",
    "        \n",
    "my_tesla = ElectricCar('tesla','model s',2016)\n",
    "my_tesla.describe_battery()"
   ]
  },
  {
   "cell_type": "code",
   "execution_count": 16,
   "metadata": {},
   "outputs": [
    {
     "name": "stdout",
     "output_type": "stream",
     "text": [
      "This car doesn't have an odometer.\n"
     ]
    }
   ],
   "source": [
    "#在子类中重写父类的method（注意不会改变父类）\n",
    "class Car(): \n",
    "    \"\"\"a simple test for simulating a car\"\"\"\n",
    "    def __init__(self, make, model, year):\n",
    "            \"\"\"initiative car attribute\"\"\"\n",
    "            self.make = make\n",
    "            self.model = model\n",
    "            self.year = year\n",
    "            self.odometer = 0\n",
    "      \n",
    "    def get_description(self):\n",
    "        \"\"\" return neat decription\"\"\"\n",
    "        long_name = str(self.year) + \" \" + self.make + \" \" +self.model\n",
    "        return long_name.title()\n",
    "    \n",
    "    def read_odometer(self):\n",
    "        \"\"\"print an odometer information\"\"\"\n",
    "        print(\"This car has \" + str(self.odometer) + \" miles on it.\")\n",
    "        \n",
    "class ElectricCar(Car):\n",
    "    def __init__(self, make, model, year): \n",
    "        super().__init__(make, model, year) \n",
    "        self.battery_size = 70\n",
    "         \n",
    "    def read_odometer(self): #可以发现，这个地方与父类的函数名相同，在这里重写，调用时用这里的函数，而不会用父类的\n",
    "        print(\"This car doesn't have an odometer.\")\n",
    "\n",
    "my_tesla = ElectricCar('tesla','model S',2016)\n",
    "my_tesla.read_odometer()"
   ]
  },
  {
   "cell_type": "code",
   "execution_count": 18,
   "metadata": {},
   "outputs": [
    {
     "name": "stdout",
     "output_type": "stream",
     "text": [
      "The car has a 70-kWh battery.\n",
      "This car can go approximately 240 miles on a full charge.\n"
     ]
    }
   ],
   "source": [
    "#将类的实例用作另一个继承类的attribute。看一下就能理解了。\n",
    "class Car(): \n",
    "    \"\"\"a simple test for simulating a car\"\"\"\n",
    "    def __init__(self, make, model, year):\n",
    "            \"\"\"initiative car attribute\"\"\"\n",
    "            self.make = make\n",
    "            self.model = model\n",
    "            self.year = year\n",
    "            self.odometer = 0\n",
    "      \n",
    "    def get_description(self):\n",
    "        \"\"\" return neat decription\"\"\"\n",
    "        long_name = str(self.year) + \" \" + self.make + \" \" +self.model\n",
    "        return long_name.title()\n",
    "        \n",
    "class Battery(): #一个平平无奇的新类\n",
    "    \"\"\"simulate the battery of electric car\"\"\"\n",
    "    \n",
    "    def __init__(self, battery_size=70):\n",
    "        self.battery_size = battery_size\n",
    "    \n",
    "    def describe_battery(self):\n",
    "        print(\"The car has a \" + str(self.battery_size) + \"-kWh battery.\")\n",
    "        \n",
    "    def get_range(self):\n",
    "        if self.battery_size == 70:\n",
    "            range = 240\n",
    "        elif self.battery_size == 85:\n",
    "            range = 270\n",
    "        message = \"This car can go approximately \" + str(range) + \" miles on a full charge.\"\n",
    "        print(message)\n",
    "        \n",
    "class ElectricCar(Car): #一个继承类\n",
    "    def __init__(self, make, model, year): \n",
    "        super().__init__(make, model, year) \n",
    "        self.battery = Battery() #注意，这个地方相当于创建了一个新的类的实例，跟下面的是一样的，别认不出来了。另外有默认值，所以括号里空\n",
    "        #的时候表示70。\n",
    "\n",
    "my_tesla = ElectricCar('tesla','model S',2016)\n",
    "my_tesla.battery.describe_battery() #这个地方的调用方式也是需要特别注意的。\n",
    "my_tesla.battery.get_range()"
   ]
  },
  {
   "cell_type": "markdown",
   "metadata": {},
   "source": [
    "## 9.4导入类 "
   ]
  },
  {
   "cell_type": "code",
   "execution_count": null,
   "metadata": {},
   "outputs": [],
   "source": [
    "#这一部分需要导入py文件，需要在pycharm里面练习\n",
    "from car import Car\n",
    "#就这样一句简单的话，就可以将car.py中的Car类导入现在的py文件里，会让代码非常简洁\n",
    "#注意注意注意，如果import后面跟的是首字母大写的东西，你就要注意了，导入的是类！而不是单纯的py文件orfunction"
   ]
  },
  {
   "cell_type": "code",
   "execution_count": null,
   "metadata": {},
   "outputs": [],
   "source": [
    "#导入模块（py文件）中的所有类\n",
    "from module_name import *\n",
    "#虽然这种方法不被推荐，但是还得认识"
   ]
  },
  {
   "cell_type": "code",
   "execution_count": null,
   "metadata": {},
   "outputs": [],
   "source": [
    "from collections import OrderedDict\n",
    "#意思就是从collections这个模块中导入OrderedDict这个类！！一定要记住哦"
   ]
  },
  {
   "cell_type": "markdown",
   "metadata": {},
   "source": [
    "规矩，类名用MyNameIsLiu 这种驼峰形式\n",
    "实例名和module名都用小写并加下划线 my_name_is_liu.py or substance"
   ]
  },
  {
   "cell_type": "markdown",
   "metadata": {},
   "source": [
    "# 第10章 文件和异常"
   ]
  },
  {
   "cell_type": "code",
   "execution_count": 2,
   "metadata": {},
   "outputs": [
    {
     "name": "stdout",
     "output_type": "stream",
     "text": [
      "3.1415926535\n",
      "   8979323846\n",
      "   2643383279\n"
     ]
    }
   ],
   "source": [
    "with open('pi_digits.txt') as file_object:\n",
    "    contents = file_object.read()\n",
    "    print(contents)"
   ]
  },
  {
   "cell_type": "code",
   "execution_count": 4,
   "metadata": {},
   "outputs": [
    {
     "name": "stdout",
     "output_type": "stream",
     "text": [
      "3.1415926535\n",
      "   8979323846\n",
      "   2643383279\n"
     ]
    }
   ],
   "source": [
    "#打开相对路径（子文件夹）\n",
    "with open('document_test\\pi_digits2.txt') as file_object: #如果是在mac和linux，就是用/，斜杠方向相反。\n",
    "    contents = file_object.read()\n",
    "    print(contents)"
   ]
  },
  {
   "cell_type": "code",
   "execution_count": 8,
   "metadata": {},
   "outputs": [
    {
     "name": "stdout",
     "output_type": "stream",
     "text": [
      "3.1415926535\n",
      "   8979323846\n",
      "   2643383279\n"
     ]
    }
   ],
   "source": [
    "#打开绝对路径\n",
    "file_path = r'C:\\Users\\419\\iCloudDrive\\Jupyter\\pi_digits.txt' #请注意，这个地方加r，可以防止转义，以原始字符串形式呈现\n",
    "with open(file_path) as file_object:\n",
    "    contents = file_object.read()\n",
    "    print(contents)"
   ]
  },
  {
   "cell_type": "code",
   "execution_count": 10,
   "metadata": {},
   "outputs": [
    {
     "name": "stdout",
     "output_type": "stream",
     "text": [
      "3.1415926535\n",
      "   8979323846\n",
      "   2643383279\n"
     ]
    }
   ],
   "source": [
    "#文件逐行读取\n",
    "filename = 'pi_digits.txt'\n",
    "\n",
    "with open(filename) as file_object:\n",
    "    for line in file_object:\n",
    "        print(line.rstrip())"
   ]
  },
  {
   "cell_type": "code",
   "execution_count": 12,
   "metadata": {},
   "outputs": [
    {
     "name": "stdout",
     "output_type": "stream",
     "text": [
      "['3.1415926535\\n', '   8979323846\\n', '   2643383279']\n",
      "3.1415926535\n",
      "   8979323846\n",
      "   2643383279\n"
     ]
    }
   ],
   "source": [
    "filename = 'pi_digits.txt'\n",
    "with open(filename) as file_object:\n",
    "    lines = file_object.readlines() #readlines这个方法，从文件中读取每一行，并将其存储在一个列表中\n",
    "\n",
    "print(lines)\n",
    "for line in lines:\n",
    "    print(line.rstrip())"
   ]
  },
  {
   "cell_type": "code",
   "execution_count": 14,
   "metadata": {},
   "outputs": [
    {
     "name": "stdout",
     "output_type": "stream",
     "text": [
      "3.141592653589793238462643383279\n",
      "32\n"
     ]
    }
   ],
   "source": [
    "filename = 'pi_digits.txt'\n",
    "with open(filename) as file_object:\n",
    "    lines = file_object.readlines()\n",
    "\n",
    "pi_string = ''\n",
    "for line in lines:\n",
    "    pi_string += line.strip() #通过把左右的空格都删除，实现了一行数字\n",
    "\n",
    "print(pi_string)\n",
    "print(len(pi_string))"
   ]
  },
  {
   "cell_type": "code",
   "execution_count": 23,
   "metadata": {},
   "outputs": [
    {
     "name": "stdout",
     "output_type": "stream",
     "text": [
      "3.14159261111111111111111111111111111111111111111111...\n",
      "148\n",
      "Enter your birthday, in the form yymmdd: 970613\n",
      "Congratulations.\n"
     ]
    }
   ],
   "source": [
    "filename = 'pi_fake.txt'\n",
    "\n",
    "with open(filename) as file_object:\n",
    "    lines = file_object.readlines()\n",
    "\n",
    "pi_string = ''\n",
    "for line in lines:\n",
    "    pi_string += line.strip()\n",
    "\n",
    "print(pi_string[:52] + \"...\")\n",
    "print(len(pi_string))\n",
    "\n",
    "birthday = input(\"Enter your birthday, in the form yymmdd: \")\n",
    "if birthday in pi_string: #这个地方就有一点生疏了，if语句还是很强大的，包含在里面就可以\n",
    "    print(\"Congratulations.\")\n",
    "else:\n",
    "    print(\"Try another day.\")"
   ]
  },
  {
   "cell_type": "code",
   "execution_count": 40,
   "metadata": {},
   "outputs": [
    {
     "name": "stdout",
     "output_type": "stream",
     "text": [
      "I love programming.\n",
      "I love Python.\n"
     ]
    }
   ],
   "source": [
    "#写入文件\n",
    "filename = 'document_test\\writing_test.txt'#如果要写入的文件不存在，函数open()会新建一个，但是会清空原有文件！！危！\n",
    "with open(filename, 'w') as file_object: #'w'表示写入模式，'r'表示读取模式\n",
    "    file_object.write(\"I love programming.\\n\") #write方法写内容进文件,记得加换行符，不然写的内容会连在一起\n",
    "    file_object.write(\"I love Python.\")\n",
    "      \n",
    "with open(filename) as file_object:\n",
    "    print(file_object.read())"
   ]
  },
  {
   "cell_type": "code",
   "execution_count": 41,
   "metadata": {},
   "outputs": [
    {
     "name": "stdout",
     "output_type": "stream",
     "text": [
      "I love programming.\n",
      "I love Python.\n",
      "I practice python everyday.\n"
     ]
    }
   ],
   "source": [
    "#如果要给文件添加内容，而不是覆盖原有内容，很实用\n",
    "filename = 'document_test\\writing_test.txt'\n",
    "with open(filename, 'a') as file_object:  #用w模式总是非常危险的，会把前面的内容搞没\n",
    "    file_object.write(\"\\nI practice python everyday.\")\n",
    "      \n",
    "with open(filename) as file_object:\n",
    "    print(file_object.read())"
   ]
  },
  {
   "cell_type": "markdown",
   "metadata": {},
   "source": [
    "处理异常代码"
   ]
  },
  {
   "cell_type": "code",
   "execution_count": 2,
   "metadata": {},
   "outputs": [
    {
     "name": "stdout",
     "output_type": "stream",
     "text": [
      "You can't divide by zero!\n"
     ]
    }
   ],
   "source": [
    "#我们不想看见难以理解的traceback，就可以采用下面这种形式\n",
    "#经典的ZeroDivisionError异常\n",
    "try:\n",
    "    print(5/0) #如果try里的代码没有问题，将跳过except，否则运行except\n",
    "except ZeroDivisionError:\n",
    "    print(\"You can't divide by zero!\")\n"
   ]
  },
  {
   "cell_type": "code",
   "execution_count": 2,
   "metadata": {},
   "outputs": [
    {
     "name": "stdout",
     "output_type": "stream",
     "text": [
      "Give me two numbers, and I'll divide them.\n",
      "Enter 'q' to quit.\n",
      "\n",
      "First number: 32\n",
      "\n",
      "Second number: 0\n",
      "You can't divide by zero!\n",
      "\n",
      "First number: 1\n",
      "\n",
      "Second number: q\n"
     ]
    }
   ],
   "source": [
    "#try的价值就是不让用户看到令人头疼的traceback，而是在出错时反馈比较简单的信息\n",
    "print(\"Give me two numbers, and I'll divide them.\")\n",
    "print(\"Enter 'q' to quit.\")\n",
    "\n",
    "while True:\n",
    "    first_number = input(\"\\nFirst number: \")\n",
    "    if first_number == 'q':\n",
    "        break\n",
    "    \n",
    "    second_number = input(\"\\nSecond number: \")\n",
    "    if second_number == 'q':\n",
    "        break\n",
    "    try:\n",
    "        answer = int(first_number) / int(second_number)\n",
    "    except ZeroDivisionError:\n",
    "        print(\"You can't divide by zero!\")\n",
    "    else: #else的意义就是，如果try能成功执行，就运行下面的代码而不是except。    \n",
    "        print(answer)\n",
    "        #请注意，这里必须写else，因为如果把这一行向前缩进，它是不知道answer的"
   ]
  },
  {
   "cell_type": "code",
   "execution_count": 3,
   "metadata": {},
   "outputs": [
    {
     "name": "stdout",
     "output_type": "stream",
     "text": [
      "We can't find this document.\n"
     ]
    }
   ],
   "source": [
    "#FileNotFoundError异常，就是找不到文件了\n",
    "filename = 'what.txt' #随便编的不存在的文件\n",
    "try:\n",
    "    with open(filename) as file_object:\n",
    "        contents = file_object.read()\n",
    "except FileNotFoundError:\n",
    "    print(\"We can't find this document.\")"
   ]
  },
  {
   "cell_type": "markdown",
   "metadata": {},
   "source": [
    "## 分析文本"
   ]
  },
  {
   "cell_type": "code",
   "execution_count": 4,
   "metadata": {},
   "outputs": [
    {
     "data": {
      "text/plain": [
       "['Alice', 'in', 'wonderland']"
      ]
     },
     "execution_count": 4,
     "metadata": {},
     "output_type": "execute_result"
    }
   ],
   "source": [
    "title = \"Alice in wonderland\"\n",
    "title.split() #split方法可以将字符串拆分为一个列表，字数可以非常非常多。"
   ]
  },
  {
   "cell_type": "code",
   "execution_count": 6,
   "metadata": {},
   "outputs": [
    {
     "name": "stdout",
     "output_type": "stream",
     "text": [
      "The file has 85015 words at all.\n"
     ]
    }
   ],
   "source": [
    "filename = r'document_test/test_book.txt'\n",
    "#注意，mac里的路径是/，win里面是\\\n",
    "try:\n",
    "    with open(filename) as file_object:\n",
    "        contents = file_object.read()\n",
    "except FileNotFoundError:\n",
    "    print(\"We can't find this document.\")\n",
    "else:\n",
    "    words = contents.split()\n",
    "    num_words = len(words)\n",
    "    print(\"The file has \" + str(num_words) + \" words at all.\")"
   ]
  },
  {
   "cell_type": "code",
   "execution_count": 24,
   "metadata": {},
   "outputs": [
    {
     "name": "stdout",
     "output_type": "stream",
     "text": [
      "The file has 85015 words at all.\n",
      "The file has 2 words at all.\n",
      "We can't find this document.\n"
     ]
    }
   ],
   "source": [
    "#为了分析多个书本，可以把它搞成一个函数，这样可以反复调用\n",
    "def count_words(filename):\n",
    "    \"\"\"输入一个文件的地址，然后就给你反馈它有多少字。\"\"\"\n",
    "    try:\n",
    "        with open(filename) as file_object:\n",
    "            contents = file_object.read()\n",
    "    except FileNotFoundError:\n",
    "        print(\"We can't find this document.\")\n",
    "    else:\n",
    "        words = contents.split()\n",
    "        num_words = len(words)\n",
    "        print(\"The file has \" + str(num_words) + \" words at all.\")\n",
    "\n",
    "filename = [\n",
    "    r'document_test\\test_book.txt',\n",
    "    r'document_test\\guest.txt',\n",
    "    r'document_test\\nothing.txt',\n",
    "    ]\n",
    "for name in filename:\n",
    "    count_words(name)"
   ]
  },
  {
   "cell_type": "code",
   "execution_count": 25,
   "metadata": {},
   "outputs": [
    {
     "name": "stdout",
     "output_type": "stream",
     "text": [
      "The file has 85015 words at all.\n",
      "The file has 2 words at all.\n"
     ]
    }
   ],
   "source": [
    "def count_words(filename):\n",
    "    \"\"\"输入一个文件的地址，然后就给你反馈它有多少字。\"\"\"\n",
    "    try:\n",
    "        with open(filename) as file_object:\n",
    "            contents = file_object.read()\n",
    "    except FileNotFoundError:\n",
    "        pass #这个地方可以填pass，这样出问题之后也不会输出了，就直接省略\n",
    "    else:\n",
    "        words = contents.split()\n",
    "        num_words = len(words)\n",
    "        print(\"The file has \" + str(num_words) + \" words at all.\")\n",
    "\n",
    "filename = [\n",
    "    r'document_test\\test_book.txt',\n",
    "    r'document_test\\guest.txt',\n",
    "    r'document_test\\nothing.txt',\n",
    "    ]\n",
    "for name in filename:\n",
    "    count_words(name)"
   ]
  },
  {
   "cell_type": "markdown",
   "metadata": {},
   "source": [
    "## 10.4 存储数据"
   ]
  },
  {
   "cell_type": "code",
   "execution_count": 26,
   "metadata": {},
   "outputs": [],
   "source": [
    "#使用json模块来存储数据，就是程序关闭了之后，后面还是可以用的\n",
    "#JavaScript Object Notation\n",
    "\n",
    "import json #注意哦，使用json要先import\n",
    "\n",
    "numbers = [2,3,1,1,341243,12312]\n",
    "\n",
    "filename = r'document_test\\numbers.json'#是一个文件\n",
    "with open(filename, 'w') as file_obj: #打开文件并进入写入模式\n",
    "    json.dump(numbers, file_obj) #dump方法"
   ]
  },
  {
   "cell_type": "code",
   "execution_count": 27,
   "metadata": {},
   "outputs": [
    {
     "name": "stdout",
     "output_type": "stream",
     "text": [
      "[2, 3, 1, 1, 341243, 12312]\n"
     ]
    }
   ],
   "source": [
    "#读取json\n",
    "import json\n",
    "\n",
    "filename = r'document_test\\numbers.json'\n",
    "with open(filename) as file_obj:\n",
    "    numbers = json.load(file_obj)\n",
    "\n",
    "print(numbers)"
   ]
  },
  {
   "cell_type": "code",
   "execution_count": 40,
   "metadata": {},
   "outputs": [
    {
     "name": "stdout",
     "output_type": "stream",
     "text": [
      "Enter your name: liuyuhao\n",
      "We will remember you when you come back, Liuyuhao.\n"
     ]
    }
   ],
   "source": [
    "import json\n",
    "\n",
    "username = input(\"Enter your name: \")\n",
    "\n",
    "filename = r'document_test\\names.json'\n",
    "with open(filename, 'w') as file_obj: #这里我知道你很想尝试‘a’，但是现在没必要，打基础阶段跟着书走就可以\n",
    "    json.dump(username, file_obj)\n",
    "    print(\"We will remember you when you come back, \" + username.title() + \".\")"
   ]
  },
  {
   "cell_type": "code",
   "execution_count": 57,
   "metadata": {},
   "outputs": [
    {
     "name": "stdout",
     "output_type": "stream",
     "text": [
      "welcome back, Liuyuhao.\n"
     ]
    }
   ],
   "source": [
    "import json\n",
    "\n",
    "def get_stored_username():\n",
    "    \"\"\"如果已有json中存储了用户名，就get it并return，否则return none\"\"\"\n",
    "    filename = r'document_test\\names.json'\n",
    "    try:\n",
    "        with open(filename) as file_obj:\n",
    "            username = json.load(file_obj)\n",
    "    except FileNotFoundError:\n",
    "        return None\n",
    "    else:\n",
    "        return username\n",
    "    \n",
    "def get_new_username():\n",
    "    username = input(\"What is your name: \")\n",
    "    filename = r'document_test\\names.json'\n",
    "    with open(filename, 'w') as file_obj: #其实这个程序是非常不合理的，把之前的用户名直接给覆盖了，但是先模仿理解\n",
    "            json.dump(username, file_obj)\n",
    "    return username\n",
    "\n",
    "def greet_user():\n",
    "    \"\"\"greet users and identify his name\"\"\"\n",
    "    username = get_stored_username()\n",
    "    if username:\n",
    "        print(\"welcome back, \" + username.title() + \".\")\n",
    "    else:\n",
    "        username = get_new_username()\n",
    "        print(\"We will remember you when you come back, \" + username.title() + \".\")\n",
    "\n",
    "greet_user() #这个程序要测试效果的话就把names.JSON文件给删除就可以了\n",
    "#不过总体来说这个书上代码写的不好，仅供学习理解"
   ]
  },
  {
   "cell_type": "markdown",
   "metadata": {},
   "source": [
    "## 第11章 测试代码"
   ]
  },
  {
   "cell_type": "code",
   "execution_count": null,
   "metadata": {},
   "outputs": [],
   "source": [
    "这一章学完之后，咱们的python基础就全部学完了，非常有成就感有木有\n",
    "学完之后，把notebook从头到尾看一遍，再顺一下基本的代码操作思路，然后咱们就可以开始pytorch的学习了，恭喜！"
   ]
  },
  {
   "cell_type": "code",
   "execution_count": null,
   "metadata": {},
   "outputs": [],
   "source": [
    "看pycharm里面test_name_function\n",
    "\n",
    "self.assertEqual(formatted_name,'Steven Jobs')\n",
    "\n",
    "上面这一行代码是测试功能的核心代码，就是看输出结果和你想要的是不是一样的。\n",
    "\n",
    "assert - to state firmly that something is true\n"
   ]
  },
  {
   "cell_type": "code",
   "execution_count": null,
   "metadata": {},
   "outputs": [],
   "source": [
    "11.1节是测试函数\n",
    "11.2节是测试类\n",
    "\n",
    "测试代码的意义是什么呢？\n",
    "就是我们在给代码添加新的功能时，可能会影响代码的当前功能，所以测试的意义就是确认新的开发没有破坏原有功能。"
   ]
  }
 ],
 "metadata": {
  "kernelspec": {
   "display_name": "Python 3",
   "language": "python",
   "name": "python3"
  },
  "language_info": {
   "codemirror_mode": {
    "name": "ipython",
    "version": 3
   },
   "file_extension": ".py",
   "mimetype": "text/x-python",
   "name": "python",
   "nbconvert_exporter": "python",
   "pygments_lexer": "ipython3",
   "version": "3.8.5"
  }
 },
 "nbformat": 4,
 "nbformat_minor": 4
}

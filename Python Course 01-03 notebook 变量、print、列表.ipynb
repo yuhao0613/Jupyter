{
 "cells": [
  {
   "cell_type": "markdown",
   "metadata": {},
   "source": [
    "# python编程 从入门到实践 Eric Matthes"
   ]
  },
  {
   "cell_type": "markdown",
   "metadata": {},
   "source": [
    "## 第1章 安装python"
   ]
  },
  {
   "cell_type": "code",
   "execution_count": 1,
   "metadata": {
    "scrolled": true
   },
   "outputs": [
    {
     "name": "stdout",
     "output_type": "stream",
     "text": [
      "hello world!\n"
     ]
    }
   ],
   "source": [
    "print(\"hello world!\")"
   ]
  },
  {
   "cell_type": "markdown",
   "metadata": {},
   "source": [
    "关于终端中cd dir等基本文件操作，书中写的比较模糊，有需要另找资料。"
   ]
  },
  {
   "cell_type": "markdown",
   "metadata": {},
   "source": [
    "## 第2章 变量 variable"
   ]
  },
  {
   "cell_type": "code",
   "execution_count": 5,
   "metadata": {},
   "outputs": [
    {
     "name": "stdout",
     "output_type": "stream",
     "text": [
      "hello world!\n",
      "abc\n"
     ]
    }
   ],
   "source": [
    "message = \"hello world!\"\n",
    "print(message)\n",
    "message = \"abc\"\n",
    "print(message)"
   ]
  },
  {
   "cell_type": "markdown",
   "metadata": {},
   "source": [
    "Naming and using variable\n",
    "1. only letters, numbers, and underscores. 字母、数字、下划线\n",
    "2. start with a letter or underscore, not a number. 不能用数字开头，咱们就默认字母开头吧\n",
    "3. no space in variable names\n",
    "4. variable names should be short but descriptive.\n",
    "5. be careful when using l and o, which is similar to 1 and O."
   ]
  },
  {
   "cell_type": "markdown",
   "metadata": {},
   "source": [
    "字符串 - *string*\n",
    "\n",
    "方法 - *method*\n",
    "\n",
    "A *method* is an action that Python can perform on a piece of data. The dot (.) after name in *name.title( )* tells Python to make the title( ) method act on the variable name.\n",
    "\n",
    "Every method is followed by a set of parentheses, because methods often need additional information to do their work. That information is provided inside the parentheses. The title() function doesn’t need any additional information, so its parentheses are empty."
   ]
  },
  {
   "cell_type": "code",
   "execution_count": 10,
   "metadata": {},
   "outputs": [
    {
     "name": "stdout",
     "output_type": "stream",
     "text": [
      "he said 'I love you!'\n",
      "he said \"what is the matter\"\n"
     ]
    }
   ],
   "source": [
    "x = \"he said 'I love you!'\"\n",
    "y = 'he said \"what is the matter\"'\n",
    "print(x) \n",
    "print(y) #通过单引号双引号的切换，可以在输出里面表示两类引号"
   ]
  },
  {
   "cell_type": "code",
   "execution_count": 16,
   "metadata": {},
   "outputs": [
    {
     "name": "stdout",
     "output_type": "stream",
     "text": [
      "Happy Holiday\n",
      "HAPPY HOLIDAY\n",
      "happy holiday\n"
     ]
    }
   ],
   "source": [
    "name = \"hApPy holiday\"\n",
    "print(name.title()) \n",
    "print(name.upper())\n",
    "print(name.lower())"
   ]
  },
  {
   "cell_type": "code",
   "execution_count": 4,
   "metadata": {
    "scrolled": true
   },
   "outputs": [
    {
     "name": "stdout",
     "output_type": "stream",
     "text": [
      "Ada lovelace\n",
      "Ada lovelace\n",
      "Hello, Ada Lovelace!\n",
      "Hello, Ada Lovelace!\n",
      "Hello, ADA LOVELACE!\n",
      "Hello, ada lovelace!\n"
     ]
    }
   ],
   "source": [
    "first_name = \"ada\"\n",
    "last_name = \"lovelace\"\n",
    "\n",
    "full_name = first_name.title() + \" \" + last_name\n",
    "#一种字符串拼接的方法\n",
    "print(full_name) \n",
    "\n",
    "full_name2 = f\"{first_name.title()} {last_name}\"\n",
    "#另一种字符串拼接的方法 这种方法现在对我来说是比较主流的\n",
    "print(full_name2)\n",
    "\n",
    "\n",
    "print(\"Hello, \" + full_name.title() + \"!\")\n",
    "print(f\"Hello, {full_name.title()}!\")\n",
    "#这种情况下f比较方便，不用打一堆+了\n",
    "\n",
    "message = \"Hello, \" + full_name.upper() + \"!\"\n",
    "print(message)\n",
    "message = f\"Hello, {full_name.lower()}!\"\n",
    "print(message)"
   ]
  },
  {
   "cell_type": "markdown",
   "metadata": {},
   "source": [
    "Adding whitespace to strings with tabs and newlines"
   ]
  },
  {
   "cell_type": "code",
   "execution_count": 26,
   "metadata": {},
   "outputs": [
    {
     "name": "stdout",
     "output_type": "stream",
     "text": [
      "Python\n",
      "\tPython\n",
      "Practice\n",
      "Python\n",
      "Liu:\n",
      "\tPractice\n",
      "\tPython\n"
     ]
    }
   ],
   "source": [
    "print(\"Python\")\n",
    "print(\"\\tPython\")\n",
    "print(\"Practice\\nPython\")\n",
    "print(\"Liu:\\n\\tPractice\\n\\tPython\")"
   ]
  },
  {
   "cell_type": "code",
   "execution_count": 1,
   "metadata": {
    "scrolled": true
   },
   "outputs": [
    {
     "data": {
      "text/plain": [
       "' Python'"
      ]
     },
     "execution_count": 1,
     "metadata": {},
     "output_type": "execute_result"
    }
   ],
   "source": [
    "x = \" Python     \" \n",
    "x = x.rstrip() #作用是删除字符串后面的空白，所有空白\n",
    "x"
   ]
  },
  {
   "cell_type": "code",
   "execution_count": 1,
   "metadata": {},
   "outputs": [
    {
     "name": "stdout",
     "output_type": "stream",
     "text": [
      "24岁，学生desu。\n"
     ]
    }
   ],
   "source": [
    "age = 24\n",
    "message = str(age) + \"岁，学生desu。\" #注意str（）函数的使用，数字不能直接塞入字符串中。\n",
    "print(message)"
   ]
  },
  {
   "cell_type": "markdown",
   "metadata": {},
   "source": [
    "第3章"
   ]
  },
  {
   "cell_type": "code",
   "execution_count": 4,
   "metadata": {},
   "outputs": [
    {
     "name": "stdout",
     "output_type": "stream",
     "text": [
      "['student', 'love', 'ace', 'ferrari']\n",
      "Student\n",
      "FERRARI\n"
     ]
    }
   ],
   "source": [
    "x = ['student','love','ace','ferrari']\n",
    "print(x)\n",
    "print(x[0].title()) #输出【列表】的元素\n",
    "print(x[-1].upper())"
   ]
  },
  {
   "cell_type": "code",
   "execution_count": 3,
   "metadata": {},
   "outputs": [
    {
     "name": "stdout",
     "output_type": "stream",
     "text": [
      "1 ['student', 'love', 'ace', 'ferrari', 'ford', 'benz']\n",
      "2 ['student', 'love', 'sack', 'ace', 'ferrari', 'ford', 'benz']\n",
      "3 ['love', 'sack', 'ace', 'ferrari', 'ford', 'benz']\n"
     ]
    }
   ],
   "source": [
    "x = ['student','love','ace','ferrari']\n",
    "x.append('ford')\n",
    "x.append('benz')\n",
    "print(1,x)\n",
    "x.insert(2,'sack')\n",
    "print(2,x)\n",
    "del x[0]\n",
    "print(3,x)"
   ]
  },
  {
   "cell_type": "code",
   "execution_count": 5,
   "metadata": {},
   "outputs": [
    {
     "name": "stdout",
     "output_type": "stream",
     "text": [
      "1 ['honda', 'yamaha', 'benz']\n",
      "2 ['honda', 'yamaha']\n",
      "3 ['yamaha']\n"
     ]
    }
   ],
   "source": [
    "signal = ['honda','yamaha','benz']\n",
    "print(1,signal)\n",
    "selected_signal = signal.pop() #括号内如果空的，默认弹出末尾元素\n",
    "print(2,signal)\n",
    "signal.pop(0)\n",
    "print(3,signal)"
   ]
  },
  {
   "cell_type": "code",
   "execution_count": 1,
   "metadata": {},
   "outputs": [
    {
     "name": "stdout",
     "output_type": "stream",
     "text": [
      "[1, 2, 3, 3, 2, 1, 4, 5, 4, 2]\n",
      "The bad number is 2\n",
      "[1, 3, 3, 2, 1, 4, 5, 4, 2]\n",
      "final [1, 3, 3, 1, 4, 5, 4]\n"
     ]
    }
   ],
   "source": [
    "name = [1,2,3,3,2,1,4,5,4,2]\n",
    "leave = 2\n",
    "print(name)\n",
    "name.remove(leave)\n",
    "print(\"The bad number is \" + str(leave))\n",
    "print(name) #remove只能去掉最前面的数字2\n",
    "\n",
    "#下面我尝试一下全部去掉\n",
    "for i in range(0,99):\n",
    "    if leave not in name:\n",
    "        break #这个break的理解我还不是很深入，慢慢品吧\n",
    "    else:\n",
    "        name.remove(leave)\n",
    "print('final',name)\n"
   ]
  },
  {
   "cell_type": "code",
   "execution_count": 23,
   "metadata": {},
   "outputs": [
    {
     "name": "stdout",
     "output_type": "stream",
     "text": [
      "['audi', 'benz', 'camera', 'honda']\n",
      "['honda', 'camera', 'benz', 'audi']\n"
     ]
    }
   ],
   "source": [
    "car = ['benz', 'audi', 'honda', 'camera']\n",
    "car.sort() #按照字母顺序排列\n",
    "print(car)\n",
    "car.sort(reverse=True)\n",
    "print(car)"
   ]
  },
  {
   "cell_type": "code",
   "execution_count": 3,
   "metadata": {},
   "outputs": [
    {
     "name": "stdout",
     "output_type": "stream",
     "text": [
      "1 ['benz', 'audi', 'honda', 'camera']\n",
      "2 ['audi', 'benz', 'camera', 'honda']\n",
      "3 ['honda', 'camera', 'benz', 'audi']\n",
      "4 ['camera', 'honda', 'audi', 'benz']\n",
      "5 None\n"
     ]
    },
    {
     "data": {
      "text/plain": [
       "4"
      ]
     },
     "execution_count": 3,
     "metadata": {},
     "output_type": "execute_result"
    }
   ],
   "source": [
    "car = ['benz', 'audi', 'honda', 'camera']\n",
    "print(1,car)\n",
    "print(2,sorted(car))\n",
    "print(3,sorted(car, reverse=True))\n",
    "car.reverse() #这个有啥用似乎不是很清楚，不过好像也不重要\n",
    "print(4,car)\n",
    "print(5,car.reverse()) #注意，用这种技法不好使\n",
    "len(car)"
   ]
  },
  {
   "cell_type": "markdown",
   "metadata": {},
   "source": [
    "20210309 finished"
   ]
  }
 ],
 "metadata": {
  "kernelspec": {
   "display_name": "Python 3",
   "language": "python",
   "name": "python3"
  },
  "language_info": {
   "codemirror_mode": {
    "name": "ipython",
    "version": 3
   },
   "file_extension": ".py",
   "mimetype": "text/x-python",
   "name": "python",
   "nbconvert_exporter": "python",
   "pygments_lexer": "ipython3",
   "version": "3.8.5"
  }
 },
 "nbformat": 4,
 "nbformat_minor": 4
}

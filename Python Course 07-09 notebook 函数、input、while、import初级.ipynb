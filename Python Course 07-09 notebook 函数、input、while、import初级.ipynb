{
 "cells": [
  {
   "cell_type": "markdown",
   "metadata": {},
   "source": [
    "# 第7章 "
   ]
  },
  {
   "cell_type": "markdown",
   "metadata": {},
   "source": [
    "## 函数input"
   ]
  },
  {
   "cell_type": "code",
   "execution_count": 2,
   "metadata": {},
   "outputs": [
    {
     "name": "stdout",
     "output_type": "stream",
     "text": [
      "Tell me something, and I will repeat it back to you: 1\n",
      "1\n"
     ]
    }
   ],
   "source": [
    "message = input(\"Tell me something, and I will repeat it back to you: \") #可以在input的括号里加文字\n",
    "print(message)"
   ]
  },
  {
   "cell_type": "code",
   "execution_count": 3,
   "metadata": {},
   "outputs": [
    {
     "name": "stdout",
     "output_type": "stream",
     "text": [
      "Please enter your name: Liu Yuhao\n",
      "Hello, Liu Yuhao.\n"
     ]
    }
   ],
   "source": [
    "name = input(\"Please enter your name: \")\n",
    "print(\"Hello, \" + name + '.')"
   ]
  },
  {
   "cell_type": "code",
   "execution_count": 5,
   "metadata": {},
   "outputs": [
    {
     "name": "stdout",
     "output_type": "stream",
     "text": [
      "If you tell us who you are, we can personalize the messages you see.\n",
      "What is your name?Liu Yuhao\n",
      "Hello, Liu Yuhao.\n"
     ]
    }
   ],
   "source": [
    "prompt = \"If you tell us who you are, we can personalize the messages you see.\"\n",
    "prompt += \"\\nWhat is your name?\" #这是一种创建多行字符串的方法。\n",
    "name = input(prompt)\n",
    "print(\"Hello, \" + name + \".\")"
   ]
  },
  {
   "cell_type": "markdown",
   "metadata": {},
   "source": [
    "## 函数int()来将字符串输入转为数值输入"
   ]
  },
  {
   "cell_type": "code",
   "execution_count": 12,
   "metadata": {},
   "outputs": [
    {
     "name": "stdout",
     "output_type": "stream",
     "text": [
      "How old are you, pussy?11\n",
      "You are not allow to this website, girl.\n"
     ]
    }
   ],
   "source": [
    "age = input(\"How old are you, pussy?\")\n",
    "age = int(age)\n",
    "if age <= 0 or age >=100:\n",
    "    print(\"Are you kidding me? You are not a human.\")\n",
    "elif age < 18:\n",
    "    print(\"You are not allow to this website, girl.\")\n",
    "else:\n",
    "    print(\"Welcome.\")"
   ]
  },
  {
   "cell_type": "markdown",
   "metadata": {},
   "source": [
    "## 求模运算符-相除并返回余数"
   ]
  },
  {
   "cell_type": "code",
   "execution_count": 13,
   "metadata": {},
   "outputs": [
    {
     "data": {
      "text/plain": [
       "1"
      ]
     },
     "execution_count": 13,
     "metadata": {},
     "output_type": "execute_result"
    }
   ],
   "source": [
    "4 % 3"
   ]
  },
  {
   "cell_type": "markdown",
   "metadata": {},
   "source": [
    "### 可以用求模方式判断是奇数还是偶数"
   ]
  },
  {
   "cell_type": "code",
   "execution_count": 1,
   "metadata": {},
   "outputs": [
    {
     "name": "stdout",
     "output_type": "stream",
     "text": [
      "Enter a number. I will tell you if it's even or odd: 24\n",
      "24 is even偶数.\n"
     ]
    }
   ],
   "source": [
    "number = input(\"Enter a number. I will tell you if it's even or odd: \")\n",
    "number = int(number)\n",
    "\n",
    "if number % 2 == 0:\n",
    "    print(str(number) + \" is even偶数.\")\n",
    "else:\n",
    "    print(str(number) + \" is odd奇数.\")"
   ]
  },
  {
   "cell_type": "markdown",
   "metadata": {},
   "source": [
    "## while循环 "
   ]
  },
  {
   "cell_type": "code",
   "execution_count": 1,
   "metadata": {},
   "outputs": [
    {
     "name": "stdout",
     "output_type": "stream",
     "text": [
      "1\n",
      "2\n",
      "3\n",
      "4\n",
      "5\n"
     ]
    }
   ],
   "source": [
    "current_number = 1\n",
    "while current_number <= 5:\n",
    "    print(current_number)\n",
    "    current_number += 1\n",
    "    "
   ]
  },
  {
   "cell_type": "code",
   "execution_count": 3,
   "metadata": {},
   "outputs": [
    {
     "name": "stdout",
     "output_type": "stream",
     "text": [
      "\n",
      "Tell me something, and I will repeat it back to you:\n",
      "Enter 'quit' to end the program. quit\n"
     ]
    }
   ],
   "source": [
    "prompt = \"\\nTell me something, and I will repeat it back to you:\"\n",
    "prompt += \"\\nEnter 'quit' to end the program. \"\n",
    "message = \"\"\n",
    "while message != 'quit':\n",
    "    message = input(prompt)\n",
    "    \n",
    "    if message != 'quit':\n",
    "        print(message)"
   ]
  },
  {
   "cell_type": "code",
   "execution_count": null,
   "metadata": {},
   "outputs": [
    {
     "name": "stdout",
     "output_type": "stream",
     "text": [
      "\n",
      "Tell me something, and I will repeat it back to you:\n",
      "Enter 'quit' to end the program. \n",
      "\n"
     ]
    }
   ],
   "source": [
    "#使用【标志】来处理复杂条件下的抉择\n",
    "prompt = \"\\nTell me something, and I will repeat it back to you:\"\n",
    "prompt += \"\\nEnter 'quit' to end the program. \"\n",
    "\n",
    "active = True\n",
    "while active:\n",
    "    message = input(prompt)\n",
    "    \n",
    "    if message == 'quit':\n",
    "        active = False\n",
    "    else:\n",
    "        print(message)"
   ]
  },
  {
   "cell_type": "code",
   "execution_count": 1,
   "metadata": {},
   "outputs": [
    {
     "name": "stdout",
     "output_type": "stream",
     "text": [
      "\n",
      "Please Enter the name of a city you want to visit:\n",
      "Enter 'quit' to end the program. london\n",
      "I'd like to go to London!\n",
      "\n",
      "Please Enter the name of a city you want to visit:\n",
      "Enter 'quit' to end the program. quit\n"
     ]
    }
   ],
   "source": [
    "#break\n",
    "prompt = \"\\nPlease Enter the name of a city you want to visit:\"\n",
    "prompt += \"\\nEnter 'quit' to end the program. \"\n",
    "\n",
    "while True:\n",
    "    city = input(prompt)\n",
    "    \n",
    "    if city == 'quit':\n",
    "        break\n",
    "    else:\n",
    "        print(\"I'd like to go to \" + city.title() + \"!\")"
   ]
  },
  {
   "cell_type": "code",
   "execution_count": 2,
   "metadata": {},
   "outputs": [
    {
     "name": "stdout",
     "output_type": "stream",
     "text": [
      "1\n",
      "3\n",
      "5\n",
      "7\n",
      "9\n"
     ]
    }
   ],
   "source": [
    "#continue\n",
    "current_number = 0\n",
    "while current_number < 10:\n",
    "    current_number += 1\n",
    "    if current_number % 2 == 0:\n",
    "        continue\n",
    "    print(current_number)"
   ]
  },
  {
   "cell_type": "code",
   "execution_count": 1,
   "metadata": {},
   "outputs": [
    {
     "name": "stdout",
     "output_type": "stream",
     "text": [
      "1\n",
      "2\n",
      "3\n",
      "4\n",
      "5\n"
     ]
    }
   ],
   "source": [
    "x = 1\n",
    "while x <= 5:\n",
    "    print(x)\n",
    "    x += 1"
   ]
  },
  {
   "cell_type": "markdown",
   "metadata": {},
   "source": [
    "## 使用while循环来处理列表和字典"
   ]
  },
  {
   "cell_type": "code",
   "execution_count": 2,
   "metadata": {},
   "outputs": [
    {
     "name": "stdout",
     "output_type": "stream",
     "text": [
      "Verifying user: Candace\n",
      "Verifying user: Brian\n",
      "Verifying user: Alice\n",
      "The following users have been confirmed: \n",
      "Candace\n",
      "Brian\n",
      "Alice\n"
     ]
    }
   ],
   "source": [
    "unconfirmed_users = ['alice','brian','candace']\n",
    "confirmed_users = []\n",
    "while unconfirmed_users:\n",
    "    current_user = unconfirmed_users.pop()\n",
    "    print(\"Verifying user: \" + current_user.title())\n",
    "    confirmed_users.append(current_user)\n",
    "\n",
    "print(\"The following users have been confirmed: \")\n",
    "for confirmed_user in confirmed_users:\n",
    "    print(confirmed_user.title())\n",
    "    \n",
    "    "
   ]
  },
  {
   "cell_type": "code",
   "execution_count": 8,
   "metadata": {},
   "outputs": [
    {
     "name": "stdout",
     "output_type": "stream",
     "text": [
      "['dog', 'cat', 'dog', 'goldfish', 'cat', 'rabbit', 'cat']\n",
      "['dog', 'dog', 'goldfish', 'rabbit']\n"
     ]
    }
   ],
   "source": [
    "#7.3.2删除包含特定值的所有列表元素\n",
    "pets = ['dog','cat','dog','goldfish','cat','rabbit','cat']\n",
    "print(pets)\n",
    "\n",
    "while 'cat' in pets: #惊了，原来while的条件还可以写这种语句。\n",
    "    pets.remove('cat')\n",
    "    \n",
    "#for 'dog' in pets: 请注意，这种语句就完全不行。所以删除列表中的特定值用while就完事了，最方便。\n",
    "    #pets.remove('dog')\n",
    "\n",
    "print(pets)\n",
    "    "
   ]
  },
  {
   "cell_type": "code",
   "execution_count": 1,
   "metadata": {},
   "outputs": [
    {
     "name": "stdout",
     "output_type": "stream",
     "text": [
      "\n",
      "What is the name?james\n",
      "Which mountain would this name like to climb someday?zijinshan\n",
      "Would you like to input another item? (yes/no)yes\n",
      "\n",
      "What is the name?dog\n",
      "Which mountain would this name like to climb someday?niushoushan\n",
      "Would you like to input another item? (yes/no)no\n",
      "\n",
      "--- Poll Results ---\n",
      "James would like to climb zijinshan.\n",
      "Dog would like to climb niushoushan.\n"
     ]
    }
   ],
   "source": [
    "#使用用户输入来填充字典\n",
    "responses = {}\n",
    "polling_active = True\n",
    "\n",
    "while polling_active:\n",
    "    name = input(\"\\nWhat is the name?\")\n",
    "    response = input(\"Which mountain would this name like to climb someday?\")\n",
    "    \n",
    "    responses[name] = response\n",
    "    repeat = input(\"Would you like to input another item? (yes/no)\")\n",
    "    if repeat == 'no':\n",
    "        polling_active = False\n",
    "\n",
    "print(\"\\n--- Poll Results ---\")\n",
    "for name, response in responses.items():\n",
    "    print(name.title() + \" would like to climb \" + response + \".\")\n",
    "        "
   ]
  },
  {
   "cell_type": "markdown",
   "metadata": {},
   "source": [
    "# 第8章 函数（这章内容比较多，目测得看三天） "
   ]
  },
  {
   "cell_type": "markdown",
   "metadata": {},
   "source": [
    "8.1 定义函数"
   ]
  },
  {
   "cell_type": "code",
   "execution_count": 3,
   "metadata": {},
   "outputs": [
    {
     "name": "stdout",
     "output_type": "stream",
     "text": [
      "Hello!\n"
     ]
    }
   ],
   "source": [
    "def greet_user():\n",
    "    \"\"\"显示简单的问候语\"\"\"\n",
    "    print(\"Hello!\")\n",
    "\n",
    "greet_user()"
   ]
  },
  {
   "cell_type": "code",
   "execution_count": 4,
   "metadata": {},
   "outputs": [
    {
     "name": "stdout",
     "output_type": "stream",
     "text": [
      "Hello! Liu.\n"
     ]
    }
   ],
   "source": [
    "def greet_user(username):\n",
    "    \"\"\" show simple greetings\"\"\"\n",
    "    print(\"Hello! \" + username.title() + \".\")\n",
    "\n",
    "greet_user('liu')"
   ]
  },
  {
   "cell_type": "markdown",
   "metadata": {},
   "source": [
    "8.2 传递实参"
   ]
  },
  {
   "cell_type": "code",
   "execution_count": 6,
   "metadata": {},
   "outputs": [
    {
     "name": "stdout",
     "output_type": "stream",
     "text": [
      "\n",
      "I have a hamster.\n",
      "My hamster's name is Neko.\n",
      "\n",
      "I have a dog.\n",
      "My dog's name is Biggie.\n"
     ]
    }
   ],
   "source": [
    "def describe_pet(animal_type, pet_name): #位置形参，其实那些乱七八糟的解释不用看，就是按顺序放就ok了\n",
    "    print(\"\\nI have a \" + animal_type + \".\")\n",
    "    print(\"My \" + animal_type + \"'s name is \" + pet_name.title() + \".\")\n",
    "\n",
    "describe_pet('hamster','neko')\n",
    "describe_pet('dog','biggie')"
   ]
  },
  {
   "cell_type": "code",
   "execution_count": 8,
   "metadata": {},
   "outputs": [
    {
     "name": "stdout",
     "output_type": "stream",
     "text": [
      "\n",
      "I have a hamster.\n",
      "My hamster's name is Neko.\n",
      "\n",
      "I have a dog.\n",
      "My dog's name is Biggie.\n"
     ]
    }
   ],
   "source": [
    "#关键词实参\n",
    "def describe_pet(animal_type, pet_name): \n",
    "    print(\"\\nI have a \" + animal_type + \".\")\n",
    "    print(\"My \" + animal_type + \"'s name is \" + pet_name.title() + \".\")\n",
    "    \n",
    "describe_pet(animal_type='hamster',pet_name='neko') #设置函数的时候没区别，但是调用的时候可以随便写顺序。\n",
    "describe_pet(pet_name='biggie',animal_type='dog')"
   ]
  },
  {
   "cell_type": "code",
   "execution_count": 12,
   "metadata": {
    "scrolled": true
   },
   "outputs": [
    {
     "name": "stdout",
     "output_type": "stream",
     "text": [
      "\n",
      "I have a dog.\n",
      "My dog's name is David.\n",
      "\n",
      "I have a dog.\n",
      "My dog's name is Steven.\n"
     ]
    }
   ],
   "source": [
    "#参数默认值\n",
    "def describe_pet(pet_name,animal_type='dog'):  #参数上设置了一个默认值,！！！最关键的是，设置默认值的形参一定要放在最后\n",
    "    print(\"\\nI have a \" + animal_type + \".\")\n",
    "    print(\"My \" + animal_type + \"'s name is \" + pet_name.title() + \".\")\n",
    "    \n",
    "describe_pet(pet_name='david')\n",
    "describe_pet('steven') #这种方式就比较简单了。"
   ]
  },
  {
   "cell_type": "code",
   "execution_count": 13,
   "metadata": {
    "scrolled": true
   },
   "outputs": [
    {
     "name": "stdout",
     "output_type": "stream",
     "text": [
      "\n",
      "I have a dog.\n",
      "My dog's name is Steven.\n",
      "\n",
      "I have a dog.\n",
      "My dog's name is Steven.\n",
      "\n",
      "I have a dog.\n",
      "My dog's name is Steven.\n",
      "\n",
      "I have a dog.\n",
      "My dog's name is Steven.\n"
     ]
    }
   ],
   "source": [
    "#等效调用函数\n",
    "def describe_pet(pet_name,animal_type='dog'): \n",
    "    print(\"\\nI have a \" + animal_type + \".\")\n",
    "    print(\"My \" + animal_type + \"'s name is \" + pet_name.title() + \".\")\n",
    "    \n",
    "describe_pet('steven','dog') #下面这几种调用方式都是等效的\n",
    "describe_pet('steven','dog')\n",
    "describe_pet(pet_name='steven',animal_type='dog')\n",
    "describe_pet(animal_type='dog',pet_name='steven')"
   ]
  },
  {
   "cell_type": "markdown",
   "metadata": {},
   "source": [
    "8.3返回值"
   ]
  },
  {
   "cell_type": "code",
   "execution_count": 2,
   "metadata": {},
   "outputs": [
    {
     "name": "stdout",
     "output_type": "stream",
     "text": [
      "Jimi Fuck\n"
     ]
    }
   ],
   "source": [
    "def get_formatted_name(first_name, last_name):\n",
    "    full_name = first_name + ' ' + last_name\n",
    "    return full_name.title() #return就是函数会返回一个输出结果了，不错子\n",
    "\n",
    "musician = get_formatted_name('jimi','fuck')\n",
    "print(musician)"
   ]
  },
  {
   "cell_type": "markdown",
   "metadata": {},
   "source": [
    "可选实参"
   ]
  },
  {
   "cell_type": "code",
   "execution_count": 8,
   "metadata": {},
   "outputs": [
    {
     "name": "stdout",
     "output_type": "stream",
     "text": [
      "Jimi Fuck\n",
      "Jimi Middle Fuck\n",
      "Jimi Middle Fuck\n",
      "Fuck Middle Jimi\n"
     ]
    }
   ],
   "source": [
    "def get_formatted_name(first_name, last_name, middle_name = ''):\n",
    "    if middle_name:\n",
    "        full_name = first_name + ' ' + middle_name + ' ' + last_name\n",
    "    else:\n",
    "        full_name = first_name + ' ' + last_name\n",
    "    return full_name.title() \n",
    "\n",
    "musician = get_formatted_name('jimi','fuck')\n",
    "musician2 = get_formatted_name('jimi','fuck','middle')\n",
    "musician3 = get_formatted_name('jimi','fuck',middle_name='middle')#这里你要是把middle_name放在中间那就不行了，必须全部写清楚\n",
    "musician4 = get_formatted_name(last_name='jimi',first_name='fuck',middle_name='middle') #这样也是可以的，但是不麻烦吗\n",
    "\n",
    "print(musician)\n",
    "print(musician2)\n",
    "print(musician3)\n",
    "print(musician4)"
   ]
  },
  {
   "cell_type": "code",
   "execution_count": 2,
   "metadata": {},
   "outputs": [
    {
     "name": "stdout",
     "output_type": "stream",
     "text": [
      "{'first': 'jimi', 'last': 'hendrix'}\n"
     ]
    }
   ],
   "source": [
    "def build_person(first_name, last_name):\n",
    "    \"\"\" return a dictionary containing one's information\"\"\"\n",
    "    person = {'first':first_name, 'last':last_name}\n",
    "    return person\n",
    "\n",
    "musician = build_person('jimi','hendrix')\n",
    "print(musician)"
   ]
  },
  {
   "cell_type": "code",
   "execution_count": 3,
   "metadata": {},
   "outputs": [
    {
     "name": "stdout",
     "output_type": "stream",
     "text": [
      "{'first': 'jimi', 'last': 'hendrix'}\n",
      "{'first': 'liu', 'last': 'yuhao', 'age': '24'}\n"
     ]
    }
   ],
   "source": [
    "def build_person(first_name, last_name, age=''):\n",
    "    \"\"\" return a dictionary containing one's information\"\"\"\n",
    "    person = {'first':first_name, 'last':last_name}\n",
    "    if age:\n",
    "        person['age'] = age\n",
    "    return person\n",
    "\n",
    "musician = build_person('jimi','hendrix')\n",
    "musician2 = build_person('liu','yuhao','24')\n",
    "print(musician)\n",
    "print(musician2)"
   ]
  },
  {
   "cell_type": "code",
   "execution_count": 1,
   "metadata": {},
   "outputs": [
    {
     "name": "stdout",
     "output_type": "stream",
     "text": [
      "First name:liu\n",
      "Last name:yuhao\n",
      "Hello, Liu Yuhao!\n",
      "\n",
      "\n",
      "Please tell me your name:\n",
      "Enter 'q' to quit this page at any time.\n",
      "First name:Zhang\n",
      "Last name:yingheng\n",
      "Hello, Zhang Yingheng!\n",
      "\n",
      "\n",
      "Please tell me your name:\n",
      "Enter 'q' to quit this page at any time.\n",
      "First name:cao\n",
      "Last name:jiacheng\n",
      "Hello, Cao Jiacheng!\n",
      "\n",
      "\n",
      "Please tell me your name:\n",
      "Enter 'q' to quit this page at any time.\n",
      "First name:q\n"
     ]
    }
   ],
   "source": [
    "def get_formatted_name(first_name, last_name):\n",
    "    \"\"\"return neat name\"\"\"\n",
    "    full_name = first_name + ' ' + last_name\n",
    "    return full_name.title()\n",
    "\n",
    "while True:\n",
    "    print(\"\\nPlease tell me your name:\")\n",
    "    print(\"Enter 'q' to quit this page at any time.\")\n",
    "    \n",
    "    f_name = input(\"First name:\")\n",
    "    if f_name == 'q':\n",
    "        break\n",
    "    \n",
    "    l_name = input(\"Last name:\")\n",
    "    if l_name == 'q':\n",
    "        break\n",
    "        \n",
    "    formatted_name = get_formatted_name(f_name, l_name)\n",
    "    print(\"Hello, \" + formatted_name + \"!\\n\")"
   ]
  },
  {
   "cell_type": "markdown",
   "metadata": {},
   "source": [
    "8.4 传递列表"
   ]
  },
  {
   "cell_type": "code",
   "execution_count": 2,
   "metadata": {},
   "outputs": [
    {
     "name": "stdout",
     "output_type": "stream",
     "text": [
      "Hello, Steven!\n",
      "Hello, Alta!\n",
      "Hello, Sam!\n"
     ]
    }
   ],
   "source": [
    "def greet_users(names):\n",
    "    for name in names:\n",
    "        msg = \"Hello, \" + name.title() + \"!\"\n",
    "        print(msg)\n",
    "\n",
    "usernames = ['steven', 'alta', 'sam']\n",
    "greet_users(usernames)"
   ]
  },
  {
   "cell_type": "code",
   "execution_count": 3,
   "metadata": {},
   "outputs": [
    {
     "name": "stdout",
     "output_type": "stream",
     "text": [
      "Printing model: dodecahedron\n",
      "Printing model: robot pendant\n",
      "Printing model: iphone case\n",
      "\n",
      "The following models have been printed: \n",
      "Dodecahedron\n",
      "Robot Pendant\n",
      "Iphone Case\n"
     ]
    }
   ],
   "source": [
    "def print_models(unprinted_designs, completed_models):\n",
    "    \"\"\"\n",
    "    模拟打印每个设计，直到没有未打印的设计为止\n",
    "    打印每个设计后，都将其移到列表completed models中\n",
    "    \"\"\"\n",
    "    while unprinted_designs:\n",
    "        current_design = unprinted_designs.pop()\n",
    "        \n",
    "        print(\"Printing model: \" + current_design)\n",
    "        completed_models.append(current_design)\n",
    "\n",
    "def show_completed_models(completed_models):\n",
    "    \"\"\"显示打印好的所有模型\"\"\"\n",
    "    print(\"\\nThe following models have been printed: \")\n",
    "    for completed_model in completed_models:\n",
    "        print(completed_model.title())\n",
    "\n",
    "unprinted_designs = ['iphone case', 'robot pendant', 'dodecahedron']\n",
    "completed_models = []\n",
    "\n",
    "print_models(unprinted_designs, completed_models)\n",
    "show_completed_models(completed_models)\n",
    "    "
   ]
  },
  {
   "cell_type": "code",
   "execution_count": 5,
   "metadata": {
    "scrolled": true
   },
   "outputs": [
    {
     "name": "stdout",
     "output_type": "stream",
     "text": [
      "Printing model: dodecahedron\n",
      "Printing model: robot pendant\n",
      "Printing model: iphone case\n",
      "\n",
      "The following models have been printed: \n",
      "Dodecahedron\n",
      "Robot Pendant\n",
      "Iphone Case\n",
      "['iphone case', 'robot pendant', 'dodecahedron']\n"
     ]
    }
   ],
   "source": [
    "#禁止函数修改列表——用切片法创建列表的copy\n",
    "def print_models(unprinted_designs, completed_models):\n",
    "    \"\"\"\n",
    "    模拟打印每个设计，直到没有未打印的设计为止\n",
    "    打印每个设计后，都将其移到列表completed models中\n",
    "    \"\"\"\n",
    "    while unprinted_designs:\n",
    "        current_design = unprinted_designs.pop()\n",
    "        \n",
    "        print(\"Printing model: \" + current_design)\n",
    "        completed_models.append(current_design)\n",
    "\n",
    "def show_completed_models(completed_models):\n",
    "    \"\"\"显示打印好的所有模型\"\"\"\n",
    "    print(\"\\nThe following models have been printed: \")\n",
    "    for completed_model in completed_models:\n",
    "        print(completed_model.title())\n",
    "\n",
    "unprinted_designs = ['iphone case', 'robot pendant', 'dodecahedron']\n",
    "completed_models = []\n",
    "\n",
    "print_models(unprinted_designs[:], completed_models) #只有这里有一点点修改，其他全跟前面一样\n",
    "show_completed_models(completed_models)\n",
    "\n",
    "print(unprinted_designs)#这个时候一番操作之后，原来的列表没有被改变"
   ]
  },
  {
   "cell_type": "markdown",
   "metadata": {},
   "source": [
    "8.5 传递任意数量的实参"
   ]
  },
  {
   "cell_type": "code",
   "execution_count": 6,
   "metadata": {},
   "outputs": [
    {
     "name": "stdout",
     "output_type": "stream",
     "text": [
      "('pepperoni',)\n",
      "('mushrooms', 'green peppers', 'extra cheese')\n"
     ]
    }
   ],
   "source": [
    "def make_pizza(*toppings): #这个非常骚，一个星星就可以承载任意数量的形参\n",
    "    print(toppings)\n",
    "\n",
    "make_pizza('pepperoni')\n",
    "make_pizza('mushrooms','green peppers','extra cheese')"
   ]
  },
  {
   "cell_type": "code",
   "execution_count": 9,
   "metadata": {},
   "outputs": [
    {
     "name": "stdout",
     "output_type": "stream",
     "text": [
      "- pepperoni\n",
      "\n",
      "\n",
      "- mushrooms\n",
      "- green peppers\n",
      "- extra cheese\n",
      "\n",
      "\n"
     ]
    }
   ],
   "source": [
    "def make_pizza(*toppings): \n",
    "    for topping in toppings: #在函数里还可以搞for函数\n",
    "        print(\"- \" + topping) \n",
    "    print(\"\\n\")\n",
    "\n",
    "make_pizza('pepperoni')\n",
    "make_pizza('mushrooms','green peppers','extra cheese')"
   ]
  },
  {
   "cell_type": "code",
   "execution_count": 10,
   "metadata": {},
   "outputs": [
    {
     "name": "stdout",
     "output_type": "stream",
     "text": [
      "\n",
      "Making a 6-inch pizza with the following toppings:\n",
      "- mushroom\n",
      "- pork\n",
      "- noddle\n",
      "\n",
      "Making a 12-inch pizza with the following toppings:\n",
      "- apple\n",
      "- meat\n"
     ]
    }
   ],
   "source": [
    "#既包括位置实参，又包括形参\n",
    "def make_pizza(size, *toppings):\n",
    "    print(\"\\nMaking a \" + str(size) +\n",
    "          \"-inch pizza with the following toppings:\")\n",
    "    for topping in toppings:\n",
    "        print(\"- \" + topping)\n",
    "\n",
    "make_pizza(6,'mushroom','pork','noddle')\n",
    "make_pizza(12,'apple','meat')"
   ]
  },
  {
   "cell_type": "code",
   "execution_count": 11,
   "metadata": {},
   "outputs": [
    {
     "name": "stdout",
     "output_type": "stream",
     "text": [
      "{'first_name': 'albert', 'last_name': 'winston', 'location': 'dalian', 'partner': 'wife', 'size': '18cm'}\n"
     ]
    }
   ],
   "source": [
    "#使用任意数量的关键字实参\n",
    "def build_profile(first, last, **user_info): \n",
    "    #注意这里，两颗星星代表后面可以有任意数量的关键字实参\n",
    "    profile = {}\n",
    "    profile['first_name'] = first #给字典添加元素的写法，我竟然有一些生疏了\n",
    "    profile['last_name'] = last\n",
    "    for key, value in user_info.items():\n",
    "        profile[key] = value\n",
    "    return profile\n",
    "\n",
    "user_profile = build_profile('albert', 'winston', location='dalian', partner='wife', size='18cm')\n",
    "print(user_profile)"
   ]
  },
  {
   "cell_type": "markdown",
   "metadata": {},
   "source": [
    "8.6 将函数存储在模块中"
   ]
  },
  {
   "cell_type": "markdown",
   "metadata": {},
   "source": [
    "这个地方开始用到了import操作，需要用pycharm来操作"
   ]
  },
  {
   "cell_type": "code",
   "execution_count": null,
   "metadata": {},
   "outputs": [],
   "source": [
    "import pizza #表示将pizza.py导入目前这个py文件中，可以在该文件中使用pizza.py的所有函数\n",
    "\n",
    "#要使用pizza.py中的函数，用以下语句进行调用\n",
    "pizza.make_pizza() #其中pizza指pizza.py，make_pizza()指pizza文件中的函数。"
   ]
  },
  {
   "cell_type": "markdown",
   "metadata": {},
   "source": [
    "导入特定的函数"
   ]
  },
  {
   "cell_type": "code",
   "execution_count": 1,
   "metadata": {},
   "outputs": [
    {
     "ename": "ModuleNotFoundError",
     "evalue": "No module named 'pizza'",
     "output_type": "error",
     "traceback": [
      "\u001b[1;31m---------------------------------------------------------------------------\u001b[0m",
      "\u001b[1;31mModuleNotFoundError\u001b[0m                       Traceback (most recent call last)",
      "\u001b[1;32m<ipython-input-1-6a8780694234>\u001b[0m in \u001b[0;36m<module>\u001b[1;34m\u001b[0m\n\u001b[1;32m----> 1\u001b[1;33m \u001b[1;32mfrom\u001b[0m \u001b[0mpizza\u001b[0m \u001b[1;32mimport\u001b[0m \u001b[0mmake_pizza\u001b[0m \u001b[1;31m#这种调用方式也是可以的\u001b[0m\u001b[1;33m\u001b[0m\u001b[1;33m\u001b[0m\u001b[0m\n\u001b[0m\u001b[0;32m      2\u001b[0m \u001b[1;32mfrom\u001b[0m \u001b[0mpizza\u001b[0m \u001b[1;32mimport\u001b[0m \u001b[0mmake_pizza\u001b[0m\u001b[1;33m,\u001b[0m \u001b[0mpizza_size\u001b[0m\u001b[1;33m,\u001b[0m \u001b[0mchange_pizza\u001b[0m \u001b[1;31m#可以导入任意数量的函数\u001b[0m\u001b[1;33m\u001b[0m\u001b[1;33m\u001b[0m\u001b[0m\n",
      "\u001b[1;31mModuleNotFoundError\u001b[0m: No module named 'pizza'"
     ]
    }
   ],
   "source": [
    "from pizza import make_pizza #这种调用方式也是可以的\n",
    "from pizza import make_pizza, pizza_size, change_pizza #可以导入任意数量的函数"
   ]
  },
  {
   "cell_type": "code",
   "execution_count": null,
   "metadata": {},
   "outputs": [],
   "source": [
    "使用as给函数指定别名\n",
    "from pizza import make_pizza as mp\n",
    "mp(16,'mushroom') #其实就是给make_pizza这个函数改了一个小名，这样调用的时候可以避免冲突，更方便一点。"
   ]
  },
  {
   "cell_type": "code",
   "execution_count": null,
   "metadata": {},
   "outputs": [],
   "source": [
    "使用as给模块指定别名\n",
    "import numpy as np 这个我终于知道是啥意思了，就是把numpy.py这个模块给导入到我现在的代码中来，并起一个\n",
    "简单的小名叫np，然后我就可以调用numpy里面的各种函数了，就这么简单。"
   ]
  },
  {
   "cell_type": "code",
   "execution_count": null,
   "metadata": {},
   "outputs": [],
   "source": [
    "from pizza import *\n",
    "导入模块中的所有函数，调用的时候直接make_pizza(16,'mushroom')就行了，不用pizza.\n",
    "#但是这种方法最好不采用，容易造成混乱。"
   ]
  },
  {
   "cell_type": "code",
   "execution_count": null,
   "metadata": {},
   "outputs": [],
   "source": [
    "已经在pycharm里面用各种方式练习了import的写法，很耗！"
   ]
  }
 ],
 "metadata": {
  "kernelspec": {
   "display_name": "Python 3",
   "language": "python",
   "name": "python3"
  },
  "language_info": {
   "codemirror_mode": {
    "name": "ipython",
    "version": 3
   },
   "file_extension": ".py",
   "mimetype": "text/x-python",
   "name": "python",
   "nbconvert_exporter": "python",
   "pygments_lexer": "ipython3",
   "version": "3.8.5"
  }
 },
 "nbformat": 4,
 "nbformat_minor": 4
}

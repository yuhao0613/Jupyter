{
 "cells": [
  {
   "cell_type": "markdown",
   "id": "d0e81558",
   "metadata": {},
   "source": [
    "# 13函数与模块"
   ]
  },
  {
   "cell_type": "markdown",
   "id": "7bb7addc",
   "metadata": {},
   "source": [
    "世界级的编程大师Martin Fowler先生曾经说过：**“代码有很多种坏味道，重复是最坏的一种！”。**要写出高质量的代码首先要解决的就是重复代码的问题。"
   ]
  },
  {
   "cell_type": "code",
   "execution_count": 12,
   "id": "0f764427",
   "metadata": {},
   "outputs": [
    {
     "name": "stdout",
     "output_type": "stream",
     "text": [
      "1\n",
      "3\n",
      "6\n",
      "160\n"
     ]
    }
   ],
   "source": [
    "def add(d,a=0,b=0,c=0): #函数的参数可以设置默认值\n",
    "    '''三个数相加求和'''\n",
    "    return a+b+c+d\n",
    "\n",
    "print(add(1))\n",
    "print(add(1,2))\n",
    "print(add(1,2,3))\n",
    "print(add(30,a=100,c=20,b=10)) #调用函数时，可以用默认的参数，也可以自定义参数\n",
    "\n",
    "\n",
    "#注意，带默认值的参数必须在不带默认值的参数【之后】"
   ]
  },
  {
   "cell_type": "markdown",
   "id": "90224873",
   "metadata": {},
   "source": [
    "### 可变参数"
   ]
  },
  {
   "cell_type": "code",
   "execution_count": 13,
   "id": "9516d36f",
   "metadata": {},
   "outputs": [
    {
     "name": "stdout",
     "output_type": "stream",
     "text": [
      "37\n",
      "0\n",
      "1123251\n"
     ]
    }
   ],
   "source": [
    "def add(*args):\n",
    "    total = 0\n",
    "    for val in args:\n",
    "        if type(val) in (int, float): #这种形式值得注意，如果要我写，应该会写成\n",
    "            # if type(val) == int or type(val) == float\n",
    "            total += val\n",
    "    return total\n",
    "\n",
    "def add2(*args): #这个是按照我自己思路写的，用来检验是否正确！事实证明没问题\n",
    "    total = 0\n",
    "    for val in args:\n",
    "        if type(val) == int or type(val) == float:\n",
    "            total += val\n",
    "    return total\n",
    "\n",
    "#对于该函数可以输入0-多个参数\n",
    "print(add2(1,2,32,1,1))\n",
    "print(add())\n",
    "print(add(1,2,2,1123123,123))"
   ]
  },
  {
   "cell_type": "markdown",
   "id": "0b594a7a",
   "metadata": {},
   "source": [
    "### 调用模块中的函数"
   ]
  },
  {
   "cell_type": "code",
   "execution_count": 14,
   "id": "439bbb25",
   "metadata": {},
   "outputs": [
    {
     "ename": "ModuleNotFoundError",
     "evalue": "No module named 'module1'",
     "output_type": "error",
     "traceback": [
      "\u001b[1;31m---------------------------------------------------------------------------\u001b[0m",
      "\u001b[1;31mModuleNotFoundError\u001b[0m                       Traceback (most recent call last)",
      "\u001b[1;32m~\\AppData\\Local\\Temp/ipykernel_18228/267264727.py\u001b[0m in \u001b[0;36m<module>\u001b[1;34m\u001b[0m\n\u001b[0;32m      1\u001b[0m \u001b[1;31m#方法1\u001b[0m\u001b[1;33m\u001b[0m\u001b[1;33m\u001b[0m\u001b[1;33m\u001b[0m\u001b[0m\n\u001b[1;32m----> 2\u001b[1;33m \u001b[1;32mimport\u001b[0m \u001b[0mmodule1\u001b[0m\u001b[1;33m\u001b[0m\u001b[1;33m\u001b[0m\u001b[0m\n\u001b[0m\u001b[0;32m      3\u001b[0m \u001b[1;33m\u001b[0m\u001b[0m\n\u001b[0;32m      4\u001b[0m \u001b[0mmodule1\u001b[0m\u001b[1;33m.\u001b[0m\u001b[0mfoo\u001b[0m\u001b[1;33m(\u001b[0m\u001b[1;33m)\u001b[0m\u001b[1;33m\u001b[0m\u001b[1;33m\u001b[0m\u001b[0m\n\u001b[0;32m      5\u001b[0m \u001b[1;33m\u001b[0m\u001b[0m\n",
      "\u001b[1;31mModuleNotFoundError\u001b[0m: No module named 'module1'"
     ]
    }
   ],
   "source": [
    "#方法1\n",
    "import module1 \n",
    "\n",
    "module1.foo()\n",
    "\n",
    "#方法2\n",
    "from module1 import foo\n",
    "\n",
    "foo() #这种方式有一个问题，如果其他module中有同名的函数，就会造成冲突\n",
    "\n",
    "#方法3\n",
    "import module1 as m1\n",
    "m1.foo()"
   ]
  },
  {
   "cell_type": "markdown",
   "id": "bac1f69c",
   "metadata": {},
   "source": [
    "python标准库中有一类函数是不需要import就能直接使用的，称为**内置函数**\n",
    "\n",
    "比如abs——求绝对值\n",
    "\n",
    "len——获取字符串、列表等的长度\n",
    "\n",
    "open——打开一个文件并返回文件对象\n",
    "\n",
    "type——返回对象的类型"
   ]
  },
  {
   "cell_type": "markdown",
   "id": "0251aa77",
   "metadata": {},
   "source": [
    "# 14 函数的应用"
   ]
  },
  {
   "cell_type": "markdown",
   "id": "5c7ff625",
   "metadata": {},
   "source": [
    "5个案例来巩固对函数的应用"
   ]
  },
  {
   "cell_type": "code",
   "execution_count": null,
   "id": "c039ce90",
   "metadata": {
    "scrolled": true
   },
   "outputs": [
    {
     "name": "stdout",
     "output_type": "stream",
     "text": [
      "Qm3V0i\n",
      "tsszsk\n",
      "EaGTYC\n",
      "DGiBhG\n",
      "qG55tS\n",
      "loFEzA\n",
      "81ReeO\n",
      "kmbWGK\n",
      "lPQxaT\n",
      "uLZ1SO\n"
     ]
    }
   ],
   "source": [
    "# 练习1\n",
    "# 设计一个生成验证码的函数。\n",
    "# 说明：验证码由数字和英文大小写字母构成，长度可以用参数指定。\n",
    "import random\n",
    "import string\n",
    "\n",
    "All_char = string.digits + string.ascii_letters\n",
    "#这一步非常精髓，我自己之前是想不到的！！！一定要掌握\n",
    "\n",
    "def generate(num=6):\n",
    "    return ''.join(random.choices(All_char, k=num))\n",
    "    # random.choices()就是一个方法，用于从里面选数的，有个印象就好，问题不大。\n",
    "    \n",
    "    #这个\n",
    "\n",
    "for _ in range(10):\n",
    "    print(generate())"
   ]
  },
  {
   "cell_type": "markdown",
   "id": "4e2e03c5",
   "metadata": {},
   "source": [
    "说明：random模块的sample和choices函数都可以实现随机抽样，sample实现**无放回抽样**，这意味着抽样取出的字符是不重复的；choices实现有放回抽样，这意味着可能会重复选中某些字符。这两个函数的第一个参数代表抽样的总体，而参数k代表抽样的数量。"
   ]
  },
  {
   "cell_type": "code",
   "execution_count": null,
   "id": "861a7725",
   "metadata": {},
   "outputs": [],
   "source": [
    "#练习2 设计一个函数返回给定文件的后缀名\n",
    "\n",
    "def get_suffix(filename, ignore_dot=True):\n",
    "    # rfind() 逆向查找函数，返回相应字符串的位置\n",
    "    pos = filename.rfind('.')\n",
    "    print(pos)\n",
    "    \n",
    "    if pos <= 0:\n",
    "        return ''\n",
    "    return filename[pos + 1:] if ignore_dot else filename[pos:]\n",
    "\n",
    "\n",
    "print(get_suffix('readme.txt'))       # txt\n",
    "print(get_suffix('readme.txt.md'))    # md\n",
    "print(get_suffix('.readme'))          #\n",
    "print(get_suffix('readme.'))          #\n",
    "print(get_suffix('readme'))           #    "
   ]
  },
  {
   "cell_type": "markdown",
   "id": "f8d6a2a0",
   "metadata": {},
   "source": [
    "定义函数时，加上 -> 可以进行函数返回值的注释，有个印象即可。\n",
    "定义函数时，可以对参数进行变量类型定义，防止后面搞错，还是非常方便的。"
   ]
  },
  {
   "cell_type": "code",
   "execution_count": null,
   "id": "048c098b",
   "metadata": {},
   "outputs": [
    {
     "name": "stdout",
     "output_type": "stream",
     "text": [
      "True\n"
     ]
    }
   ],
   "source": [
    "# 练习3 写一个判断给定的正整数是不是质数的函数\n",
    "def judge_num(num: int) -> bool:\n",
    "    # -> bool 是一种函数返回值的注释\n",
    "    # 对函数内的变量也可以定义其数值类型\n",
    "    \n",
    "    '''判断一个正整数是不是质数\n",
    "    \n",
    "    :param num: 正整数\n",
    "    :return: 质数返回true，否则返回false\n",
    "    '''\n",
    "    for i in range(2,num):\n",
    "        if num % i == 0:\n",
    "            return False\n",
    "        \n",
    "    return num != 1\n",
    "\n",
    "print(judge_num(5))"
   ]
  },
  {
   "cell_type": "code",
   "execution_count": null,
   "id": "ba629433",
   "metadata": {},
   "outputs": [
    {
     "data": {
      "text/plain": [
       "(1, 12)"
      ]
     },
     "execution_count": 21,
     "metadata": {},
     "output_type": "execute_result"
    }
   ],
   "source": [
    "# 练习4 用函数计算最大公约数和最小公倍数\n",
    "\n",
    "def jisuan(num1: int, num2: int)-> int:\n",
    "    a,b = num1, num2\n",
    "    while b % a != 0:\n",
    "        a, b = b % a, a #这一步讲道理是算法上的事情，确实自己很难想出来，但是代码能看懂\n",
    "    return a, num1 * num2//a\n",
    "\n",
    "jisuan(3,4)"
   ]
  },
  {
   "cell_type": "markdown",
   "id": "ab58efc1",
   "metadata": {},
   "source": [
    "举例3，4两个数字\n",
    "\n",
    "4 % 3 = 1 != 0\n",
    "\n",
    "a = 1, b = 3\n",
    "\n",
    "3 % 1 = 0\n",
    "\n",
    "a = 1是最大公因数\n",
    "\n",
    "\n",
    "我们最重要的事情就是把python的各种语法都熟悉起来，至于一些算法的具体原理，我们可以不用太纠结"
   ]
  },
  {
   "cell_type": "markdown",
   "id": "ea219f06",
   "metadata": {},
   "source": [
    "# 15 函数使用进阶"
   ]
  },
  {
   "cell_type": "markdown",
   "id": "3556c003",
   "metadata": {},
   "source": [
    "正常情况下，函数的参数都是**位置参数**，也就是在不特别声明的情况下，只要按照一定次序输入参数，就可以正常运行。当然如果指定了参数名，就可以调整位置。"
   ]
  },
  {
   "cell_type": "code",
   "execution_count": null,
   "id": "e26a32c3",
   "metadata": {},
   "outputs": [
    {
     "name": "stdout",
     "output_type": "stream",
     "text": [
      "6\n",
      "6\n"
     ]
    }
   ],
   "source": [
    "def add_num(a, b, c):\n",
    "    print(a+b+c)\n",
    "\n",
    "add_num(1,2,3)\n",
    "add_num(c=1, b=3, a=2)"
   ]
  },
  {
   "cell_type": "markdown",
   "id": "1284f471",
   "metadata": {},
   "source": [
    "如果我们强制要求调用者必须以**关键字参数**，而非位置参数，按照如下操作即可。"
   ]
  },
  {
   "cell_type": "code",
   "execution_count": null,
   "id": "f2090cc8",
   "metadata": {
    "scrolled": false
   },
   "outputs": [
    {
     "name": "stdout",
     "output_type": "stream",
     "text": [
      "6\n"
     ]
    },
    {
     "ename": "TypeError",
     "evalue": "add_num() takes 0 positional arguments but 3 were given",
     "output_type": "error",
     "traceback": [
      "\u001b[1;31m---------------------------------------------------------------------------\u001b[0m",
      "\u001b[1;31mTypeError\u001b[0m                                 Traceback (most recent call last)",
      "\u001b[1;32m~\\AppData\\Local\\Temp/ipykernel_8536/2157004082.py\u001b[0m in \u001b[0;36m<module>\u001b[1;34m\u001b[0m\n\u001b[0;32m      4\u001b[0m \u001b[1;33m\u001b[0m\u001b[0m\n\u001b[0;32m      5\u001b[0m \u001b[0madd_num\u001b[0m\u001b[1;33m(\u001b[0m\u001b[0mc\u001b[0m\u001b[1;33m=\u001b[0m\u001b[1;36m1\u001b[0m\u001b[1;33m,\u001b[0m \u001b[0mb\u001b[0m\u001b[1;33m=\u001b[0m\u001b[1;36m3\u001b[0m\u001b[1;33m,\u001b[0m \u001b[0ma\u001b[0m\u001b[1;33m=\u001b[0m\u001b[1;36m2\u001b[0m\u001b[1;33m)\u001b[0m\u001b[1;33m\u001b[0m\u001b[1;33m\u001b[0m\u001b[0m\n\u001b[1;32m----> 6\u001b[1;33m \u001b[0madd_num\u001b[0m\u001b[1;33m(\u001b[0m\u001b[1;36m1\u001b[0m\u001b[1;33m,\u001b[0m\u001b[1;36m2\u001b[0m\u001b[1;33m,\u001b[0m\u001b[1;36m3\u001b[0m\u001b[1;33m)\u001b[0m\u001b[1;33m\u001b[0m\u001b[1;33m\u001b[0m\u001b[0m\n\u001b[0m",
      "\u001b[1;31mTypeError\u001b[0m: add_num() takes 0 positional arguments but 3 were given"
     ]
    }
   ],
   "source": [
    "def add_num(*, a, b, c): # *后面的参数都是必须要指明关键字的，如果按照位置传会报错\n",
    "    print(a+b+c)\n",
    "\n",
    "\n",
    "add_num(c=1, b=3, a=2) #只要说明关键字即可，相对位置不重要\n",
    "add_num(1,2,3) # 这种方式就会报错"
   ]
  },
  {
   "cell_type": "code",
   "execution_count": null,
   "id": "e61151e5",
   "metadata": {
    "scrolled": true
   },
   "outputs": [
    {
     "ename": "TypeError",
     "evalue": "add_num() got an unexpected keyword argument 'a'",
     "output_type": "error",
     "traceback": [
      "\u001b[1;31m---------------------------------------------------------------------------\u001b[0m",
      "\u001b[1;31mTypeError\u001b[0m                                 Traceback (most recent call last)",
      "\u001b[1;32m~\\AppData\\Local\\Temp/ipykernel_8536/3962836614.py\u001b[0m in \u001b[0;36m<module>\u001b[1;34m\u001b[0m\n\u001b[0;32m      5\u001b[0m     \u001b[1;32mreturn\u001b[0m \u001b[0mresult\u001b[0m\u001b[1;33m\u001b[0m\u001b[1;33m\u001b[0m\u001b[0m\n\u001b[0;32m      6\u001b[0m \u001b[1;33m\u001b[0m\u001b[0m\n\u001b[1;32m----> 7\u001b[1;33m \u001b[0mprint\u001b[0m\u001b[1;33m(\u001b[0m\u001b[0madd_num\u001b[0m\u001b[1;33m(\u001b[0m\u001b[0ma\u001b[0m\u001b[1;33m=\u001b[0m\u001b[1;36m1\u001b[0m\u001b[1;33m,\u001b[0m\u001b[0mb\u001b[0m\u001b[1;33m=\u001b[0m\u001b[1;36m2\u001b[0m\u001b[1;33m,\u001b[0m\u001b[0mc\u001b[0m\u001b[1;33m=\u001b[0m\u001b[1;36m3\u001b[0m\u001b[1;33m)\u001b[0m\u001b[1;33m)\u001b[0m\u001b[1;33m\u001b[0m\u001b[1;33m\u001b[0m\u001b[0m\n\u001b[0m\u001b[0;32m      8\u001b[0m \u001b[1;33m\u001b[0m\u001b[0m\n\u001b[0;32m      9\u001b[0m \u001b[1;31m#这种可变参数的形式中，不能接受带关键字的参数\u001b[0m\u001b[1;33m\u001b[0m\u001b[1;33m\u001b[0m\u001b[1;33m\u001b[0m\u001b[0m\n",
      "\u001b[1;31mTypeError\u001b[0m: add_num() got an unexpected keyword argument 'a'"
     ]
    }
   ],
   "source": [
    "def add_num(*args):\n",
    "    result = 0\n",
    "    for arg in args:\n",
    "        result += arg\n",
    "    return result\n",
    "\n",
    "print(add_num(a=1,b=2,c=3))\n",
    "\n",
    "#这种可变参数的形式中，不能接受带关键字的参数"
   ]
  },
  {
   "cell_type": "markdown",
   "id": "0758a3ba",
   "metadata": {},
   "source": [
    "**args2 就可以将传入的带参数名的参数组装为一个字典\n",
    "\n",
    "参数名就是字典键值对中的键"
   ]
  },
  {
   "cell_type": "code",
   "execution_count": null,
   "id": "c920a97e",
   "metadata": {},
   "outputs": [
    {
     "name": "stdout",
     "output_type": "stream",
     "text": [
      "20\n"
     ]
    }
   ],
   "source": [
    "def add_num(*args, **kwargs): #其中**kwargs是关键字参数\n",
    "    result = 0\n",
    "    for arg in args:\n",
    "        result += arg\n",
    "        \n",
    "    for value in kwargs.values(): #这个地方是字典中的语法，需要回顾\n",
    "        if type(value) in (int, float):\n",
    "            result += value\n",
    "    return result\n",
    "\n",
    "print(add_num(1,2,3,2,1,2,3,a=1,b=2,c=3)) #这样就非常骚了\n"
   ]
  },
  {
   "cell_type": "markdown",
   "id": "a9b75e5f",
   "metadata": {},
   "source": [
    "高阶函数\n",
    "\n",
    "**函数的参数or返回值**也为 函数\n",
    "\n",
    "下面的这些探讨还挺重要的"
   ]
  },
  {
   "cell_type": "code",
   "execution_count": null,
   "id": "327ee32e",
   "metadata": {},
   "outputs": [
    {
     "name": "stdout",
     "output_type": "stream",
     "text": [
      "16\n",
      "144\n",
      "44\n"
     ]
    }
   ],
   "source": [
    "def calc(*args, init_value, op, **kwargs): #其中，op是一个函数，即函数的参数也为函数\n",
    "    result = init_value\n",
    "    for arg in args:\n",
    "        if type(arg) in (int, float):\n",
    "            result = op(result, arg)\n",
    "    for value in kwargs.values():\n",
    "        if type(value) in (int, float):\n",
    "            result = op(result, value)\n",
    "    return result\n",
    "\n",
    "def add(x, y):\n",
    "    return x + y\n",
    "\n",
    "def mul(x, y):\n",
    "    return x * y\n",
    "\n",
    "# 注意，这个op可以泛指所有的二元运算函数，也就是说，可以把上面自定义的add和mul都定义为op\n",
    "# 这上面的理解要注意一下\n",
    "\n",
    "print(calc(1,2,3,2,1,init_value=0,op=add,x=3,y=4))\n",
    "print(calc(1,2,3,2,1,x=3,y=4,init_value=1,op=mul,))\n",
    "# 注意参数的摆放位置，带关键字的混放也没有问题\n",
    "\n",
    "import operator\n",
    "print(calc(1,2,1,4,x=1,z=34,init_value=1,op=operator.add))\n",
    "# op函数也可以定义为标准库模块中的函数"
   ]
  },
  {
   "cell_type": "markdown",
   "id": "85767841",
   "metadata": {},
   "source": [
    "上述的高阶函数体现了一种**解耦合**的思想，即该函数不仅与加法耦合"
   ]
  },
  {
   "cell_type": "markdown",
   "id": "81b19e9a",
   "metadata": {},
   "source": [
    "Lambda函数"
   ]
  },
  {
   "cell_type": "markdown",
   "id": "341fda19",
   "metadata": {},
   "source": [
    "在使用高阶函数时，如果**作为参数**或返回值**的函数**本身非常简单，一行代码就能够完成，那就可以使用Lambda函数来表示，Lambda函数没有名字，也叫做**匿名函数**"
   ]
  },
  {
   "cell_type": "code",
   "execution_count": null,
   "id": "12315c53",
   "metadata": {},
   "outputs": [
    {
     "name": "stdout",
     "output_type": "stream",
     "text": [
      "[144, 64, 3600, 2704]\n",
      "[144, 64, 3600, 2704]\n"
     ]
    }
   ],
   "source": [
    "#原始函数\n",
    "def is_even(num): #判断偶数\n",
    "    return num % 2 == 0\n",
    "\n",
    "\n",
    "def square(num): #平方\n",
    "    return num ** 2\n",
    "\n",
    "\n",
    "numbers1 = [35, 12, 8, 99, 60, 52]\n",
    "numbers2 = list(map(square, filter(is_even, numbers1)))\n",
    "print(numbers2)    # [144, 64, 3600, 2704]\n",
    "\n",
    "\n",
    "#lambda函数简化\n",
    "numbers1 = [35, 12, 8, 99, 60, 52]\n",
    "numbers2 = list(map(lambda x:x**2, filter(lambda x: x % 2 == 0, numbers1)))\n",
    "# 其实lambda函数就是将一些比较简单的函数直接写在了一行内，无他\n",
    "print(numbers2)"
   ]
  },
  {
   "cell_type": "code",
   "execution_count": null,
   "id": "ccf2c3c9",
   "metadata": {},
   "outputs": [
    {
     "name": "stdout",
     "output_type": "stream",
     "text": [
      "16\n",
      "144\n"
     ]
    }
   ],
   "source": [
    "# 同理，简单运算也可以用lambda函数，比如上面那个例子，op参数就可以直接lambda定义\n",
    "def calc(*args, init_value, op=lambda x,y: x+y, **kwargs): #其中，op是一个函数，即函数的参数也为函数\n",
    "    result = init_value\n",
    "    for arg in args:\n",
    "        if type(arg) in (int, float):\n",
    "            result = op(result, arg)\n",
    "    for value in kwargs.values():\n",
    "        if type(value) in (int, float):\n",
    "            result = op(result, value)\n",
    "    return result\n",
    "\n",
    "print(calc(1,2,3,2,1,init_value=0,x=3,y=4)) #不声明lambda就会使用默认值\n",
    "print(calc(1,2,3,2,1,init_value=1,x=3,y=4,op=lambda x,y:x*y)) #也可以另行声明lambda"
   ]
  },
  {
   "cell_type": "markdown",
   "id": "12e20c6f",
   "metadata": {},
   "source": [
    "# 16 函数的高级应用"
   ]
  },
  {
   "cell_type": "markdown",
   "id": "abc7a436",
   "metadata": {},
   "source": [
    "装饰器\n",
    "\n",
    "装饰器是python中**用一个函数**装饰**另外一个函数或类**，并为其**提供额外功能**。\n",
    "\n",
    "类似一个补丁，用其他函数对现有函数进行补丁。"
   ]
  },
  {
   "cell_type": "code",
   "execution_count": null,
   "id": "34bad1eb",
   "metadata": {
    "scrolled": true
   },
   "outputs": [
    {
     "name": "stdout",
     "output_type": "stream",
     "text": [
      "开始下载对马岛之魂.exe.\n",
      "对马岛之魂.exe下载完成.\n",
      "开始上传赛博朋克2077.mp4.\n",
      "赛博朋克2077.mp4上传完成.\n"
     ]
    }
   ],
   "source": [
    "import random\n",
    "import time\n",
    "\n",
    "def download(filename):\n",
    "    print(f'开始下载{filename}.')\n",
    "    time.sleep(random.randint(1,3)) # 用自定义时间sleep模拟下载过程\n",
    "    print(f'{filename}下载完成.')\n",
    "    \n",
    "def upload(filename):\n",
    "    print(f'开始上传{filename}.')\n",
    "    time.sleep(random.randint(0, 2))\n",
    "    print(f'{filename}上传完成.')\n",
    "    \n",
    "download('对马岛之魂.exe')\n",
    "upload('赛博朋克2077.mp4')"
   ]
  },
  {
   "cell_type": "code",
   "execution_count": null,
   "id": "1d5625bf",
   "metadata": {
    "scrolled": true
   },
   "outputs": [
    {
     "name": "stdout",
     "output_type": "stream",
     "text": [
      "开始下载MySQL从删库到跑路.avi.\n",
      "MySQL从删库到跑路.avi下载完成.\n",
      "花费时间: 2.004秒\n",
      "开始上传Python从入门到住院.pdf.\n",
      "Python从入门到住院.pdf上传完成.\n",
      "花费时间: 0.001秒\n"
     ]
    }
   ],
   "source": [
    "start = time.time()\n",
    "download('MySQL从删库到跑路.avi')\n",
    "end = time.time()\n",
    "print(f'花费时间: {end - start:.3f}秒')\n",
    "start = time.time()\n",
    "upload('Python从入门到住院.pdf')\n",
    "end = time.time()\n",
    "print(f'花费时间: {end - start:.3f}秒')"
   ]
  },
  {
   "cell_type": "markdown",
   "id": "822f95d8",
   "metadata": {},
   "source": [
    "上面这段代码的作用是计算download和upload所需要花费的时间，但是这里有**大量重复代码**，是编程的一大忌讳，因此引入**装饰器**\n",
    "\n",
    "下面这段有关装饰器的代码值得细细品味！"
   ]
  },
  {
   "cell_type": "code",
   "execution_count": null,
   "id": "6601305e",
   "metadata": {},
   "outputs": [
    {
     "name": "stdout",
     "output_type": "stream",
     "text": [
      "开始下载MySQL从删库到跑路.avi.\n",
      "MySQL从删库到跑路.avi下载完成.\n",
      "download执行时间:2.001秒\n",
      "开始上传Python从入门到住院.pdf.\n",
      "Python从入门到住院.pdf上传完成.\n",
      "upload执行时间:0.001秒\n"
     ]
    }
   ],
   "source": [
    "import time\n",
    "\n",
    "# 定义装饰器函数，参数是【被装饰的函数或类】\n",
    "def record_time(func):\n",
    "    \n",
    "    # 定义一个带装饰功能（记录被装饰函数的执行时间）的函数\n",
    "    # 因为不知道被装饰的函数有怎样的参数所以使用*args和**kwargs接收所有参数\n",
    "    # 嵌套函数，在函数中再定义函数\n",
    "    def wrapper(*args, **kwargs):\n",
    "        # 在执行被装饰的函数之前记录时间\n",
    "        start = time.time()\n",
    "        # 执行被装饰的函数并获取返回值\n",
    "        result = func(*args, **kwargs)\n",
    "        \n",
    "        end = time.time()\n",
    "        print(f'{func.__name__}执行时间:{end - start:.3f}秒')\n",
    "        # 这个地方的func.__name__值得去品味\n",
    "        return result\n",
    "    \n",
    "    # 返回带装饰功能的wrapper函数\n",
    "    return wrapper\n",
    "\n",
    "\n",
    "#这种调用方式相当于把download和upload两个函数用新的函数形式覆盖了\n",
    "download = record_time(download)\n",
    "upload = record_time(upload)\n",
    "download('MySQL从删库到跑路.avi')\n",
    "upload('Python从入门到住院.pdf')"
   ]
  },
  {
   "cell_type": "markdown",
   "id": "fc94ffd5",
   "metadata": {},
   "source": [
    "一些思考\n",
    "\n",
    "这个嵌套函数是因为，第一层函数的参数只是func，这样简单一些，第二层函数的参数才是那些具体的内容，这样比较合理，调用函数比较简单。\n",
    "\n",
    "另外，我总感觉这种装饰器函数的写法很累，不知道为啥"
   ]
  },
  {
   "cell_type": "markdown",
   "id": "3fb067c4",
   "metadata": {},
   "source": [
    "使用装饰器有更为简便的**语法糖**，代码可读性更强\n",
    "\n",
    "用@将装饰器函数直接放到被装饰的函数上，效果相同"
   ]
  },
  {
   "cell_type": "code",
   "execution_count": null,
   "id": "853811cd",
   "metadata": {},
   "outputs": [
    {
     "name": "stdout",
     "output_type": "stream",
     "text": [
      "开始下载MySQL从删库到跑路.avi.\n",
      "MySQL从删库到跑路.avi下载完成.\n",
      "download执行时间: 2.001秒\n",
      "开始上传Python从入门到住院.pdf.\n",
      "Python从入门到住院.pdf上传完成.\n",
      "upload执行时间: 2.002秒\n"
     ]
    }
   ],
   "source": [
    "import random\n",
    "import time\n",
    "\n",
    "def record_time(func):\n",
    "    \n",
    "    def wrapper(*args, **kwargs):\n",
    "        start = time.time()\n",
    "        result = func(*args, **kwargs)\n",
    "        end = time.time()\n",
    "        print(f'{func.__name__}执行时间: {end - start:.3f}秒')\n",
    "        return result\n",
    "    \n",
    "    return wrapper\n",
    "\n",
    "@record_time\n",
    "def download(filename):\n",
    "    print(f'开始下载{filename}.')\n",
    "    time.sleep(random.randint(1, 2))\n",
    "    print(f'{filename}下载完成.')\n",
    "    \n",
    "@record_time\n",
    "def upload(filename):\n",
    "    print(f'开始上传{filename}.')\n",
    "    time.sleep(random.randint(1, 2))\n",
    "    print(f'{filename}上传完成.')\n",
    "    \n",
    "\n",
    "# 调用函数\n",
    "download('MySQL从删库到跑路.avi')\n",
    "upload('Python从入门到住院.pdf')"
   ]
  },
  {
   "cell_type": "markdown",
   "id": "cfa926d2",
   "metadata": {},
   "source": [
    "如果希望取消装饰器的作用，那么在定义装饰器函数的时候，需要做一些额外的工作。Python标准库functools模块的wraps函数也是一个装饰器，我们将它放在wrapper函数上，这个装饰器可以帮我们保留被装饰之前的函数，这样在需要取消装饰器时，可以通过被装饰函数的__wrapped__属性获得被装饰之前的函数。\n",
    "\n",
    "这一部分有个印象就好了"
   ]
  },
  {
   "cell_type": "code",
   "execution_count": null,
   "id": "dba420cb",
   "metadata": {},
   "outputs": [
    {
     "name": "stdout",
     "output_type": "stream",
     "text": [
      "开始下载MySQL从删库到跑路.avi.\n",
      "MySQL从删库到跑路.avi下载完成.\n",
      "download执行时间: 3.009秒\n",
      "开始上传Python从入门到住院.pdf.\n",
      "Python从入门到住院.pdf上传完成.\n",
      "upload执行时间: 4.001秒\n",
      "开始下载MySQL必知必会.pdf.\n",
      "MySQL必知必会.pdf下载完成.\n",
      "开始上传Python从新手到大师.pdf.\n",
      "Python从新手到大师.pdf上传完成.\n"
     ]
    }
   ],
   "source": [
    "import random\n",
    "import time\n",
    "\n",
    "from functools import wraps\n",
    "\n",
    "\n",
    "def record_time(func):\n",
    "\n",
    "    @wraps(func)\n",
    "    def wrapper(*args, **kwargs):\n",
    "        start = time.time()\n",
    "        result = func(*args, **kwargs)\n",
    "        end = time.time()\n",
    "        print(f'{func.__name__}执行时间: {end - start:.3f}秒')\n",
    "        return result\n",
    "\n",
    "    return wrapper\n",
    "\n",
    "\n",
    "@record_time\n",
    "def download(filename):\n",
    "    print(f'开始下载{filename}.')\n",
    "    time.sleep(random.randint(2, 6))\n",
    "    print(f'{filename}下载完成.')\n",
    "\n",
    "\n",
    "@record_time\n",
    "def upload(filename):\n",
    "    print(f'开始上传{filename}.')\n",
    "    time.sleep(random.randint(4, 8))\n",
    "    print(f'{filename}上传完成.')\n",
    "\n",
    "\n",
    "download('MySQL从删库到跑路.avi')\n",
    "upload('Python从入门到住院.pdf')\n",
    "# 取消装饰器\n",
    "download.__wrapped__('MySQL必知必会.pdf')\n",
    "upload = upload.__wrapped__\n",
    "upload('Python从新手到大师.pdf')"
   ]
  },
  {
   "cell_type": "markdown",
   "id": "a94c0049",
   "metadata": {},
   "source": [
    "递归调用\n",
    "\n",
    "在函数中调用函数"
   ]
  },
  {
   "cell_type": "code",
   "execution_count": null,
   "id": "1ae1c052",
   "metadata": {},
   "outputs": [
    {
     "data": {
      "text/plain": [
       "24"
      ]
     },
     "execution_count": 2,
     "metadata": {},
     "output_type": "execute_result"
    }
   ],
   "source": [
    "def fac(num):\n",
    "    if num in (0, 1):\n",
    "        return 1\n",
    "    return num * fac(num - 1)\n",
    "\n",
    "fac(4)"
   ]
  },
  {
   "cell_type": "markdown",
   "id": "258a2c91",
   "metadata": {},
   "source": [
    "递归调用需要保证能够**快速收敛**，否则将发生**栈溢出**\n",
    "\n",
    "需要注意的是，有些代码用递归会看起来简单明了，但执行性能会比较糟糕\n",
    "\n",
    "总体而言，我认为递归调用不重要，且要谨慎。"
   ]
  },
  {
   "cell_type": "markdown",
   "id": "2f18e3a1",
   "metadata": {},
   "source": [
    "# 17 面向对象编程入门"
   ]
  },
  {
   "cell_type": "markdown",
   "id": "798364b0",
   "metadata": {},
   "source": [
    "面向对象编程是一种**编程范式**（programming paradigm），所谓编程范式就是程序设计的方法论，简单的说就是程序员对程序的认知和理解以及他们编写代码的方式。\n",
    "\n",
    "在面向对象编程的世界里，程序中的**数据**和**操作数据的函数**是一个逻辑上的整体，我们称之为**对象**，对象可以接收消息，解决问题的方法就是创建对象并向对象发出各种各样的消息；通过消息传递，程序中的多个对象可以协同工作，这样就能构造出复杂的系统并解决现实中的问题。"
   ]
  },
  {
   "cell_type": "markdown",
   "id": "ab5e681b",
   "metadata": {},
   "source": [
    "面向对象编程：把**一组数据**和**处理数据的方法**组成**对象**，把**行为相同的对象**归纳为**类**，通过封装**隐藏**对象的内部细节，通过继承实现类的特化和泛化，通过多态实现基于对象类型的动态分派。"
   ]
  },
  {
   "cell_type": "markdown",
   "id": "5f15f8a6",
   "metadata": {},
   "source": [
    "对象（object）、类（class）、封装（encapsulation）、继承（inheritance）、多态（polymorphism）"
   ]
  },
  {
   "cell_type": "markdown",
   "id": "634a067e",
   "metadata": {},
   "source": [
    "我们先说说**类和对象**这两个词。在面向对象编程中，类是一个**抽象**的概念，对象是一个**具体**的概念。我们把同一类对象的共同特征抽取出来就是一个类，比如我们经常说的人类，这是一个抽象概念，而我们每个人就是人类的这个抽象概念下的实实在在的存在，也就是一个对象。简而言之，类是对象的蓝图和模板，对象是类的实例，是可以接受消息的实体。"
   ]
  },
  {
   "cell_type": "markdown",
   "id": "013dc963",
   "metadata": {},
   "source": [
    "在面向对象编程的世界中，一切皆为对象，对象都有属性和行为，每个对象都是独一无二的，而且对象一定属于某个类。"
   ]
  },
  {
   "cell_type": "markdown",
   "id": "dd5ec3ae",
   "metadata": {},
   "source": [
    "写在类里面的函数我们通常称之为**方法**，方法就是对象的行为，也就是对象可以接收的消息。"
   ]
  },
  {
   "cell_type": "markdown",
   "id": "6076680a",
   "metadata": {},
   "source": [
    "### 定义类"
   ]
  },
  {
   "cell_type": "code",
   "execution_count": null,
   "id": "177c9a38",
   "metadata": {},
   "outputs": [],
   "source": [
    "class Student:\n",
    "    \n",
    "    def study(self,course_name):\n",
    "        print(f'学生正在学习{course_name}')\n",
    "        \n",
    "    def play(self):\n",
    "        print('学生正在玩')"
   ]
  },
  {
   "cell_type": "markdown",
   "id": "6af02702",
   "metadata": {},
   "source": [
    "### 创建和使用对象\n",
    "\n",
    "在类的名字后面跟上圆括号就是所谓的**构造器语法**"
   ]
  },
  {
   "cell_type": "code",
   "execution_count": null,
   "id": "bc2811ba",
   "metadata": {},
   "outputs": [
    {
     "name": "stdout",
     "output_type": "stream",
     "text": [
      "<__main__.Student object at 0x7fdbc7f8d520>\n"
     ]
    }
   ],
   "source": [
    "stu1 = Student()\n",
    "stu2 = Student()\n",
    "print(stu2)\n",
    "\n",
    "#注意，定义变量的操作实际上是生成了一个对象在内存中的地址\n",
    "\n",
    "#所以，stu3 = stu2 这样的操作没有创建新对象，只是用一个新变量保存了已有对象的地址"
   ]
  },
  {
   "cell_type": "markdown",
   "id": "d02cba0e",
   "metadata": {},
   "source": [
    "### 调用对象的方法"
   ]
  },
  {
   "cell_type": "code",
   "execution_count": null,
   "id": "85975ffd",
   "metadata": {},
   "outputs": [
    {
     "name": "stdout",
     "output_type": "stream",
     "text": [
      "学生正在学习python设计\n",
      "学生正在学习python设计\n",
      "学生正在玩\n",
      "学生正在玩\n"
     ]
    }
   ],
   "source": [
    "Student.study(stu1,'python设计')\n",
    "#这种方式不是特别常用\n",
    "\n",
    "stu1.study('python设计')\n",
    "#这是比较常用的对象方法的调用\n",
    "\n",
    "Student.play(stu2)\n",
    "stu2.play()"
   ]
  },
  {
   "cell_type": "markdown",
   "id": "4a6f383b",
   "metadata": {},
   "source": [
    "### 初始化方法"
   ]
  },
  {
   "cell_type": "markdown",
   "id": "79548117",
   "metadata": {},
   "source": [
    "创建对象时，自动运行__init__函数，相当于一个初始化方法。一般用于定义类的属性。"
   ]
  },
  {
   "cell_type": "code",
   "execution_count": null,
   "id": "d4459e3f",
   "metadata": {},
   "outputs": [],
   "source": [
    "class Student:\n",
    "    \n",
    "    def __init__(self, name, age):\n",
    "        self.name = name\n",
    "        self.age = age\n",
    "        \n",
    "    def study(self, course_name):\n",
    "        print(f'{self.name}正在学习{course_name}')\n",
    "        \n",
    "    def play(self):\n",
    "        print(f'{self.name}正在玩')  "
   ]
  },
  {
   "cell_type": "code",
   "execution_count": null,
   "id": "26e2638f",
   "metadata": {},
   "outputs": [
    {
     "name": "stdout",
     "output_type": "stream",
     "text": [
      "罗浩原正在学习《怎么说原理及基本应用》\n",
      "罗尬博正在玩\n"
     ]
    }
   ],
   "source": [
    "stu3 = Student('罗浩原',28)\n",
    "stu4 = Student('罗尬博',59)\n",
    "\n",
    "stu3.study('《怎么说原理及基本应用》')\n",
    "stu4.play()"
   ]
  },
  {
   "cell_type": "markdown",
   "id": "8927466d",
   "metadata": {},
   "source": [
    "以__（dunder）开头和结尾的方法一般称为**魔术方法**"
   ]
  },
  {
   "cell_type": "markdown",
   "id": "7d0bcf57",
   "metadata": {},
   "source": [
    "如果我们在print对象时不希望看到对象的地址，而是看到我们的**自定义信息**，可以放置__repr__方法。"
   ]
  },
  {
   "cell_type": "code",
   "execution_count": null,
   "id": "d3a504d5",
   "metadata": {},
   "outputs": [
    {
     "name": "stdout",
     "output_type": "stream",
     "text": [
      "看啥？罗尬博:30\n"
     ]
    }
   ],
   "source": [
    "class Student:\n",
    "    \"\"\"学生\"\"\"\n",
    "\n",
    "    def __init__(self, name, age):\n",
    "        \"\"\"初始化方法\"\"\"\n",
    "        self.name = name\n",
    "        self.age = age\n",
    "\n",
    "    def study(self, course_name):\n",
    "        \"\"\"学习\"\"\"\n",
    "        print(f'{self.name}正在学习{course_name}.')\n",
    "\n",
    "    def play(self):\n",
    "        \"\"\"玩耍\"\"\"\n",
    "        print(f'{self.name}正在玩游戏.')\n",
    "    \n",
    "    def __repr__(self):\n",
    "        return f'看啥？{self.name}:{self.age}'\n",
    "\n",
    "\n",
    "stu1 = Student('罗尬博', 30)\n",
    "print(stu1)"
   ]
  },
  {
   "cell_type": "markdown",
   "id": "3bf9b7f0",
   "metadata": {},
   "source": [
    "面向对象编程的三大支柱：封装、继承和多态\n",
    "\n",
    "封装的理解：隐藏一切可以隐藏的实现细节，只向外界暴露简单的调用接口。"
   ]
  },
  {
   "cell_type": "markdown",
   "id": "69c84c19",
   "metadata": {},
   "source": [
    "举一个例子，假如要控制一个机器人帮我倒杯水，如果不使用面向对象编程，不做任何的封装，那么就需要向这个机器人发出一系列的指令，如站起来、向左转、向前走5步、拿起面前的水杯、向后转、向前走10步、弯腰、放下水杯、按下出水按钮、等待10秒、松开出水按钮、拿起水杯、向右转、向前走5步、放下水杯等，才能完成这个简单的操作，想想都觉得麻烦。按照面向对象编程的思想，我们可以将倒水的操作封装到机器人的一个方法中，当需要机器人帮我们倒水的时候，只需要向机器人对象发出倒水的消息就可以了，这样做不是更好吗？"
   ]
  },
  {
   "cell_type": "markdown",
   "id": "74bd006b",
   "metadata": {},
   "source": [
    "前面提到过，Python内置的list、set、dict其实都不是函数而是类。所以他们在创建的时候可以在后面加括号。"
   ]
  },
  {
   "cell_type": "code",
   "execution_count": null,
   "id": "af91e40e",
   "metadata": {},
   "outputs": [
    {
     "name": "stdout",
     "output_type": "stream",
     "text": [
      "23:59:32\n",
      "23:59:33\n",
      "23:59:34\n",
      "23:59:35\n",
      "23:59:36\n",
      "23:59:37\n",
      "23:59:38\n",
      "23:59:39\n",
      "23:59:40\n",
      "23:59:41\n"
     ]
    }
   ],
   "source": [
    "#案例1:定义一个类描述数字时钟\n",
    "\n",
    "import time\n",
    "\n",
    "class Clock():\n",
    "    \n",
    "    def __init__(self, hour=0, minute=0, second=0):\n",
    "        self.hour = hour\n",
    "        self.minute = minute\n",
    "        self.sec = second\n",
    "        \n",
    "    def run(self):\n",
    "        self.sec += 1\n",
    "        if self.sec == 60:\n",
    "            self.sec = 0\n",
    "            self.min += 1\n",
    "            if self.min == 60:\n",
    "                self.min = 0\n",
    "                self.hour += 1\n",
    "                if self.hour == 24:\n",
    "                    self.hour = 0\n",
    "    \n",
    "    def show(self):\n",
    "        return f'{self.hour:*>2d}:{self.minute:*>2d}:{self.sec:*>2d}'\n",
    "    # :0>2d 意思是用*来填充空格，保证对齐  \n",
    "\n",
    "\n",
    "clock = Clock(23,59,32)\n",
    "counter = 0\n",
    "while counter <= 9:\n",
    "    print(clock.show())\n",
    "    time.sleep(1)\n",
    "    clock.run()\n",
    "    counter += 1"
   ]
  },
  {
   "cell_type": "code",
   "execution_count": null,
   "id": "9fcfdca2",
   "metadata": {},
   "outputs": [
    {
     "name": "stdout",
     "output_type": "stream",
     "text": [
      "2, 4\n",
      "4, 21\n",
      "17.11724276862369\n"
     ]
    }
   ],
   "source": [
    "# 练习2: 定义一个类描述平面上的点，要求提供计算一个点到另一个点的距离\n",
    "\n",
    "class Point(object): #这里面写不写object都行\n",
    "    \n",
    "    def __init__(self, x, y):\n",
    "        self.x, self.y = x, y\n",
    "        \n",
    "    def distance(self, other):\n",
    "    # 这个地方语法要注意，将同类other直接写在参数里，也就是将一个对象作为参数\n",
    "    # ！！！！！\n",
    "        dx = self.x - other.x\n",
    "        dy = self.y - other.y\n",
    "        return (dx ** 2 + dy ** 2) ** 0.5\n",
    "    \n",
    "    def __repr__(self):\n",
    "        return f'{self.x}, {self.y}'\n",
    "    \n",
    "p1 = Point(2,4)\n",
    "p2 = Point(4,21)\n",
    "print(p1, p2, sep='\\n')\n",
    "print(p1.distance(p2))"
   ]
  },
  {
   "cell_type": "markdown",
   "id": "73516441",
   "metadata": {},
   "source": [
    "# 18 面向对象编程进阶"
   ]
  },
  {
   "cell_type": "markdown",
   "id": "f1e40120",
   "metadata": {},
   "source": [
    "可以用__name表示一个私有属性\n",
    "\n",
    "可以用_name表示一个受保护属性"
   ]
  },
  {
   "cell_type": "code",
   "execution_count": null,
   "id": "fb4304fb",
   "metadata": {},
   "outputs": [
    {
     "name": "stdout",
     "output_type": "stream",
     "text": [
      "王大锤正在学习宏观经济学.\n",
      "王大锤\n"
     ]
    },
    {
     "ename": "AttributeError",
     "evalue": "'Student' object has no attribute '__name'",
     "output_type": "error",
     "traceback": [
      "\u001b[1;31m---------------------------------------------------------------------------\u001b[0m",
      "\u001b[1;31mAttributeError\u001b[0m                            Traceback (most recent call last)",
      "\u001b[1;32m~\\AppData\\Local\\Temp/ipykernel_18228/1047263256.py\u001b[0m in \u001b[0;36m<module>\u001b[1;34m\u001b[0m\n\u001b[0;32m     10\u001b[0m \u001b[0mstu\u001b[0m\u001b[1;33m.\u001b[0m\u001b[0mstudy\u001b[0m\u001b[1;33m(\u001b[0m\u001b[1;34m'宏观经济学'\u001b[0m\u001b[1;33m)\u001b[0m\u001b[1;33m\u001b[0m\u001b[1;33m\u001b[0m\u001b[0m\n\u001b[0;32m     11\u001b[0m \u001b[0mprint\u001b[0m\u001b[1;33m(\u001b[0m\u001b[0mstu\u001b[0m\u001b[1;33m.\u001b[0m\u001b[0m_Student__name\u001b[0m\u001b[1;33m)\u001b[0m\u001b[1;33m\u001b[0m\u001b[1;33m\u001b[0m\u001b[0m\n\u001b[1;32m---> 12\u001b[1;33m \u001b[0mprint\u001b[0m\u001b[1;33m(\u001b[0m\u001b[0mstu\u001b[0m\u001b[1;33m.\u001b[0m\u001b[0m__name\u001b[0m\u001b[1;33m)\u001b[0m\u001b[1;33m\u001b[0m\u001b[1;33m\u001b[0m\u001b[0m\n\u001b[0m",
      "\u001b[1;31mAttributeError\u001b[0m: 'Student' object has no attribute '__name'"
     ]
    }
   ],
   "source": [
    "class Student:\n",
    "    def __init__(self, name, age):\n",
    "        self.__name = name\n",
    "        self.__age = age\n",
    "\n",
    "    def study(self, course_name):\n",
    "        print(f'{self.__name}正在学习{course_name}.')\n",
    "\n",
    "stu = Student('王大锤', 20)\n",
    "stu.study('宏观经济学')\n",
    "print(stu._Student__name) # 这种方式可以查看名字，仅知道这么回事就行，按规矩来说不要这样搞\n",
    "print(stu.__name) #这种方式不可以\n"
   ]
  },
  {
   "cell_type": "markdown",
   "id": "5a19ccd3",
   "metadata": {},
   "source": [
    "注意上面的代码中，在**类的内部**，可以访问和使用__name，但是在外面想要调用的话是会报错的，这就是隐藏属性。\n",
    "\n",
    "在实际项目中，我们不常使用私有属性，属性装饰器的使用也比较少，所以简单了解一下就可以了。"
   ]
  },
  {
   "cell_type": "markdown",
   "id": "160a1a8d",
   "metadata": {},
   "source": [
    "### 动态属性\n",
    "\n",
    "由于python是一门动态语言，我们可以动态为对象添加属性，这是动态语言的一门特权。"
   ]
  },
  {
   "cell_type": "code",
   "execution_count": null,
   "id": "95d3d1ec",
   "metadata": {},
   "outputs": [],
   "source": [
    "class Student:\n",
    "    def __init__(self, name, age):\n",
    "        self.name = name\n",
    "        self.age = age\n",
    "\n",
    "stu = Student('trever', 20)\n",
    "# 为Student对象添加sex属性，不过我个人感觉这种方式不是太好，会降低代码可读性和易理解性。\n",
    "stu.sex = '男'"
   ]
  },
  {
   "cell_type": "markdown",
   "id": "32db6132",
   "metadata": {},
   "source": [
    "如果不希望在使用对象时动态的为对象添加属性，可以使用__slots__魔法函数"
   ]
  },
  {
   "cell_type": "code",
   "execution_count": null,
   "id": "3253ce94",
   "metadata": {},
   "outputs": [
    {
     "ename": "AttributeError",
     "evalue": "'Student' object has no attribute 'sex'",
     "output_type": "error",
     "traceback": [
      "\u001b[1;31m---------------------------------------------------------------------------\u001b[0m",
      "\u001b[1;31mAttributeError\u001b[0m                            Traceback (most recent call last)",
      "\u001b[1;32m~\\AppData\\Local\\Temp/ipykernel_18228/3702096657.py\u001b[0m in \u001b[0;36m<module>\u001b[1;34m\u001b[0m\n\u001b[0;32m      7\u001b[0m \u001b[1;33m\u001b[0m\u001b[0m\n\u001b[0;32m      8\u001b[0m \u001b[0mstu\u001b[0m \u001b[1;33m=\u001b[0m \u001b[0mStudent\u001b[0m\u001b[1;33m(\u001b[0m\u001b[1;34m'trever'\u001b[0m\u001b[1;33m,\u001b[0m \u001b[1;36m20\u001b[0m\u001b[1;33m)\u001b[0m\u001b[1;33m\u001b[0m\u001b[1;33m\u001b[0m\u001b[0m\n\u001b[1;32m----> 9\u001b[1;33m \u001b[0mstu\u001b[0m\u001b[1;33m.\u001b[0m\u001b[0msex\u001b[0m \u001b[1;33m=\u001b[0m \u001b[1;34m'男'\u001b[0m\u001b[1;33m\u001b[0m\u001b[1;33m\u001b[0m\u001b[0m\n\u001b[0m\u001b[0;32m     10\u001b[0m \u001b[1;31m#由于有slots的存在，这时候就不能动态添加属性了。\u001b[0m\u001b[1;33m\u001b[0m\u001b[1;33m\u001b[0m\u001b[1;33m\u001b[0m\u001b[0m\n",
      "\u001b[1;31mAttributeError\u001b[0m: 'Student' object has no attribute 'sex'"
     ]
    }
   ],
   "source": [
    "class Student:\n",
    "    __slots__ = ('name', 'age')\n",
    "\n",
    "    def __init__(self, name, age):\n",
    "        self.name = name\n",
    "        self.age = age\n",
    "\n",
    "stu = Student('trever', 20)\n",
    "stu.sex = '男'\n",
    "#由于有slots的存在，这时候就不能动态添加属性了。\n"
   ]
  },
  {
   "cell_type": "markdown",
   "id": "ee8e94da",
   "metadata": {},
   "source": [
    "### 静态方法和类方法\n",
    "\n",
    "举例说明，定义一个三角形类，通过传入三条边的长度来构造三角形，并提供计算面积和周长的方法。计算周长和面积肯定是**三角形对象的方法**。\n",
    "\n",
    "但是在创建三角形对象时，传入的三条边长未必能构造出三角形，为此我们可以先写一个方法来验证给定的三条边长是否可以构成三角形，这种方法很显然就不是对象方法，**因为在调用这个方法时三角形对象还没有创建出来。**"
   ]
  },
  {
   "cell_type": "code",
   "execution_count": 15,
   "id": "c19332f4",
   "metadata": {},
   "outputs": [
    {
     "name": "stdout",
     "output_type": "stream",
     "text": [
      "False\n"
     ]
    }
   ],
   "source": [
    "class Triangle():\n",
    "\n",
    "    def __init__(self, a, b, c):\n",
    "        self.a = a\n",
    "        self.b = b\n",
    "        self.c = c\n",
    "\n",
    "    #staticmethod\n",
    "    def is_valid(a,b,c):\n",
    "        '''判断三条边是否能组成三角形（静态方法）'''\n",
    "        return a + b > c and b + c > a and a + c > b\n",
    "\n",
    "    # #classmethod\n",
    "    # def is_valid(a,b,c):\n",
    "    #     '''判断三条边是否能组成三角形（类方法）'''\n",
    "    #     return a + b > c and b + c > a and a + c > b   \n",
    "\n",
    "    def perimeter(self):\n",
    "        \"\"\"计算周长\"\"\"\n",
    "        return self.a + self.b + self.c\n",
    "\n",
    "    def area(self):\n",
    "        \"\"\"计算面积\"\"\"\n",
    "        p = self.perimeter() / 2\n",
    "        return (p * (p - self.a) * (p - self.b) * (p - self.c)) ** 0.5     \n",
    "\n",
    "print(Triangle.is_valid(1,2,3))"
   ]
  },
  {
   "cell_type": "markdown",
   "id": "8fabbf3f",
   "metadata": {},
   "source": [
    "其实从我个人理解来看，还感觉不到静态方法到底有哪些比较特殊的作用，先作为了解吧。"
   ]
  },
  {
   "cell_type": "markdown",
   "id": "5de7b569",
   "metadata": {},
   "source": [
    "### 继承和多态\n",
    "\n",
    "面向对象的编程语言支持在**已有类的基础上创建新类**，从而减少重复代码的编写。\n",
    "\n",
    "例如，我们定义一个学生类和一个老师类，我们会发现他们有大量的重复代码，而这些重复代码都是老师和学生作为**人的公共属性和行为**，所以在这种情况下，我们应该先定义**人类**，再通过继承，从人类**派生**出老师类和学生类"
   ]
  },
  {
   "cell_type": "code",
   "execution_count": 18,
   "id": "80ef93f5",
   "metadata": {},
   "outputs": [
    {
     "name": "stdout",
     "output_type": "stream",
     "text": [
      "中一哥正在吃饭.\n",
      "罗尬博正在学习宏观经济学.\n",
      "黄启发教授正在讲授英语.\n"
     ]
    }
   ],
   "source": [
    "class Person:\n",
    "\n",
    "    def __init__(self, name, age):\n",
    "        self.name = name\n",
    "        self.age = age\n",
    "\n",
    "    def eat(self):\n",
    "        print(f'{self.name}正在吃饭.')\n",
    "\n",
    "    def sleep(self):\n",
    "        print(f'{self.name}正在睡觉.')\n",
    "\n",
    "# 继承类的写法\n",
    "class Student(Person):\n",
    "\n",
    "    def __init__(self, name, age):\n",
    "        super().__init__(name, age)\n",
    "\n",
    "    def study(self, course_name):\n",
    "        print(f'{self.name}正在学习{course_name}.')\n",
    "\n",
    "\n",
    "class Teacher(Person):\n",
    "\n",
    "    def __init__(self, name, age, title):\n",
    "        super().__init__(name,age)\n",
    "        self.title = title\n",
    "\n",
    "    def teach(self, course_name):\n",
    "        print(f'{self.name}{self.title}正在讲授{course_name}.')\n",
    "\n",
    "stu1 = Student('中一哥', 21)\n",
    "stu2 = Student('罗尬博', 27)\n",
    "teacher = Teacher('黄启发',45,'教授')\n",
    "stu1.eat()\n",
    "stu2.study('宏观经济学')\n",
    "teacher.teach('英语')"
   ]
  },
  {
   "cell_type": "markdown",
   "id": "545d688a",
   "metadata": {},
   "source": [
    "object类是python中的顶级类，所有的类都是它的子类，要么直接继承它，要么间接继承它。所以在定义新类时，后面的括号里可以写object，也可以不写。"
   ]
  }
 ],
 "metadata": {
  "interpreter": {
   "hash": "5179d32cf6ec497baf3f8a3ef987cc77c5d2dc691fdde20a56316522f61a7323"
  },
  "kernelspec": {
   "display_name": "Python 3.8.12 ('base')",
   "language": "python",
   "name": "python3"
  },
  "language_info": {
   "codemirror_mode": {
    "name": "ipython",
    "version": 3
   },
   "file_extension": ".py",
   "mimetype": "text/x-python",
   "name": "python",
   "nbconvert_exporter": "python",
   "pygments_lexer": "ipython3",
   "version": "3.8.12"
  }
 },
 "nbformat": 4,
 "nbformat_minor": 5
}
